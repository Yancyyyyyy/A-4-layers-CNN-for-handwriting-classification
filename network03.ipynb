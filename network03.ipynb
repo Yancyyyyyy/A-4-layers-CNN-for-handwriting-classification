{
 "cells": [
  {
   "cell_type": "markdown",
   "id": "de53f376",
   "metadata": {
    "code_folding": []
   },
   "source": [
    "# 引用库"
   ]
  },
  {
   "cell_type": "code",
   "execution_count": null,
   "id": "24746b31",
   "metadata": {
    "code_folding": []
   },
   "outputs": [],
   "source": [
    "#引用需要用到的库\n",
    "import torch\n",
    "import torchvision\n",
    "from torch.utils.data import DataLoader\n",
    "import torch.nn as nn\n",
    "import torch.nn.functional as F\n",
    "import torch.optim as optim\n",
    "from torch.optim import lr_scheduler\n",
    "import matplotlib.pyplot as plt\n",
    "from PIL import Image\n",
    "import matplotlib.image as image\n",
    "import cv2\n",
    "import os"
   ]
  },
  {
   "cell_type": "markdown",
   "id": "4cef442f",
   "metadata": {},
   "source": [
    "# 调用GPU"
   ]
  },
  {
   "cell_type": "code",
   "execution_count": 2,
   "id": "148bef38",
   "metadata": {
    "code_folding": []
   },
   "outputs": [
    {
     "name": "stdout",
     "output_type": "stream",
     "text": [
      "cuda\n"
     ]
    }
   ],
   "source": [
    "#调用GPU\n",
    "os.environ[\"KMP_DUPLICATE_LIB_OK\"] = \"TRUE\"\n",
    "torch.backends.cudnn.benchmark = True\n",
    "device = torch.device(\"cuda\" if torch.cuda.is_available() else \"cpu\")\n",
    "print(device)\n",
    "torch.cuda.empty_cache()"
   ]
  },
  {
   "cell_type": "markdown",
   "id": "4a7a6655",
   "metadata": {},
   "source": [
    "# 初始化变量"
   ]
  },
  {
   "cell_type": "code",
   "execution_count": 3,
   "id": "b025b747",
   "metadata": {
    "code_folding": []
   },
   "outputs": [
    {
     "data": {
      "text/plain": [
       "<torch._C.Generator at 0x2d344c8e310>"
      ]
     },
     "execution_count": 3,
     "metadata": {},
     "output_type": "execute_result"
    }
   ],
   "source": [
    "#初始变量\n",
    "n_epochs = 100 #训练3个epoch\n",
    "batch_size_train = 120 #训练的 batch_size\n",
    "batch_size_test = 1000 #测试的 batch_size\n",
    "learning_rate = 0.001 # 学习率\n",
    "momentum = 0.5 # 在梯度下降过程中解决mini-batch SGD优化算法更新幅度摆动大的问题，使得收敛速度更快\n",
    "log_interval = 10 # 操作间隔\n",
    "random_seed = 2 # 随机种子，设置后可以得到稳定的随机数\n",
    "torch.manual_seed(random_seed)"
   ]
  },
  {
   "cell_type": "markdown",
   "id": "026f58b9",
   "metadata": {},
   "source": [
    "# 导入训练集并增强数据"
   ]
  },
  {
   "cell_type": "code",
   "execution_count": null,
   "id": "c6304b90",
   "metadata": {
    "code_folding": []
   },
   "outputs": [],
   "source": [
    "#导入训练集并增强数据\n",
    "train_loader = torch.utils.data.DataLoader(\n",
    "    torchvision.datasets.MNIST('./mnist/', train=True, download=False,\n",
    "                               transform=torchvision.transforms.Compose([\n",
    "                                   #torchvision.transforms.Resize(120),\n",
    "                                   torchvision.transforms.RandomAffine(degrees =0,translate=(0.1, 0.1)),\n",
    "                                   torchvision.transforms.RandomRotation((-10,10)),#将图片随机旋转（-10,10）度\n",
    "                                   torchvision.transforms.ToTensor(),# 将PIL图片或者numpy.ndarray转成Tensor类型\n",
    "                                   torchvision.transforms.Normalize((0.1307,), (0.3081,))])\n",
    "                              ),\n",
    "    batch_size=batch_size_train, shuffle=True,num_workers=4, pin_memory=True) # shuffle如果为true,每个训练epoch后，会将数据顺序打乱"
   ]
  },
  {
   "cell_type": "markdown",
   "id": "41e4af56",
   "metadata": {},
   "source": [
    "# 导入测试集"
   ]
  },
  {
   "cell_type": "code",
   "execution_count": 5,
   "id": "80d22b9d",
   "metadata": {
    "code_folding": []
   },
   "outputs": [],
   "source": [
    "#导入测试集\n",
    "test_loader = torch.utils.data.DataLoader(\n",
    "    torchvision.datasets.MNIST('./mnist/', train=False, download=False,\n",
    "                               transform=torchvision.transforms.Compose([\n",
    "                                   torchvision.transforms.ToTensor(),\n",
    "                                   torchvision.transforms.Normalize((0.1307,), (0.3081,))])\n",
    "                              ),\n",
    "    batch_size=batch_size_test, shuffle=True,num_workers=4, pin_memory=True)"
   ]
  },
  {
   "cell_type": "code",
   "execution_count": 6,
   "id": "d5597dfa",
   "metadata": {
    "code_folding": []
   },
   "outputs": [
    {
     "name": "stdout",
     "output_type": "stream",
     "text": [
      "Dataset MNIST\n",
      "    Number of datapoints: 60000\n",
      "    Root location: ./mnist/\n",
      "    Split: Train\n",
      "    StandardTransform\n",
      "Transform: Compose(\n",
      "               RandomAffine(degrees=[0.0, 0.0], translate=(0.1, 0.1))\n",
      "               RandomRotation(degrees=[-10.0, 10.0], resample=False, expand=False)\n",
      "               ToTensor()\n",
      "               Normalize(mean=(0.1307,), std=(0.3081,))\n",
      "           )\n",
      "Dataset MNIST\n",
      "    Number of datapoints: 10000\n",
      "    Root location: ./mnist/\n",
      "    Split: Test\n",
      "    StandardTransform\n",
      "Transform: Compose(\n",
      "               ToTensor()\n",
      "               Normalize(mean=(0.1307,), std=(0.3081,))\n",
      "           )\n"
     ]
    }
   ],
   "source": [
    "# 训练数据 60000 张图像；测试数据 10000张图像\n",
    "print(train_loader.dataset)\n",
    "print(test_loader.dataset)"
   ]
  },
  {
   "cell_type": "code",
   "execution_count": 71,
   "id": "35a5e6ec",
   "metadata": {
    "code_folding": []
   },
   "outputs": [
    {
     "name": "stdout",
     "output_type": "stream",
     "text": [
      "tensor([8, 8, 0, 8, 9, 8, 1, 0, 6, 9, 3, 1, 8, 3, 8, 2, 4, 6, 2, 9, 8, 2, 8, 7,\n",
      "        1, 8, 3, 9, 5, 3, 3, 9, 7, 0, 4, 8, 0, 2, 4, 1, 4, 6, 2, 0, 6, 2, 3, 4,\n",
      "        1, 2, 2, 4, 5, 5, 1, 0, 3, 1, 4, 4, 2, 9, 7, 7, 4, 1, 2, 9, 8, 8, 0, 6,\n",
      "        3, 9, 8, 8, 0, 7, 4, 9, 8, 6, 9, 7, 7, 1, 2, 7, 4, 4, 5, 5, 2, 5, 1, 1,\n",
      "        7, 5, 8, 6, 6, 0, 3, 2, 9, 1, 0, 1, 1, 9, 8, 6, 1, 1, 0, 3, 7, 1, 9, 9,\n",
      "        5, 7, 0, 9, 5, 4, 6, 1, 8, 3, 0, 7, 7, 4, 0, 6, 2, 2, 6, 4, 6, 9, 6, 3,\n",
      "        4, 3, 2, 3, 5, 4, 4, 1, 0, 2, 4, 4, 9, 4, 1, 0, 4, 4, 6, 6, 4, 3, 5, 2,\n",
      "        5, 2, 9, 6, 3, 0, 6, 9, 6, 4, 3, 8, 1, 3, 5, 5, 0, 4, 1, 1, 9, 0, 0, 4,\n",
      "        8, 9, 2, 0, 6, 5, 4, 0, 3, 2, 8, 2, 6, 6, 2, 2, 2, 9, 3, 6, 4, 4, 3, 7,\n",
      "        3, 3, 6, 5, 4, 6, 3, 6, 9, 6, 5, 4, 8, 4, 0, 9, 1, 0, 6, 7, 6, 5, 7, 9,\n",
      "        9, 6, 4, 3, 2, 7, 9, 5, 8, 5, 0, 8, 5, 9, 5, 2, 1, 6, 0, 8, 1, 3, 2, 2,\n",
      "        5, 7, 7, 6, 5, 6, 8, 0, 7, 7, 4, 0, 3, 3, 5, 6, 0, 7, 1, 9, 6, 9, 2, 7,\n",
      "        3, 6, 9, 9, 9, 6, 2, 4, 1, 3, 8, 1, 3, 3, 9, 0, 3, 8, 4, 4, 2, 0, 9, 4,\n",
      "        9, 5, 8, 5, 4, 0, 4, 9, 1, 9, 8, 0, 7, 2, 8, 0, 8, 2, 5, 9, 4, 8, 4, 8,\n",
      "        2, 3, 4, 9, 6, 0, 1, 4, 8, 3, 8, 0, 3, 1, 5, 0, 6, 4, 7, 3, 8, 8, 5, 8,\n",
      "        0, 5, 5, 5, 0, 9, 7, 5, 5, 6, 6, 8, 2, 8, 1, 7, 2, 7, 3, 0, 2, 3, 8, 6,\n",
      "        0, 9, 5, 1, 0, 7, 4, 1, 4, 5, 6, 5, 7, 6, 5, 6, 2, 7, 9, 9, 6, 4, 5, 6,\n",
      "        7, 1, 1, 1, 2, 0, 8, 9, 2, 4, 3, 3, 5, 0, 0, 5, 6, 5, 1, 9, 3, 7, 7, 3,\n",
      "        5, 6, 5, 9, 7, 2, 0, 8, 3, 7, 9, 5, 4, 1, 7, 3, 9, 5, 8, 1, 2, 2, 3, 1,\n",
      "        0, 2, 9, 2, 1, 0, 7, 2, 1, 8, 8, 5, 9, 8, 8, 1, 0, 6, 8, 9, 1, 2, 1, 2,\n",
      "        9, 1, 8, 7, 1, 2, 3, 3, 5, 7, 3, 7, 4, 4, 5, 6, 4, 1, 1, 8, 1, 9, 6, 2,\n",
      "        9, 9, 2, 2, 6, 8, 2, 7, 1, 1, 1, 3, 8, 5, 7, 2, 7, 2, 4, 1, 9, 2, 3, 3,\n",
      "        5, 3, 0, 8, 0, 6, 3, 4, 3, 0, 1, 9, 3, 5, 9, 5, 0, 1, 8, 9, 4, 8, 8, 0,\n",
      "        1, 4, 4, 8, 6, 3, 5, 9, 0, 9, 5, 6, 9, 6, 5, 1, 2, 1, 2, 1, 4, 7, 6, 8,\n",
      "        1, 3, 2, 5, 2, 3, 2, 3, 4, 7, 7, 5, 2, 8, 2, 1, 9, 7, 5, 0, 5, 7, 2, 3,\n",
      "        6, 1, 8, 5, 8, 2, 8, 1, 2, 0, 8, 3, 1, 7, 6, 9, 2, 3, 1, 8, 0, 5, 1, 2,\n",
      "        4, 5, 7, 9, 3, 9, 6, 8, 2, 1, 4, 7, 5, 3, 2, 2, 7, 3, 4, 6, 2, 2, 9, 8,\n",
      "        7, 8, 4, 3, 7, 2, 8, 6, 3, 6, 2, 8, 6, 0, 7, 9, 6, 7, 5, 7, 4, 4, 0, 2,\n",
      "        2, 4, 9, 1, 8, 1, 2, 6, 6, 1, 8, 8, 3, 5, 8, 3, 3, 0, 9, 9, 1, 4, 6, 7,\n",
      "        5, 8, 3, 3, 3, 3, 8, 3, 8, 7, 8, 0, 2, 9, 2, 9, 4, 5, 5, 1, 6, 7, 4, 8,\n",
      "        0, 7, 6, 7, 5, 1, 7, 9, 9, 3, 2, 1, 0, 3, 9, 4, 2, 8, 0, 9, 9, 1, 1, 1,\n",
      "        0, 8, 4, 4, 8, 0, 3, 0, 5, 7, 1, 9, 9, 9, 2, 2, 7, 4, 3, 8, 7, 6, 7, 4,\n",
      "        2, 6, 7, 0, 5, 0, 2, 8, 8, 5, 4, 4, 3, 2, 4, 9, 2, 8, 8, 6, 5, 0, 7, 9,\n",
      "        9, 2, 7, 8, 5, 5, 8, 9, 5, 7, 6, 5, 7, 5, 7, 1, 9, 0, 3, 0, 3, 8, 8, 9,\n",
      "        7, 8, 2, 9, 1, 1, 2, 1, 9, 8, 1, 6, 2, 1, 2, 6, 7, 2, 4, 4, 5, 2, 0, 3,\n",
      "        8, 3, 7, 1, 8, 4, 1, 7, 9, 9, 2, 1, 9, 4, 5, 4, 2, 2, 2, 0, 0, 0, 5, 2,\n",
      "        0, 4, 6, 9, 3, 0, 8, 7, 2, 6, 7, 5, 7, 2, 1, 9, 8, 5, 6, 0, 8, 6, 9, 2,\n",
      "        2, 6, 8, 7, 6, 8, 8, 2, 9, 1, 6, 4, 6, 1, 9, 0, 9, 2, 8, 5, 5, 3, 9, 1,\n",
      "        0, 1, 1, 4, 8, 1, 8, 2, 1, 7, 9, 8, 9, 1, 1, 7, 5, 5, 3, 1, 4, 0, 3, 9,\n",
      "        6, 0, 7, 3, 4, 3, 1, 4, 2, 8, 9, 5, 4, 8, 1, 4, 6, 5, 7, 1, 2, 6, 1, 8,\n",
      "        8, 9, 6, 0, 0, 7, 6, 7, 9, 4, 4, 1, 0, 1, 1, 7, 4, 4, 5, 6, 3, 0, 4, 1,\n",
      "        0, 1, 7, 4, 3, 5, 9, 2, 7, 3, 5, 6, 9, 9, 5, 0])\n",
      "torch.Size([1000, 1, 28, 28])\n"
     ]
    }
   ],
   "source": [
    "# 用 enumerate 加载测试集\n",
    "examples = enumerate(test_loader)\n",
    "# 获取一个 batch\n",
    "batch_idx, (example_data, example_targets) = next(examples)\n",
    "# 查看 batch 数据，有10000张图像的标签，tensor 大小为 [1000, 1, 28, 28]\n",
    "# 即图像为 28 * 28， 1个颜色通道（灰度图）， 1000张图像\n",
    "print(example_targets)\n",
    "print(example_data.shape)"
   ]
  },
  {
   "cell_type": "code",
   "execution_count": 8,
   "id": "66461218",
   "metadata": {
    "code_folding": [
     2
    ]
   },
   "outputs": [
    {
     "data": {
      "image/png": "[encoded data removed]",
      "text/plain": [
       "<Figure size 432x288 with 6 Axes>"
      ]
     },
     "metadata": {},
     "output_type": "display_data"
    }
   ],
   "source": [
    "#查看部分图片\n",
    "fig = plt.figure()\n",
    "for i in range(6):\n",
    "    plt.subplot(2,3,i+1)# 创建 subplot\n",
    "    plt.tight_layout()\n",
    "    plt.imshow(example_data[i][0], cmap='gray', interpolation='none')\n",
    "    plt.title(\"Label: {}\".format(example_targets[i]))\n",
    "    plt.xticks([])\n",
    "    plt.yticks([])\n",
    "plt.show()"
   ]
  },
  {
   "cell_type": "code",
   "execution_count": 73,
   "id": "175adb9a",
   "metadata": {
    "code_folding": []
   },
   "outputs": [
    {
     "data": {
      "text/plain": [
       "tensor([[-0.4242, -0.4242, -0.4242, -0.4242, -0.4242, -0.4242, -0.4242, -0.4242,\n",
       "         -0.4242, -0.4242, -0.4242, -0.4242, -0.4242, -0.4242, -0.4242, -0.4242,\n",
       "         -0.4242, -0.4242, -0.4242, -0.4242, -0.4242, -0.4242, -0.4242, -0.4242,\n",
       "         -0.4242, -0.4242, -0.4242, -0.4242],\n",
       "        [-0.4242, -0.4242, -0.4242, -0.4242, -0.4242, -0.4242, -0.4242, -0.4242,\n",
       "         -0.4242, -0.4242, -0.4242, -0.4242, -0.4242, -0.4242, -0.4242, -0.4242,\n",
       "         -0.4242, -0.4242, -0.4242, -0.4242, -0.4242, -0.4242, -0.4242, -0.4242,\n",
       "         -0.4242, -0.4242, -0.4242, -0.4242],\n",
       "        [-0.4242, -0.4242, -0.4242, -0.4242, -0.4242, -0.4242, -0.4242, -0.4242,\n",
       "         -0.4242, -0.4242, -0.4242, -0.4242, -0.4242, -0.4242, -0.4242, -0.4242,\n",
       "         -0.4242, -0.4242, -0.4242, -0.4242, -0.4242, -0.4242, -0.4242, -0.4242,\n",
       "         -0.4242, -0.4242, -0.4242, -0.4242],\n",
       "        [-0.4242, -0.4242, -0.4242, -0.4242, -0.4242, -0.4242, -0.4242, -0.4242,\n",
       "         -0.4242, -0.4242, -0.4242, -0.4242, -0.4242, -0.4242, -0.4242, -0.4242,\n",
       "         -0.4242, -0.4242, -0.4242, -0.4242, -0.4242, -0.4242, -0.4242, -0.4242,\n",
       "         -0.4242, -0.4242, -0.4242, -0.4242],\n",
       "        [-0.4242, -0.4242, -0.4242, -0.4242, -0.4242, -0.4242, -0.4242, -0.4242,\n",
       "         -0.4242, -0.4242, -0.4242, -0.4242, -0.4242, -0.4242, -0.4242, -0.4242,\n",
       "         -0.4242, -0.4242, -0.4242, -0.4242, -0.4242, -0.4242, -0.4242, -0.4242,\n",
       "         -0.4242, -0.4242, -0.4242, -0.4242],\n",
       "        [-0.4242, -0.4242, -0.4242, -0.4242, -0.4242, -0.4242, -0.4242, -0.4242,\n",
       "          1.7141,  2.8088,  2.7960,  1.5614,  1.4596,  1.4596,  1.4596,  1.4596,\n",
       "          1.3450,  0.1231,  0.1231, -0.4242, -0.4242, -0.4242, -0.4242, -0.4242,\n",
       "         -0.4242, -0.4242, -0.4242, -0.4242],\n",
       "        [-0.4242, -0.4242, -0.4242, -0.4242, -0.4242, -0.4242, -0.4242, -0.4242,\n",
       "          1.3577,  1.9051,  2.7833,  2.7833,  2.7833,  2.7833,  2.7960,  2.7833,\n",
       "          2.7833,  2.7833,  2.7833,  0.5940, -0.4242, -0.4242, -0.4242, -0.4242,\n",
       "         -0.4242, -0.4242, -0.4242, -0.4242],\n",
       "        [-0.4242, -0.4242, -0.4242, -0.4242, -0.4242, -0.4242, -0.4242, -0.4242,\n",
       "         -0.4242, -0.1060,  0.0213, -0.1569, -0.1569, -0.1569, -0.1569, -0.1569,\n",
       "          0.5177,  1.1795,  2.5287,  2.1596, -0.4242, -0.4242, -0.4242, -0.4242,\n",
       "         -0.4242, -0.4242, -0.4242, -0.4242],\n",
       "        [-0.4242, -0.4242, -0.4242, -0.4242, -0.4242, -0.4242, -0.4242, -0.4242,\n",
       "         -0.4242,  2.7960,  1.7141, -0.4242, -0.4242, -0.4242, -0.4242, -0.4242,\n",
       "         -0.4242, -0.4242,  2.2614,  2.2614, -0.4242, -0.4242, -0.4242, -0.4242,\n",
       "         -0.4242, -0.4242, -0.4242, -0.4242],\n",
       "        [-0.4242, -0.4242, -0.4242, -0.4242, -0.4242, -0.4242, -0.4242, -0.4242,\n",
       "         -0.4242,  2.2360,  2.1596, -0.3097, -0.4242, -0.4242, -0.4242, -0.4242,\n",
       "         -0.4242, -0.0806,  2.4778,  1.7014, -0.4242, -0.4242, -0.4242, -0.4242,\n",
       "         -0.4242, -0.4242, -0.4242, -0.4242],\n",
       "        [-0.4242, -0.4242, -0.4242, -0.4242, -0.4242, -0.4242, -0.4242, -0.4242,\n",
       "         -0.4242,  0.5940,  2.6687,  2.0069, -0.2460, -0.4242, -0.4242, -0.4242,\n",
       "         -0.2587,  2.3505,  2.7960,  0.7086, -0.4242, -0.4242, -0.4242, -0.4242,\n",
       "         -0.4242, -0.4242, -0.4242, -0.4242],\n",
       "        [-0.4242, -0.4242, -0.4242, -0.4242, -0.4242, -0.4242, -0.4242, -0.4242,\n",
       "         -0.4242, -0.4242,  0.6322,  2.7069,  2.2614, -0.0169, -0.4242, -0.4242,\n",
       "          0.3013,  2.7833,  2.3378, -0.4242, -0.4242, -0.4242, -0.4242, -0.4242,\n",
       "         -0.4242, -0.4242, -0.4242, -0.4242],\n",
       "        [-0.4242, -0.4242, -0.4242, -0.4242, -0.4242, -0.4242, -0.4242, -0.4242,\n",
       "         -0.4242, -0.4242, -0.4242,  0.6068,  2.6942,  2.0069, -0.3097,  0.1231,\n",
       "          2.5542,  2.7197,  0.1740, -0.4242, -0.4242, -0.4242, -0.4242, -0.4242,\n",
       "         -0.4242, -0.4242, -0.4242, -0.4242],\n",
       "        [-0.4242, -0.4242, -0.4242, -0.4242, -0.4242, -0.4242, -0.4242, -0.4242,\n",
       "         -0.4242, -0.4242, -0.4242, -0.4242,  0.6322,  2.6560,  2.1723,  2.0832,\n",
       "          2.7197,  0.8232, -0.4242, -0.4242, -0.4242, -0.4242, -0.4242, -0.4242,\n",
       "         -0.4242, -0.4242, -0.4242, -0.4242],\n",
       "        [-0.4242, -0.4242, -0.4242, -0.4242, -0.4242, -0.4242, -0.4242, -0.4242,\n",
       "         -0.4242, -0.4242, -0.4242, -0.4242, -0.4242,  0.5813,  2.7960,  2.7833,\n",
       "          1.9560, -0.4242, -0.4242, -0.4242, -0.4242, -0.4242, -0.4242, -0.4242,\n",
       "         -0.4242, -0.4242, -0.4242, -0.4242],\n",
       "        [-0.4242, -0.4242, -0.4242, -0.4242, -0.4242, -0.4242, -0.4242, -0.4242,\n",
       "         -0.4242, -0.4242, -0.4242, -0.4242, -0.4242,  0.5940,  2.8215,  2.7960,\n",
       "          2.6942,  0.4286, -0.4242, -0.4242, -0.4242, -0.4242, -0.4242, -0.4242,\n",
       "         -0.4242, -0.4242, -0.4242, -0.4242],\n",
       "        [-0.4242, -0.4242, -0.4242, -0.4242, -0.4242, -0.4242, -0.4242, -0.4242,\n",
       "         -0.4242, -0.4242, -0.4242, -0.4242, -0.1442,  2.4396,  2.7960,  1.9814,\n",
       "          2.7069,  2.5924, -0.0169, -0.4242, -0.4242, -0.4242, -0.4242, -0.4242,\n",
       "         -0.4242, -0.4242, -0.4242, -0.4242],\n",
       "        [-0.4242, -0.4242, -0.4242, -0.4242, -0.4242, -0.4242, -0.4242, -0.4242,\n",
       "         -0.4242, -0.4242, -0.4242, -0.3988,  1.1541,  2.7833,  1.6250, -0.3606,\n",
       "          1.1923,  2.7833,  2.0069, -0.3097, -0.4242, -0.4242, -0.4242, -0.4242,\n",
       "         -0.4242, -0.4242, -0.4242, -0.4242],\n",
       "        [-0.4242, -0.4242, -0.4242, -0.4242, -0.4242, -0.4242, -0.4242, -0.4242,\n",
       "         -0.4242, -0.4242, -0.4242, -0.1442,  2.7833,  2.7833,  0.0213, -0.4242,\n",
       "         -0.3351,  2.0705,  2.7833,  0.9250, -0.4242, -0.4242, -0.4242, -0.4242,\n",
       "         -0.4242, -0.4242, -0.4242, -0.4242],\n",
       "        [-0.4242, -0.4242, -0.4242, -0.4242, -0.4242, -0.4242, -0.4242, -0.4242,\n",
       "         -0.4242, -0.4242, -0.4242,  0.9759,  2.7833,  1.1159, -0.4242, -0.4242,\n",
       "         -0.4242,  0.6068,  2.7833,  0.9250, -0.4242, -0.4242, -0.4242, -0.4242,\n",
       "         -0.4242, -0.4242, -0.4242, -0.4242],\n",
       "        [-0.4242, -0.4242, -0.4242, -0.4242, -0.4242, -0.4242, -0.4242, -0.4242,\n",
       "         -0.4242, -0.4242, -0.4242,  1.9814,  2.7960,  0.1104, -0.4242, -0.4242,\n",
       "         -0.3733,  0.7977,  2.7960,  0.9377, -0.4242, -0.4242, -0.4242, -0.4242,\n",
       "         -0.4242, -0.4242, -0.4242, -0.4242],\n",
       "        [-0.4242, -0.4242, -0.4242, -0.4242, -0.4242, -0.4242, -0.4242, -0.4242,\n",
       "         -0.4242, -0.4242,  0.3904,  2.7197,  2.5160, -0.0678, -0.4242, -0.4242,\n",
       "          0.7468,  2.7833,  2.7833,  0.4795, -0.4242, -0.4242, -0.4242, -0.4242,\n",
       "         -0.4242, -0.4242, -0.4242, -0.4242],\n",
       "        [-0.4242, -0.4242, -0.4242, -0.4242, -0.4242, -0.4242, -0.4242, -0.4242,\n",
       "         -0.4242, -0.4242,  0.6577,  2.7833,  2.0451, -0.1442,  0.6450,  2.1978,\n",
       "          2.7706,  2.7197,  0.8359, -0.4242, -0.4242, -0.4242, -0.4242, -0.4242,\n",
       "         -0.4242, -0.4242, -0.4242, -0.4242],\n",
       "        [-0.4242, -0.4242, -0.4242, -0.4242, -0.4242, -0.4242, -0.4242, -0.4242,\n",
       "         -0.4242, -0.4242,  0.3904,  2.7197,  2.7833,  2.7833,  2.7960,  2.7833,\n",
       "          2.2742,  0.3777, -0.4242, -0.4242, -0.4242, -0.4242, -0.4242, -0.4242,\n",
       "         -0.4242, -0.4242, -0.4242, -0.4242],\n",
       "        [-0.4242, -0.4242, -0.4242, -0.4242, -0.4242, -0.4242, -0.4242, -0.4242,\n",
       "         -0.4242, -0.4242, -0.4242,  0.8486,  2.7833,  2.7833,  1.4468,  1.0013,\n",
       "         -0.1569, -0.4242, -0.4242, -0.4242, -0.4242, -0.4242, -0.4242, -0.4242,\n",
       "         -0.4242, -0.4242, -0.4242, -0.4242],\n",
       "        [-0.4242, -0.4242, -0.4242, -0.4242, -0.4242, -0.4242, -0.4242, -0.4242,\n",
       "         -0.4242, -0.4242, -0.4242, -0.4242, -0.4242, -0.4242, -0.4242, -0.4242,\n",
       "         -0.4242, -0.4242, -0.4242, -0.4242, -0.4242, -0.4242, -0.4242, -0.4242,\n",
       "         -0.4242, -0.4242, -0.4242, -0.4242],\n",
       "        [-0.4242, -0.4242, -0.4242, -0.4242, -0.4242, -0.4242, -0.4242, -0.4242,\n",
       "         -0.4242, -0.4242, -0.4242, -0.4242, -0.4242, -0.4242, -0.4242, -0.4242,\n",
       "         -0.4242, -0.4242, -0.4242, -0.4242, -0.4242, -0.4242, -0.4242, -0.4242,\n",
       "         -0.4242, -0.4242, -0.4242, -0.4242],\n",
       "        [-0.4242, -0.4242, -0.4242, -0.4242, -0.4242, -0.4242, -0.4242, -0.4242,\n",
       "         -0.4242, -0.4242, -0.4242, -0.4242, -0.4242, -0.4242, -0.4242, -0.4242,\n",
       "         -0.4242, -0.4242, -0.4242, -0.4242, -0.4242, -0.4242, -0.4242, -0.4242,\n",
       "         -0.4242, -0.4242, -0.4242, -0.4242]])"
      ]
     },
     "execution_count": 73,
     "metadata": {},
     "output_type": "execute_result"
    }
   ],
   "source": [
    "example_data[1][0]"
   ]
  },
  {
   "cell_type": "markdown",
   "id": "b6ee8daf",
   "metadata": {},
   "source": [
    "# model模型结构"
   ]
  },
  {
   "cell_type": "code",
   "execution_count": 10,
   "id": "e64346e2",
   "metadata": {
    "code_folding": []
   },
   "outputs": [],
   "source": [
    "#model\n",
    "class CNNModel(nn.Module):\n",
    "    def __init__(self):\n",
    "        super(CNNModel, self).__init__()\n",
    "        \n",
    "        # Convolution layer 1\n",
    "        self.conv1 = nn.Conv2d(in_channels = 1 , out_channels = 64, kernel_size = 5, stride = 1, padding = 2 )\n",
    "        self.relu1 = nn.ReLU()\n",
    "        self.batch1 = nn.BatchNorm2d(64)\n",
    "        \n",
    "        self.conv2 = nn.Conv2d(in_channels =64 , out_channels = 64, kernel_size = 5, stride = 1, padding = 2 )\n",
    "        self.relu2 = nn.ReLU()\n",
    "        self.batch2 = nn.BatchNorm2d(64)\n",
    "        self.maxpool1 = nn.MaxPool2d(kernel_size = 2, stride = 2)\n",
    "        self.drop1 = nn.Dropout(0.25)\n",
    "\n",
    "        # Convolution layer 2\n",
    "        self.conv3 = nn.Conv2d(in_channels = 64, out_channels = 64, kernel_size = 3, stride = 1, padding = 1 )\n",
    "        self.relu3 = nn.ReLU()\n",
    "        self.batch3 = nn.BatchNorm2d(64)\n",
    "        \n",
    "        self.conv4 = nn.Conv2d(in_channels = 64, out_channels = 64, kernel_size = 3, stride = 1, padding = 1 )\n",
    "        self.relu4 = nn.ReLU()\n",
    "        self.batch4 = nn.BatchNorm2d(64)\n",
    "        self.maxpool2 = nn.MaxPool2d(kernel_size = 2, stride = 2)\n",
    "        self.drop2 = nn.Dropout(0.25)\n",
    "        \n",
    "        self.conv5 = nn.Conv2d(in_channels = 64, out_channels = 64, kernel_size = 3, stride = 1, padding = 1 )\n",
    "        self.relu5 = nn.ReLU()\n",
    "        self.batch5 = nn.BatchNorm2d(64)\n",
    "        self.drop3 = nn.Dropout(0.25)\n",
    "        \n",
    "        # Fully-Connected layer 1\n",
    "        \n",
    "        self.fc1 = nn.Linear(3136,256)\n",
    "        self.fc1_relu = nn.ReLU()\n",
    "        self.batch5 = nn.BatchNorm2d(64)\n",
    "        self.dp1 = nn.Dropout(0.25)\n",
    "        \n",
    "        # Fully-Connected layer 2\n",
    "        self.fc2 = nn.Linear(256,10)\n",
    "        \n",
    "        '''\n",
    "        ###############################################\n",
    "        # Reinitialize weights using He initialization\n",
    "        ###############################################\n",
    "        for m in self.modules():\n",
    "             if isinstance(m, nn.Conv2d):\n",
    "                 nn.init.kaiming_normal_(m.weight, mode='fan_out', nonlinearity='relu')\n",
    "             elif isinstance(m, nn.BatchNorm2d):\n",
    "                 nn.init.constant_(m.weight, 1)\n",
    "                 nn.init.constant_(m.bias, 0)\n",
    "             elif isinstance(m, nn.Linear):\n",
    "                 nn.init.xavier_normal_(m.weight)\n",
    "                 nn.init.constant_(m.bias, 0)\n",
    "        '''\n",
    "                \n",
    "    def forward(self, x):\n",
    "        # conv layer 1 的前向计算，3行代码\n",
    "        out = self.conv1(x)\n",
    "        out = self.relu1(out)\n",
    "        out = self.batch1(out)\n",
    "        \n",
    "        out = self.conv2(out)\n",
    "        out = self.relu2(out)\n",
    "        out = self.batch2(out)\n",
    "        \n",
    "        out = self.maxpool1(out)\n",
    "        out = self.drop1(out)\n",
    "\n",
    "        # conv layer 2 的前向计算，4行代码\n",
    "        out = self.conv3(out)\n",
    "        out = self.relu3(out)\n",
    "        out = self.batch3(out)\n",
    "        \n",
    "        out = self.conv4(out)\n",
    "        out = self.relu4(out)\n",
    "        out = self.batch4(out)\n",
    "        \n",
    "        out = self.maxpool2(out)\n",
    "        out = self.drop2(out)\n",
    "        \n",
    "        out = self.conv5(out)\n",
    "        out = self.relu5(out)\n",
    "        out = self.batch5(out)\n",
    "        out = self.drop3(out)\n",
    "\n",
    "        #Flatten拉平操作\n",
    "        out = out.view(out.size(0),-1)\n",
    "\n",
    "        #FC layer的前向计算（2行代码）\n",
    "        out = self.fc1(out)\n",
    "        out = self.fc1_relu(out)\n",
    "        out = self.dp1(out)\n",
    "        \n",
    "        out = self.fc2(out)\n",
    "\n",
    "        return F.log_softmax(out,dim = 1)"
   ]
  },
  {
   "cell_type": "markdown",
   "id": "8067a320",
   "metadata": {},
   "source": [
    "# 权值初始化"
   ]
  },
  {
   "cell_type": "code",
   "execution_count": 11,
   "id": "ac4430e4",
   "metadata": {
    "code_folding": []
   },
   "outputs": [],
   "source": [
    "#权值初始化\n",
    "def weight_init(m):\n",
    "    # 1. 根据网络层的不同定义不同的初始化方式  \n",
    "    if isinstance(m, nn.Conv2d):\n",
    "        nn.init.kaiming_normal_(m.weight, mode='fan_out', nonlinearity='relu')\n",
    "    '''\n",
    "    elif isinstance(m, nn.Linear):\n",
    "        nn.init.xavier_normal_(m.weight)\n",
    "        nn.init.constant_(m.bias, 0)\n",
    "    elif isinstance(m, nn.BatchNorm2d):\n",
    "        nn.init.constant_(m.weight, 1)\n",
    "        nn.init.constant_(m.bias, 0)\n",
    "    '''   "
   ]
  },
  {
   "cell_type": "markdown",
   "id": "a3d620ba",
   "metadata": {},
   "source": [
    "# 实例化网络并设置优化器"
   ]
  },
  {
   "cell_type": "code",
   "execution_count": 12,
   "id": "06e5a634",
   "metadata": {
    "code_folding": []
   },
   "outputs": [],
   "source": [
    "# 实例化一个网络\n",
    "network = CNNModel()\n",
    "network.to(device)\n",
    "network.apply(weight_init)\n",
    "# 设置优化器，用stochastic gradient descent，设置学习率，设置momentum\n",
    "#optimizer = optim.SGD(network.parameters(), lr=learning_rate, momentum=momentum)\n",
    "#optimizer = optim.Adam(network.parameters(), lr=learning_rate)\n",
    "optimizer = optim.RMSprop(network.parameters(),lr=learning_rate,alpha=0.99,momentum = momentum)\n",
    "scheduler = lr_scheduler.ReduceLROnPlateau(optimizer, mode='max', factor=0.5, patience=3, verbose=True, threshold=0.000001, threshold_mode='rel', cooldown=0, min_lr=0, eps=1e-10)"
   ]
  },
  {
   "cell_type": "markdown",
   "id": "0dd7f44c",
   "metadata": {},
   "source": [
    "* torch.optim.lr_scheduler.ReduceLROnPlateau:该方法提供了一些基于训练过程中的某些测量值对学习率进行动态的下降.\n",
    "* optimer指的是网络的优化器\n",
    "* mode (str) ，可选择‘min’或者‘max’，min表示当监控量停止下降的时候，学习率将减小，max表示当监控量停止上升的时候，学习率将减小。默认值为‘min’\n",
    "* factor 学习率每次降低多少，new_lr = old_lr * factor\n",
    "* patience=10，容忍网路的性能不提升的次数，高于这个次数就降低学习率\n",
    "* verbose（bool） - 如果为True，则为每次更新向stdout输出一条消息。 默认值：False\n",
    "* threshold（float） - 测量新最佳值的阈值，仅关注重大变化。 默认值：1e-4\n",
    "* cooldown： 减少lr后恢复正常操作之前要等待的时期数。 默认值：0。\n",
    "*min_lr,学习率的下限\n",
    "* eps ，适用于lr的最小衰减。 如果新旧lr之间的差异小于eps，则忽略更新。 默认值：1e-8。"
   ]
  },
  {
   "cell_type": "markdown",
   "id": "db1c470c",
   "metadata": {},
   "source": [
    "# 查看模型的识别能力"
   ]
  },
  {
   "cell_type": "code",
   "execution_count": 13,
   "id": "286bea7d",
   "metadata": {
    "code_folding": []
   },
   "outputs": [
    {
     "data": {
      "image/png": "[encoded data removed]",
      "text/plain": [
       "<Figure size 432x288 with 6 Axes>"
      ]
     },
     "metadata": {},
     "output_type": "display_data"
    }
   ],
   "source": [
    "# 先看一下模型的识别能力\n",
    "# 可以看到没有经过训练的模型在测试集上的表现是很差的，所有的图像几乎都识别错了\n",
    "examples = enumerate(test_loader)\n",
    "batch_idx, (example_data, example_targets) = next(examples)\n",
    "with torch.no_grad():\n",
    "    output = network(example_data.to(device))\n",
    "fig = plt.figure()\n",
    "for i in range(6):\n",
    "    plt.subplot(2,3,i+1)\n",
    "    plt.tight_layout()\n",
    "    plt.imshow(example_data[i][0], cmap='gray', interpolation='none')\n",
    "    plt.title(\"Classification Result: {}\".format(\n",
    "        output.data.max(1, keepdim=True)[1][i].item()))\n",
    "    plt.xticks([])\n",
    "    plt.yticks([])\n",
    "plt.show()"
   ]
  },
  {
   "cell_type": "markdown",
   "id": "325ce5dd",
   "metadata": {},
   "source": [
    "# 定义列表存储数据"
   ]
  },
  {
   "cell_type": "code",
   "execution_count": 14,
   "id": "1b90b8e0",
   "metadata": {
    "code_folding": []
   },
   "outputs": [],
   "source": [
    "#定义列表存储数据\n",
    "train_losses = []\n",
    "train_counter = []\n",
    "train_acces = []\n",
    "test_losses = []\n",
    "test_counter = [i*len(train_loader.dataset) for i in range(n_epochs + 1)]\n",
    "test_acces = []"
   ]
  },
  {
   "cell_type": "markdown",
   "id": "f09085aa",
   "metadata": {},
   "source": [
    "# 定义训练函数"
   ]
  },
  {
   "cell_type": "code",
   "execution_count": 15,
   "id": "4c12b414",
   "metadata": {
    "code_folding": []
   },
   "outputs": [],
   "source": [
    "# 定义训练函数\n",
    "def train(epoch):\n",
    "    \n",
    "    network.train() # 将网络设为 training 模式\n",
    "    train_correct = 0\n",
    "    # 对一组 batch \n",
    "    for batch_idx, (data, target) in enumerate(train_loader): \n",
    "        # 通过enumerate获取batch_id, data, and label\n",
    "        # 1-将梯度归零\n",
    "        optimizer.zero_grad()\n",
    "        \n",
    "        # 2-传入一个batch的图像，并前向计算\n",
    "        output = network(data.to(device))\n",
    "        \n",
    "        # 3-计算损失\n",
    "        loss = F.nll_loss(output, target.to(device))\n",
    "        \n",
    "        # 4-反向传播\n",
    "        loss.backward()\n",
    "        \n",
    "        # 5-优化参数\n",
    "        optimizer.step()\n",
    "        #exp_lr_scheduler.step()\n",
    "        \n",
    "        \n",
    "        train_pred = output.data.max(dim=1, keepdim=True)[1] # 取 output 里最大的那个类别, \n",
    "             # dim = 1表示去每行的最大值，[1]表示取最大值的index，而不去最大值本身[0]    \n",
    "\n",
    "        train_correct += train_pred.eq(target.data.view_as(train_pred).to(device)).sum() # 比较并求正确分类的个数\n",
    "        \n",
    "        print('\\r 第 {} 次 Train Epoch: [{}/{} ({:.0f}%)]\\tLoss: {:.6f}'.format(\n",
    "                epoch, (batch_idx + 1) * len(data), len(train_loader.dataset),\n",
    "                100. * batch_idx / len(train_loader), loss.item()),end = '')\n",
    "\n",
    "        # 每第10个batch (log_interval = 10)\n",
    "        if batch_idx  % log_interval == 0:\n",
    "            #print(batch_idx)\n",
    "            #打印以下信息：第几个epoch，第几张图像， 总训练图像数, 完成百分比，目前的loss\n",
    "            '''print('\\r 第 {} 次 Train Epoch: [{}/{} ({:.0f}%)]\\tLoss: {:.6f}'.format(\n",
    "                epoch, (batch_idx + 1) * len(data), len(train_loader.dataset),\n",
    "                100. * batch_idx / len(train_loader), loss.item()),end = '')\n",
    "            '''\n",
    "            # 把目前的 loss加入到 train_losses,后期画图用\n",
    "            train_losses.append(loss.item())\n",
    "            # 计数\n",
    "            train_counter.append(\n",
    "                (batch_idx*64) + ((epoch-1)*len(train_loader.dataset)))\n",
    "            '''\n",
    "            # 每个batch训练完后保存模型 \n",
    "            torch.save(network.state_dict(), './model.pth')\n",
    "\n",
    "            # 每个batch训练完后保存优化器\n",
    "            torch.save(optimizer.state_dict(), './optimizer.pth')\n",
    "            '''\n",
    "    \n",
    "    train_acc = train_correct / len(train_loader.dataset)\n",
    "    train_acces.append(train_acc.cpu().numpy().tolist())\n",
    "    print('\\tTrain Accuracy:{:.2f}%'.format(100. * train_acc))"
   ]
  },
  {
   "cell_type": "markdown",
   "id": "7429b0ef",
   "metadata": {},
   "source": [
    "# 定义测试函数"
   ]
  },
  {
   "cell_type": "code",
   "execution_count": 16,
   "id": "9cbf6b88",
   "metadata": {
    "code_folding": []
   },
   "outputs": [],
   "source": [
    "# 定义测试函数\n",
    "def test(epoch):\n",
    "    network.eval() # 将网络设为 evaluating 模式\n",
    "    test_loss = 0\n",
    "    correct = 0\n",
    "    with torch.no_grad():\n",
    "        for data, target in test_loader:\n",
    "            output = network(data.to(device)) # 传入这一组 batch，进行前向计算\n",
    "            #test_loss += F.nll_loss(output, target, size_average=False).item()\n",
    "            test_loss += F.nll_loss(output, target.to(device), reduction='sum').item()\n",
    "\n",
    "            pred = output.data.max(dim=1, keepdim=True)[1] # 取 output 里最大的那个类别, \n",
    "             # dim = 1表示去每行的最大值，[1]表示取最大值的index，而不去最大值本身[0]    \n",
    "\n",
    "            correct += pred.eq(target.data.view_as(pred).to(device)).sum() # 比较并求正确分类的个数\n",
    "    acc = correct / len(test_loader.dataset)\n",
    "    test_acces.append(acc.cpu().numpy().tolist())\n",
    "    \n",
    "    test_loss /= len(test_loader.dataset) # 平均 loss， len 为 10000\n",
    "    test_losses.append(test_loss) # 记录该 epoch 下的 test_loss\n",
    "    \n",
    "    if test_acces[-1] >= max(test_acces):\n",
    "        # 每个batch训练完后保存模型 \n",
    "        torch.save(network.state_dict(), './model03.pth')\n",
    "\n",
    "        # 每个batch训练完后保存优化器\n",
    "        torch.save(optimizer.state_dict(), './optimizer03.pth')\n",
    "        \n",
    "        torch.cuda.empty_cache()\n",
    "    \n",
    "    # 打印相关信息 如：Test set: Avg. loss: 2.3129, Accuracy: 1205/10000 (12%)\n",
    "    '''\n",
    "    print('\\rTest set: Avg. loss: {:.4f}, Accuracy: {}/{} ({:.2f}%)\\n'.format(\n",
    "        test_loss, correct, len(test_loader.dataset),\n",
    "        100. * correct / len(test_loader.dataset)),end = '')\n",
    "    '''\n",
    "    print('\\r Test set \\033[1;31m{}\\033[0m : Avg. loss: {:.4f}, Accuracy: {}/{}  \\033[1;31m({:.2f}%)\\033[0m\\n'\\\n",
    "          .format(epoch,test_loss, correct,len(test_loader.dataset),100. * acc),end = '') "
   ]
  },
  {
   "cell_type": "code",
   "execution_count": 17,
   "id": "fd72d81c",
   "metadata": {
    "code_folding": []
   },
   "outputs": [
    {
     "name": "stdout",
     "output_type": "stream",
     "text": [
      "\r",
      " Test set \u001b[1;31m1\u001b[0m : Avg. loss: 2.3024, Accuracy: 1013/10000  \u001b[1;31m(10.13%)\u001b[0m\n"
     ]
    }
   ],
   "source": [
    "# 先看一下模型的识别能力，可以看到没有经过训练的模型在测试集上的表现是很差的，大概只有10%左右的正确识别率\n",
    "test(1)"
   ]
  },
  {
   "cell_type": "markdown",
   "id": "63673b2d",
   "metadata": {},
   "source": [
    "# 训练模型"
   ]
  },
  {
   "cell_type": "code",
   "execution_count": 18,
   "id": "8ba24669",
   "metadata": {
    "code_folding": []
   },
   "outputs": [
    {
     "name": "stdout",
     "output_type": "stream",
     "text": [
      " 第 1 次 Train Epoch: [60000/60000 (100%)]\tLoss: 0.128292\tTrain Accuracy:91.00%\n",
      " Test set \u001b[1;31m1\u001b[0m : Avg. loss: 0.0482, Accuracy: 9853/10000  \u001b[1;31m(98.53%)\u001b[0m\n",
      " 第 2 次 Train Epoch: [60000/60000 (100%)]\tLoss: 0.148180\tTrain Accuracy:97.03%\n",
      " Test set \u001b[1;31m2\u001b[0m : Avg. loss: 0.0305, Accuracy: 9906/10000  \u001b[1;31m(99.06%)\u001b[0m\n",
      " 第 3 次 Train Epoch: [60000/60000 (100%)]\tLoss: 0.027762\tTrain Accuracy:97.58%\n",
      " Test set \u001b[1;31m3\u001b[0m : Avg. loss: 0.0276, Accuracy: 9922/10000  \u001b[1;31m(99.22%)\u001b[0m\n",
      " 第 4 次 Train Epoch: [60000/60000 (100%)]\tLoss: 0.026813\tTrain Accuracy:97.88%\n",
      " Test set \u001b[1;31m4\u001b[0m : Avg. loss: 0.0259, Accuracy: 9929/10000  \u001b[1;31m(99.29%)\u001b[0m\n",
      " 第 5 次 Train Epoch: [60000/60000 (100%)]\tLoss: 0.087106\tTrain Accuracy:98.13%\n",
      " Test set \u001b[1;31m5\u001b[0m : Avg. loss: 0.0310, Accuracy: 9914/10000  \u001b[1;31m(99.14%)\u001b[0m\n",
      " 第 6 次 Train Epoch: [60000/60000 (100%)]\tLoss: 0.097555\tTrain Accuracy:98.29%\n",
      " Test set \u001b[1;31m6\u001b[0m : Avg. loss: 0.0277, Accuracy: 9934/10000  \u001b[1;31m(99.34%)\u001b[0m\n",
      " 第 7 次 Train Epoch: [60000/60000 (100%)]\tLoss: 0.045887\tTrain Accuracy:98.43%\n",
      " Test set \u001b[1;31m7\u001b[0m : Avg. loss: 0.0221, Accuracy: 9944/10000  \u001b[1;31m(99.44%)\u001b[0m\n",
      " 第 8 次 Train Epoch: [60000/60000 (100%)]\tLoss: 0.004843\tTrain Accuracy:98.51%\n",
      " Test set \u001b[1;31m8\u001b[0m : Avg. loss: 0.0200, Accuracy: 9946/10000  \u001b[1;31m(99.46%)\u001b[0m\n",
      " 第 9 次 Train Epoch: [60000/60000 (100%)]\tLoss: 0.052064\tTrain Accuracy:98.58%\n",
      " Test set \u001b[1;31m9\u001b[0m : Avg. loss: 0.0159, Accuracy: 9954/10000  \u001b[1;31m(99.54%)\u001b[0m\n",
      " 第 10 次 Train Epoch: [60000/60000 (100%)]\tLoss: 0.007904\tTrain Accuracy:98.69%\n",
      " Test set \u001b[1;31m10\u001b[0m : Avg. loss: 0.0182, Accuracy: 9955/10000  \u001b[1;31m(99.55%)\u001b[0m\n",
      " 第 11 次 Train Epoch: [60000/60000 (100%)]\tLoss: 0.048550\tTrain Accuracy:98.67%\n",
      " Test set \u001b[1;31m11\u001b[0m : Avg. loss: 0.0205, Accuracy: 9948/10000  \u001b[1;31m(99.48%)\u001b[0m\n",
      " 第 12 次 Train Epoch: [60000/60000 (100%)]\tLoss: 0.035681\tTrain Accuracy:98.78%\n",
      " Test set \u001b[1;31m12\u001b[0m : Avg. loss: 0.0203, Accuracy: 9948/10000  \u001b[1;31m(99.48%)\u001b[0m\n",
      " 第 13 次 Train Epoch: [60000/60000 (100%)]\tLoss: 0.015427\tTrain Accuracy:98.82%\n",
      " Test set \u001b[1;31m13\u001b[0m : Avg. loss: 0.0193, Accuracy: 9944/10000  \u001b[1;31m(99.44%)\u001b[0m\n",
      " 第 14 次 Train Epoch: [60000/60000 (100%)]\tLoss: 0.042838\tTrain Accuracy:98.88%\n",
      " Test set \u001b[1;31m14\u001b[0m : Avg. loss: 0.0194, Accuracy: 9943/10000  \u001b[1;31m(99.43%)\u001b[0m\n",
      "Epoch    15: reducing learning rate of group 0 to 5.0000e-04.\n",
      " 第 15 次 Train Epoch: [60000/60000 (100%)]\tLoss: 0.001168\tTrain Accuracy:99.23%\n",
      " Test set \u001b[1;31m15\u001b[0m : Avg. loss: 0.0112, Accuracy: 9963/10000  \u001b[1;31m(99.63%)\u001b[0m\n",
      " 第 16 次 Train Epoch: [60000/60000 (100%)]\tLoss: 0.004114\tTrain Accuracy:99.25%\n",
      " Test set \u001b[1;31m16\u001b[0m : Avg. loss: 0.0165, Accuracy: 9956/10000  \u001b[1;31m(99.56%)\u001b[0m\n",
      " 第 17 次 Train Epoch: [60000/60000 (100%)]\tLoss: 0.027640\tTrain Accuracy:99.30%\n",
      " Test set \u001b[1;31m17\u001b[0m : Avg. loss: 0.0120, Accuracy: 9960/10000  \u001b[1;31m(99.60%)\u001b[0m\n",
      " 第 18 次 Train Epoch: [60000/60000 (100%)]\tLoss: 0.029113\tTrain Accuracy:99.28%\n",
      " Test set \u001b[1;31m18\u001b[0m : Avg. loss: 0.0116, Accuracy: 9964/10000  \u001b[1;31m(99.64%)\u001b[0m\n",
      " 第 19 次 Train Epoch: [60000/60000 (100%)]\tLoss: 0.039968\tTrain Accuracy:99.28%\n",
      " Test set \u001b[1;31m19\u001b[0m : Avg. loss: 0.0118, Accuracy: 9964/10000  \u001b[1;31m(99.64%)\u001b[0m\n",
      " 第 20 次 Train Epoch: [60000/60000 (100%)]\tLoss: 0.005179\tTrain Accuracy:99.30%\n",
      " Test set \u001b[1;31m20\u001b[0m : Avg. loss: 0.0105, Accuracy: 9964/10000  \u001b[1;31m(99.64%)\u001b[0m\n",
      " 第 21 次 Train Epoch: [60000/60000 (100%)]\tLoss: 0.022245\tTrain Accuracy:99.37%\n",
      " Test set \u001b[1;31m21\u001b[0m : Avg. loss: 0.0085, Accuracy: 9977/10000  \u001b[1;31m(99.77%)\u001b[0m\n",
      " 第 22 次 Train Epoch: [60000/60000 (100%)]\tLoss: 0.086154\tTrain Accuracy:99.36%\n",
      " Test set \u001b[1;31m22\u001b[0m : Avg. loss: 0.0110, Accuracy: 9961/10000  \u001b[1;31m(99.61%)\u001b[0m\n",
      " 第 23 次 Train Epoch: [60000/60000 (100%)]\tLoss: 0.021431\tTrain Accuracy:99.34%\n",
      " Test set \u001b[1;31m23\u001b[0m : Avg. loss: 0.0119, Accuracy: 9967/10000  \u001b[1;31m(99.67%)\u001b[0m\n",
      " 第 24 次 Train Epoch: [60000/60000 (100%)]\tLoss: 0.003590\tTrain Accuracy:99.36%\n",
      " Test set \u001b[1;31m24\u001b[0m : Avg. loss: 0.0138, Accuracy: 9960/10000  \u001b[1;31m(99.60%)\u001b[0m\n",
      " 第 25 次 Train Epoch: [60000/60000 (100%)]\tLoss: 0.010813\tTrain Accuracy:99.36%\n",
      " Test set \u001b[1;31m25\u001b[0m : Avg. loss: 0.0115, Accuracy: 9966/10000  \u001b[1;31m(99.66%)\u001b[0m\n",
      "Epoch    26: reducing learning rate of group 0 to 2.5000e-04.\n",
      " 第 26 次 Train Epoch: [60000/60000 (100%)]\tLoss: 0.003190\tTrain Accuracy:99.49%\n",
      " Test set \u001b[1;31m26\u001b[0m : Avg. loss: 0.0116, Accuracy: 9962/10000  \u001b[1;31m(99.62%)\u001b[0m\n",
      " 第 27 次 Train Epoch: [60000/60000 (100%)]\tLoss: 0.014343\tTrain Accuracy:99.50%\n",
      " Test set \u001b[1;31m27\u001b[0m : Avg. loss: 0.0093, Accuracy: 9967/10000  \u001b[1;31m(99.67%)\u001b[0m\n",
      " 第 28 次 Train Epoch: [60000/60000 (100%)]\tLoss: 0.000042\tTrain Accuracy:99.52%\n",
      " Test set \u001b[1;31m28\u001b[0m : Avg. loss: 0.0120, Accuracy: 9966/10000  \u001b[1;31m(99.66%)\u001b[0m\n",
      " 第 29 次 Train Epoch: [60000/60000 (100%)]\tLoss: 0.046457\tTrain Accuracy:99.53%\n",
      " Test set \u001b[1;31m29\u001b[0m : Avg. loss: 0.0116, Accuracy: 9965/10000  \u001b[1;31m(99.65%)\u001b[0m\n",
      "Epoch    30: reducing learning rate of group 0 to 1.2500e-04.\n",
      " 第 30 次 Train Epoch: [60000/60000 (100%)]\tLoss: 0.002439\tTrain Accuracy:99.59%\n",
      " Test set \u001b[1;31m30\u001b[0m : Avg. loss: 0.0099, Accuracy: 9967/10000  \u001b[1;31m(99.67%)\u001b[0m\n",
      " 第 31 次 Train Epoch: [60000/60000 (100%)]\tLoss: 0.049573\tTrain Accuracy:99.55%\n",
      " Test set \u001b[1;31m31\u001b[0m : Avg. loss: 0.0095, Accuracy: 9966/10000  \u001b[1;31m(99.66%)\u001b[0m\n",
      " 第 32 次 Train Epoch: [60000/60000 (100%)]\tLoss: 0.001456\tTrain Accuracy:99.60%\n",
      " Test set \u001b[1;31m32\u001b[0m : Avg. loss: 0.0101, Accuracy: 9966/10000  \u001b[1;31m(99.66%)\u001b[0m\n",
      " 第 33 次 Train Epoch: [60000/60000 (100%)]\tLoss: 0.001260\tTrain Accuracy:99.61%\n",
      " Test set \u001b[1;31m33\u001b[0m : Avg. loss: 0.0115, Accuracy: 9969/10000  \u001b[1;31m(99.69%)\u001b[0m\n",
      "Epoch    34: reducing learning rate of group 0 to 6.2500e-05.\n",
      " 第 34 次 Train Epoch: [60000/60000 (100%)]\tLoss: 0.021853\tTrain Accuracy:99.67%\n",
      " Test set \u001b[1;31m34\u001b[0m : Avg. loss: 0.0102, Accuracy: 9968/10000  \u001b[1;31m(99.68%)\u001b[0m\n",
      " 第 35 次 Train Epoch: [60000/60000 (100%)]\tLoss: 0.001460\tTrain Accuracy:99.65%\n",
      " Test set \u001b[1;31m35\u001b[0m : Avg. loss: 0.0104, Accuracy: 9968/10000  \u001b[1;31m(99.68%)\u001b[0m\n",
      " 第 36 次 Train Epoch: [60000/60000 (100%)]\tLoss: 0.003988\tTrain Accuracy:99.59%\n",
      " Test set \u001b[1;31m36\u001b[0m : Avg. loss: 0.0102, Accuracy: 9967/10000  \u001b[1;31m(99.67%)\u001b[0m\n",
      " 第 37 次 Train Epoch: [60000/60000 (100%)]\tLoss: 0.033889\tTrain Accuracy:99.64%\n",
      " Test set \u001b[1;31m37\u001b[0m : Avg. loss: 0.0101, Accuracy: 9970/10000  \u001b[1;31m(99.70%)\u001b[0m\n",
      "Epoch    38: reducing learning rate of group 0 to 3.1250e-05.\n",
      " 第 38 次 Train Epoch: [60000/60000 (100%)]\tLoss: 0.037118\tTrain Accuracy:99.66%\n",
      " Test set \u001b[1;31m38\u001b[0m : Avg. loss: 0.0101, Accuracy: 9969/10000  \u001b[1;31m(99.69%)\u001b[0m\n",
      " 第 39 次 Train Epoch: [60000/60000 (100%)]\tLoss: 0.008874\tTrain Accuracy:99.64%\n",
      " Test set \u001b[1;31m39\u001b[0m : Avg. loss: 0.0098, Accuracy: 9968/10000  \u001b[1;31m(99.68%)\u001b[0m\n",
      " 第 40 次 Train Epoch: [60000/60000 (100%)]\tLoss: 0.031172\tTrain Accuracy:99.66%\n",
      " Test set \u001b[1;31m40\u001b[0m : Avg. loss: 0.0100, Accuracy: 9969/10000  \u001b[1;31m(99.69%)\u001b[0m\n",
      " 第 41 次 Train Epoch: [60000/60000 (100%)]\tLoss: 0.000339\tTrain Accuracy:99.71%\n",
      " Test set \u001b[1;31m41\u001b[0m : Avg. loss: 0.0100, Accuracy: 9970/10000  \u001b[1;31m(99.70%)\u001b[0m\n",
      "Epoch    42: reducing learning rate of group 0 to 1.5625e-05.\n",
      " 第 42 次 Train Epoch: [60000/60000 (100%)]\tLoss: 0.034269\tTrain Accuracy:99.65%\n",
      " Test set \u001b[1;31m42\u001b[0m : Avg. loss: 0.0101, Accuracy: 9970/10000  \u001b[1;31m(99.70%)\u001b[0m\n",
      " 第 43 次 Train Epoch: [60000/60000 (100%)]\tLoss: 0.047394\tTrain Accuracy:99.67%\n",
      " Test set \u001b[1;31m43\u001b[0m : Avg. loss: 0.0102, Accuracy: 9973/10000  \u001b[1;31m(99.73%)\u001b[0m\n",
      " 第 44 次 Train Epoch: [60000/60000 (100%)]\tLoss: 0.004222\tTrain Accuracy:99.66%\n",
      " Test set \u001b[1;31m44\u001b[0m : Avg. loss: 0.0102, Accuracy: 9969/10000  \u001b[1;31m(99.69%)\u001b[0m\n",
      " 第 45 次 Train Epoch: [60000/60000 (100%)]\tLoss: 0.000906\tTrain Accuracy:99.68%\n",
      " Test set \u001b[1;31m45\u001b[0m : Avg. loss: 0.0099, Accuracy: 9972/10000  \u001b[1;31m(99.72%)\u001b[0m\n",
      "Epoch    46: reducing learning rate of group 0 to 7.8125e-06.\n",
      " 第 46 次 Train Epoch: [60000/60000 (100%)]\tLoss: 0.000397\tTrain Accuracy:99.66%\n",
      " Test set \u001b[1;31m46\u001b[0m : Avg. loss: 0.0100, Accuracy: 9972/10000  \u001b[1;31m(99.72%)\u001b[0m\n",
      " 第 47 次 Train Epoch: [60000/60000 (100%)]\tLoss: 0.000106\tTrain Accuracy:99.66%\n",
      " Test set \u001b[1;31m47\u001b[0m : Avg. loss: 0.0100, Accuracy: 9971/10000  \u001b[1;31m(99.71%)\u001b[0m\n"
     ]
    },
    {
     "name": "stdout",
     "output_type": "stream",
     "text": [
      " 第 48 次 Train Epoch: [60000/60000 (100%)]\tLoss: 0.002196\tTrain Accuracy:99.65%\n",
      " Test set \u001b[1;31m48\u001b[0m : Avg. loss: 0.0100, Accuracy: 9971/10000  \u001b[1;31m(99.71%)\u001b[0m\n",
      " 第 49 次 Train Epoch: [60000/60000 (100%)]\tLoss: 0.023840\tTrain Accuracy:99.64%\n",
      " Test set \u001b[1;31m49\u001b[0m : Avg. loss: 0.0098, Accuracy: 9973/10000  \u001b[1;31m(99.73%)\u001b[0m\n",
      "Epoch    50: reducing learning rate of group 0 to 3.9063e-06.\n",
      " 第 50 次 Train Epoch: [60000/60000 (100%)]\tLoss: 0.038830\tTrain Accuracy:99.68%\n",
      " Test set \u001b[1;31m50\u001b[0m : Avg. loss: 0.0098, Accuracy: 9971/10000  \u001b[1;31m(99.71%)\u001b[0m\n",
      " 第 51 次 Train Epoch: [60000/60000 (100%)]\tLoss: 0.010257\tTrain Accuracy:99.63%\n",
      " Test set \u001b[1;31m51\u001b[0m : Avg. loss: 0.0098, Accuracy: 9972/10000  \u001b[1;31m(99.72%)\u001b[0m\n",
      " 第 52 次 Train Epoch: [60000/60000 (100%)]\tLoss: 0.104352\tTrain Accuracy:99.68%\n",
      " Test set \u001b[1;31m52\u001b[0m : Avg. loss: 0.0099, Accuracy: 9969/10000  \u001b[1;31m(99.69%)\u001b[0m\n",
      " 第 53 次 Train Epoch: [60000/60000 (100%)]\tLoss: 0.040582\tTrain Accuracy:99.68%\n",
      " Test set \u001b[1;31m53\u001b[0m : Avg. loss: 0.0099, Accuracy: 9972/10000  \u001b[1;31m(99.72%)\u001b[0m\n",
      "Epoch    54: reducing learning rate of group 0 to 1.9531e-06.\n",
      " 第 54 次 Train Epoch: [60000/60000 (100%)]\tLoss: 0.013914\tTrain Accuracy:99.69%\n",
      " Test set \u001b[1;31m54\u001b[0m : Avg. loss: 0.0099, Accuracy: 9972/10000  \u001b[1;31m(99.72%)\u001b[0m\n",
      " 第 55 次 Train Epoch: [60000/60000 (100%)]\tLoss: 0.004006\tTrain Accuracy:99.70%\n",
      " Test set \u001b[1;31m55\u001b[0m : Avg. loss: 0.0098, Accuracy: 9972/10000  \u001b[1;31m(99.72%)\u001b[0m\n",
      " 第 56 次 Train Epoch: [60000/60000 (100%)]\tLoss: 0.003482\tTrain Accuracy:99.65%\n",
      " Test set \u001b[1;31m56\u001b[0m : Avg. loss: 0.0098, Accuracy: 9969/10000  \u001b[1;31m(99.69%)\u001b[0m\n",
      " 第 57 次 Train Epoch: [60000/60000 (100%)]\tLoss: 0.074419\tTrain Accuracy:99.63%\n",
      " Test set \u001b[1;31m57\u001b[0m : Avg. loss: 0.0099, Accuracy: 9969/10000  \u001b[1;31m(99.69%)\u001b[0m\n",
      "Epoch    58: reducing learning rate of group 0 to 9.7656e-07.\n",
      " 第 58 次 Train Epoch: [60000/60000 (100%)]\tLoss: 0.073663\tTrain Accuracy:99.67%\n",
      " Test set \u001b[1;31m58\u001b[0m : Avg. loss: 0.0099, Accuracy: 9970/10000  \u001b[1;31m(99.70%)\u001b[0m\n",
      " 第 59 次 Train Epoch: [60000/60000 (100%)]\tLoss: 0.000787\tTrain Accuracy:99.68%\n",
      " Test set \u001b[1;31m59\u001b[0m : Avg. loss: 0.0098, Accuracy: 9972/10000  \u001b[1;31m(99.72%)\u001b[0m\n",
      " 第 60 次 Train Epoch: [60000/60000 (100%)]\tLoss: 0.021711\tTrain Accuracy:99.69%\n",
      " Test set \u001b[1;31m60\u001b[0m : Avg. loss: 0.0099, Accuracy: 9970/10000  \u001b[1;31m(99.70%)\u001b[0m\n",
      " 第 61 次 Train Epoch: [60000/60000 (100%)]\tLoss: 0.071308\tTrain Accuracy:99.68%\n",
      " Test set \u001b[1;31m61\u001b[0m : Avg. loss: 0.0099, Accuracy: 9970/10000  \u001b[1;31m(99.70%)\u001b[0m\n",
      "Epoch    62: reducing learning rate of group 0 to 4.8828e-07.\n",
      " 第 62 次 Train Epoch: [60000/60000 (100%)]\tLoss: 0.000348\tTrain Accuracy:99.63%\n",
      " Test set \u001b[1;31m62\u001b[0m : Avg. loss: 0.0099, Accuracy: 9972/10000  \u001b[1;31m(99.72%)\u001b[0m\n",
      " 第 63 次 Train Epoch: [60000/60000 (100%)]\tLoss: 0.000735\tTrain Accuracy:99.67%\n",
      " Test set \u001b[1;31m63\u001b[0m : Avg. loss: 0.0098, Accuracy: 9971/10000  \u001b[1;31m(99.71%)\u001b[0m\n",
      " 第 64 次 Train Epoch: [60000/60000 (100%)]\tLoss: 0.010773\tTrain Accuracy:99.65%\n",
      " Test set \u001b[1;31m64\u001b[0m : Avg. loss: 0.0098, Accuracy: 9972/10000  \u001b[1;31m(99.72%)\u001b[0m\n",
      " 第 65 次 Train Epoch: [60000/60000 (100%)]\tLoss: 0.005509\tTrain Accuracy:99.64%\n",
      " Test set \u001b[1;31m65\u001b[0m : Avg. loss: 0.0098, Accuracy: 9970/10000  \u001b[1;31m(99.70%)\u001b[0m\n",
      "Epoch    66: reducing learning rate of group 0 to 2.4414e-07.\n",
      " 第 66 次 Train Epoch: [60000/60000 (100%)]\tLoss: 0.000992\tTrain Accuracy:99.65%\n",
      " Test set \u001b[1;31m66\u001b[0m : Avg. loss: 0.0098, Accuracy: 9971/10000  \u001b[1;31m(99.71%)\u001b[0m\n",
      " 第 67 次 Train Epoch: [60000/60000 (100%)]\tLoss: 0.000619\tTrain Accuracy:99.72%\n",
      " Test set \u001b[1;31m67\u001b[0m : Avg. loss: 0.0098, Accuracy: 9972/10000  \u001b[1;31m(99.72%)\u001b[0m\n",
      " 第 68 次 Train Epoch: [60000/60000 (100%)]\tLoss: 0.016431\tTrain Accuracy:99.67%\n",
      " Test set \u001b[1;31m68\u001b[0m : Avg. loss: 0.0098, Accuracy: 9971/10000  \u001b[1;31m(99.71%)\u001b[0m\n",
      " 第 69 次 Train Epoch: [60000/60000 (100%)]\tLoss: 0.000183\tTrain Accuracy:99.69%\n",
      " Test set \u001b[1;31m69\u001b[0m : Avg. loss: 0.0098, Accuracy: 9971/10000  \u001b[1;31m(99.71%)\u001b[0m\n",
      "Epoch    70: reducing learning rate of group 0 to 1.2207e-07.\n",
      " 第 70 次 Train Epoch: [60000/60000 (100%)]\tLoss: 0.001096\tTrain Accuracy:99.65%\n",
      " Test set \u001b[1;31m70\u001b[0m : Avg. loss: 0.0099, Accuracy: 9971/10000  \u001b[1;31m(99.71%)\u001b[0m\n",
      " 第 71 次 Train Epoch: [60000/60000 (100%)]\tLoss: 0.002168\tTrain Accuracy:99.72%\n",
      " Test set \u001b[1;31m71\u001b[0m : Avg. loss: 0.0098, Accuracy: 9972/10000  \u001b[1;31m(99.72%)\u001b[0m\n",
      " 第 72 次 Train Epoch: [60000/60000 (100%)]\tLoss: 0.009611\tTrain Accuracy:99.66%\n",
      " Test set \u001b[1;31m72\u001b[0m : Avg. loss: 0.0098, Accuracy: 9972/10000  \u001b[1;31m(99.72%)\u001b[0m\n",
      " 第 73 次 Train Epoch: [60000/60000 (100%)]\tLoss: 0.003079\tTrain Accuracy:99.71%\n",
      " Test set \u001b[1;31m73\u001b[0m : Avg. loss: 0.0098, Accuracy: 9970/10000  \u001b[1;31m(99.70%)\u001b[0m\n",
      "Epoch    74: reducing learning rate of group 0 to 6.1035e-08.\n",
      " 第 74 次 Train Epoch: [60000/60000 (100%)]\tLoss: 0.001923\tTrain Accuracy:99.67%\n",
      " Test set \u001b[1;31m74\u001b[0m : Avg. loss: 0.0098, Accuracy: 9971/10000  \u001b[1;31m(99.71%)\u001b[0m\n",
      " 第 75 次 Train Epoch: [60000/60000 (100%)]\tLoss: 0.029662\tTrain Accuracy:99.66%\n",
      " Test set \u001b[1;31m75\u001b[0m : Avg. loss: 0.0099, Accuracy: 9969/10000  \u001b[1;31m(99.69%)\u001b[0m\n",
      " 第 76 次 Train Epoch: [60000/60000 (100%)]\tLoss: 0.001161\tTrain Accuracy:99.67%\n",
      " Test set \u001b[1;31m76\u001b[0m : Avg. loss: 0.0097, Accuracy: 9971/10000  \u001b[1;31m(99.71%)\u001b[0m\n",
      " 第 77 次 Train Epoch: [60000/60000 (100%)]\tLoss: 0.006726\tTrain Accuracy:99.69%\n",
      " Test set \u001b[1;31m77\u001b[0m : Avg. loss: 0.0099, Accuracy: 9970/10000  \u001b[1;31m(99.70%)\u001b[0m\n",
      "Epoch    78: reducing learning rate of group 0 to 3.0518e-08.\n",
      " 第 78 次 Train Epoch: [60000/60000 (100%)]\tLoss: 0.003496\tTrain Accuracy:99.64%\n",
      " Test set \u001b[1;31m78\u001b[0m : Avg. loss: 0.0099, Accuracy: 9971/10000  \u001b[1;31m(99.71%)\u001b[0m\n",
      " 第 79 次 Train Epoch: [60000/60000 (100%)]\tLoss: 0.037298\tTrain Accuracy:99.67%\n",
      " Test set \u001b[1;31m79\u001b[0m : Avg. loss: 0.0099, Accuracy: 9971/10000  \u001b[1;31m(99.71%)\u001b[0m\n",
      " 第 80 次 Train Epoch: [60000/60000 (100%)]\tLoss: 0.000652\tTrain Accuracy:99.64%\n",
      " Test set \u001b[1;31m80\u001b[0m : Avg. loss: 0.0098, Accuracy: 9970/10000  \u001b[1;31m(99.70%)\u001b[0m\n",
      " 第 81 次 Train Epoch: [60000/60000 (100%)]\tLoss: 0.000254\tTrain Accuracy:99.66%\n",
      " Test set \u001b[1;31m81\u001b[0m : Avg. loss: 0.0099, Accuracy: 9972/10000  \u001b[1;31m(99.72%)\u001b[0m\n",
      "Epoch    82: reducing learning rate of group 0 to 1.5259e-08.\n",
      " 第 82 次 Train Epoch: [60000/60000 (100%)]\tLoss: 0.003733\tTrain Accuracy:99.68%\n",
      " Test set \u001b[1;31m82\u001b[0m : Avg. loss: 0.0098, Accuracy: 9972/10000  \u001b[1;31m(99.72%)\u001b[0m\n",
      " 第 83 次 Train Epoch: [60000/60000 (100%)]\tLoss: 0.005046\tTrain Accuracy:99.64%\n",
      " Test set \u001b[1;31m83\u001b[0m : Avg. loss: 0.0098, Accuracy: 9972/10000  \u001b[1;31m(99.72%)\u001b[0m\n",
      " 第 84 次 Train Epoch: [60000/60000 (100%)]\tLoss: 0.000203\tTrain Accuracy:99.62%\n",
      " Test set \u001b[1;31m84\u001b[0m : Avg. loss: 0.0098, Accuracy: 9970/10000  \u001b[1;31m(99.70%)\u001b[0m\n",
      " 第 85 次 Train Epoch: [60000/60000 (100%)]\tLoss: 0.000507\tTrain Accuracy:99.67%\n",
      " Test set \u001b[1;31m85\u001b[0m : Avg. loss: 0.0098, Accuracy: 9971/10000  \u001b[1;31m(99.71%)\u001b[0m\n",
      "Epoch    86: reducing learning rate of group 0 to 7.6294e-09.\n",
      " 第 86 次 Train Epoch: [60000/60000 (100%)]\tLoss: 0.000183\tTrain Accuracy:99.66%\n",
      " Test set \u001b[1;31m86\u001b[0m : Avg. loss: 0.0099, Accuracy: 9972/10000  \u001b[1;31m(99.72%)\u001b[0m\n",
      " 第 87 次 Train Epoch: [60000/60000 (100%)]\tLoss: 0.017092\tTrain Accuracy:99.65%\n",
      " Test set \u001b[1;31m87\u001b[0m : Avg. loss: 0.0098, Accuracy: 9971/10000  \u001b[1;31m(99.71%)\u001b[0m\n",
      " 第 88 次 Train Epoch: [60000/60000 (100%)]\tLoss: 0.005333\tTrain Accuracy:99.70%\n",
      " Test set \u001b[1;31m88\u001b[0m : Avg. loss: 0.0099, Accuracy: 9971/10000  \u001b[1;31m(99.71%)\u001b[0m\n",
      " 第 89 次 Train Epoch: [60000/60000 (100%)]\tLoss: 0.049210\tTrain Accuracy:99.66%\n",
      " Test set \u001b[1;31m89\u001b[0m : Avg. loss: 0.0099, Accuracy: 9973/10000  \u001b[1;31m(99.73%)\u001b[0m\n",
      "Epoch    90: reducing learning rate of group 0 to 3.8147e-09.\n",
      " 第 90 次 Train Epoch: [60000/60000 (100%)]\tLoss: 0.002423\tTrain Accuracy:99.69%\n",
      " Test set \u001b[1;31m90\u001b[0m : Avg. loss: 0.0099, Accuracy: 9970/10000  \u001b[1;31m(99.70%)\u001b[0m\n",
      " 第 91 次 Train Epoch: [60000/60000 (100%)]\tLoss: 0.003439\tTrain Accuracy:99.66%\n",
      " Test set \u001b[1;31m91\u001b[0m : Avg. loss: 0.0097, Accuracy: 9972/10000  \u001b[1;31m(99.72%)\u001b[0m\n",
      " 第 92 次 Train Epoch: [60000/60000 (100%)]\tLoss: 0.001766\tTrain Accuracy:99.68%\n",
      " Test set \u001b[1;31m92\u001b[0m : Avg. loss: 0.0100, Accuracy: 9973/10000  \u001b[1;31m(99.73%)\u001b[0m\n",
      " 第 93 次 Train Epoch: [60000/60000 (100%)]\tLoss: 0.000578\tTrain Accuracy:99.68%\n",
      " Test set \u001b[1;31m93\u001b[0m : Avg. loss: 0.0099, Accuracy: 9971/10000  \u001b[1;31m(99.71%)\u001b[0m\n",
      "Epoch    94: reducing learning rate of group 0 to 1.9073e-09.\n",
      " 第 94 次 Train Epoch: [60000/60000 (100%)]\tLoss: 0.007815\tTrain Accuracy:99.68%\n",
      " Test set \u001b[1;31m94\u001b[0m : Avg. loss: 0.0098, Accuracy: 9971/10000  \u001b[1;31m(99.71%)\u001b[0m\n",
      " 第 95 次 Train Epoch: [60000/60000 (100%)]\tLoss: 0.018210\tTrain Accuracy:99.68%\n",
      " Test set \u001b[1;31m95\u001b[0m : Avg. loss: 0.0097, Accuracy: 9971/10000  \u001b[1;31m(99.71%)\u001b[0m\n",
      " 第 96 次 Train Epoch: [60000/60000 (100%)]\tLoss: 0.007119\tTrain Accuracy:99.65%\n",
      " Test set \u001b[1;31m96\u001b[0m : Avg. loss: 0.0098, Accuracy: 9971/10000  \u001b[1;31m(99.71%)\u001b[0m\n",
      " 第 97 次 Train Epoch: [60000/60000 (100%)]\tLoss: 0.001361\tTrain Accuracy:99.65%\n",
      " Test set \u001b[1;31m97\u001b[0m : Avg. loss: 0.0098, Accuracy: 9971/10000  \u001b[1;31m(99.71%)\u001b[0m\n",
      "Epoch    98: reducing learning rate of group 0 to 9.5367e-10.\n",
      " 第 98 次 Train Epoch: [60000/60000 (100%)]\tLoss: 0.027362\tTrain Accuracy:99.68%\n",
      " Test set \u001b[1;31m98\u001b[0m : Avg. loss: 0.0099, Accuracy: 9972/10000  \u001b[1;31m(99.72%)\u001b[0m\n",
      " 第 99 次 Train Epoch: [60000/60000 (100%)]\tLoss: 0.013607\tTrain Accuracy:99.64%\n",
      " Test set \u001b[1;31m99\u001b[0m : Avg. loss: 0.0098, Accuracy: 9972/10000  \u001b[1;31m(99.72%)\u001b[0m\n",
      " 第 100 次 Train Epoch: [60000/60000 (100%)]\tLoss: 0.003631\tTrain Accuracy:99.68%\n",
      " Test set \u001b[1;31m100\u001b[0m : Avg. loss: 0.0099, Accuracy: 9970/10000  \u001b[1;31m(99.70%)\u001b[0m\n",
      "\n",
      "\u001b[1;31mThe network Max Avg Accuracy : 99.77%\u001b[0m\n"
     ]
    }
   ],
   "source": [
    "### 训练！！！ 并在每个epoch之后测试 ###\n",
    "###################################################\n",
    "# 根据epoch数正式训练并在每个epoch训练结束后测试\n",
    "for epoch in range(1, n_epochs + 1):\n",
    "    scheduler.step(test_acces[-1])\n",
    "    train(epoch)\n",
    "    test(epoch)\n",
    "print('\\n\\033[1;31mThe network Max Avg Accuracy : {:.2f}%\\033[0m'.format(100. * max(test_acces)))"
   ]
  },
  {
   "cell_type": "markdown",
   "id": "b28bad90",
   "metadata": {},
   "source": [
    "# 可视化训练结果"
   ]
  },
  {
   "cell_type": "code",
   "execution_count": 19,
   "id": "9e632d55",
   "metadata": {
    "code_folding": []
   },
   "outputs": [
    {
     "data": {
      "image/png": "[encoded data removed]",
      "text/plain": [
       "<Figure size 1080x360 with 2 Axes>"
      ]
     },
     "metadata": {
      "needs_background": "light"
     },
     "output_type": "display_data"
    }
   ],
   "source": [
    "#可视化\n",
    "fig = plt.figure(figsize=(15,5))\n",
    "ax1 = fig.add_subplot(121)\n",
    "ax1.plot(train_counter, train_losses, color='blue')\n",
    "plt.scatter(test_counter, test_losses, color='red')\n",
    "plt.legend(['Train Loss', 'Test Loss'], loc='upper right')\n",
    "plt.title('Train & Test Loss')\n",
    "plt.xlabel('number of training examples seen')\n",
    "plt.ylabel('negative log likelihood loss')\n",
    "\n",
    "plt.subplot(122)\n",
    "\n",
    "max_test_acces_epoch = test_acces.index(max(test_acces)) + 1\n",
    "max_test_acces = round(max(test_acces),4)\n",
    "\n",
    "\n",
    "plt.plot([epoch+1 for epoch in range(n_epochs) ], train_acces, color='blue')\n",
    "plt.plot([epoch+1 for epoch in range(n_epochs) ], test_acces[1:], color='red')\n",
    "\n",
    "plt.plot(max_test_acces_epoch,max_test_acces,'ko') #最大值点\n",
    "\n",
    "show_max='  ['+str(max_test_acces_epoch )+' , '+str(max_test_acces)+']'\n",
    "plt.annotate(show_max,xy=(max_test_acces_epoch,max_test_acces), \n",
    "             xytext=(max_test_acces_epoch,max_test_acces))\n",
    "\n",
    "plt.legend(['Train acc', 'Test acc'], loc='lower right')\n",
    "plt.title('Train & Test Accuracy')\n",
    "#plt.ylim(0.8, 1)\n",
    "plt.xlabel('number of training epoch')\n",
    "plt.ylabel('negative log likelihood acc')\n",
    "plt.show()"
   ]
  },
  {
   "cell_type": "markdown",
   "id": "eef2be80",
   "metadata": {},
   "source": [
    "# 预测"
   ]
  },
  {
   "cell_type": "code",
   "execution_count": 20,
   "id": "d2bbff8e",
   "metadata": {
    "code_folding": [],
    "scrolled": true
   },
   "outputs": [
    {
     "data": {
      "image/png": "[encoded data removed]",
      "text/plain": [
       "<Figure size 432x288 with 6 Axes>"
      ]
     },
     "metadata": {},
     "output_type": "display_data"
    }
   ],
   "source": [
    "#预测\n",
    "examples = enumerate(test_loader)\n",
    "batch_idx, (example_data, example_targets) = next(example)\n",
    "with torch.no_grad():\n",
    "    output = network(example_data.to(device))\n",
    "    fig = plt.figure()\n",
    "    for i in range(6):\n",
    "        plt.subplot(2,3,i+1)\n",
    "        plt.tight_layout()\n",
    "        plt.imshow(example_data[i][0], cmap='gray', interpolation='none')\n",
    "        plt.title(\"Prediction: {}\".format(\n",
    "        output.data.max(1, keepdim=True)[1][i].item()))\n",
    "        plt.xticks([])\n",
    "        plt.yticks([])\n",
    "    plt.show()"
   ]
  },
  {
   "cell_type": "markdown",
   "id": "c90f7a21",
   "metadata": {},
   "source": [
    "# 图片处理"
   ]
  },
  {
   "cell_type": "code",
   "execution_count": 68,
   "id": "b00f8187",
   "metadata": {
    "code_folding": [],
    "scrolled": true
   },
   "outputs": [],
   "source": [
    "#图片处理\n",
    "def imageProcess(img):\n",
    "    #处理图片\n",
    "    data_transform = torchvision.transforms.Compose(\n",
    "        [torchvision.transforms.Resize(32),\n",
    "         torchvision.transforms.CenterCrop(28),\n",
    "         torchvision.transforms.ToTensor(),\n",
    "         torchvision.transforms.Normalize((0.1307,), (0.3081,))])\n",
    "    \n",
    "    gray = cv2.cvtColor(img, cv2.COLOR_BGR2GRAY)# 灰度处理\n",
    "    retval, dst = cv2.threshold(gray, 0, 255,cv2.THRESH_BINARY | cv2.THRESH_OTSU)# 二值化\n",
    "    fanse = cv2.bitwise_not(dst)#黑白反转\n",
    "\n",
    "    #将BGR图像转变成RGB图像：即将cv2.imread转换成Image.open\n",
    "    imgs = Image.fromarray(cv2.cvtColor(fanse, cv2.COLOR_BGR2RGB))\n",
    "    imgs = imgs.convert('L') #将三通道图像转换成单通道灰度图像\n",
    "    imgs = data_transform(imgs)#处理图像\n",
    "    \n",
    "    return imgs"
   ]
  },
  {
   "cell_type": "markdown",
   "id": "190044b3",
   "metadata": {},
   "source": [
    "# 加载模型"
   ]
  },
  {
   "cell_type": "code",
   "execution_count": 69,
   "id": "a0d524a6",
   "metadata": {
    "code_folding": []
   },
   "outputs": [
    {
     "data": {
      "text/plain": [
       "'\\nnetwork = CNNModel()\\n\\n\\nmodel_path = \"./model.pth\"\\nnetwork.load_state_dict(torch.load(model_path))\\nnetwork.eval()\\n'"
      ]
     },
     "execution_count": 69,
     "metadata": {},
     "output_type": "execute_result"
    }
   ],
   "source": [
    "#加载模型\n",
    "'''\n",
    "network = CNNModel()\n",
    "\n",
    "\n",
    "model_path = \"./model03.pth\"\n",
    "network.load_state_dict(torch.load(model_path))\n",
    "network.eval()\n",
    "'''\n"
   ]
  },
  {
   "cell_type": "markdown",
   "id": "f7e84428",
   "metadata": {},
   "source": [
    "# 预测手写数字"
   ]
  },
  {
   "cell_type": "code",
   "execution_count": 72,
   "id": "0edfc7b6",
   "metadata": {
    "code_folding": []
   },
   "outputs": [
    {
     "data": {
      "image/png": "[encoded data removed]",
      "text/plain": [
       "<Figure size 432x288 with 2 Axes>"
      ]
     },
     "metadata": {},
     "output_type": "display_data"
    }
   ],
   "source": [
    "#预测手写数字\n",
    "path = 'E:/jupyter_notebook/test/' #图片保存路径\n",
    "with torch.no_grad():   \n",
    "    img = cv2.imread(path + '9.jpg')#预测图片\n",
    "    imgs = imageProcess(img)\n",
    "    if imgs.shape == torch.Size([1,28,28]):\n",
    "        imgs = torch.unsqueeze(imgs, dim=0) #在最前面增加一个维度\n",
    "    output = network(imgs.to(device))\n",
    "    plt.tight_layout()\n",
    "    plt.subplot(121)\n",
    "    img = Image.fromarray(cv2.cvtColor(img, cv2.COLOR_BGR2RGB))\n",
    "    plt.imshow(img)\n",
    "    plt.title(\"Original Image\")\n",
    "    plt.xticks([])\n",
    "    plt.yticks([])\n",
    "\n",
    "    \n",
    "    plt.subplot(122)\n",
    "    plt.imshow(imgs[0][0], cmap='gray', interpolation='none')\n",
    "    plt.title(\"Prediction: {}\".format(output.data.max(dim = 1, keepdim=True)[1].item()))\n",
    "    plt.xlabel(\"Processed Image\")\n",
    "    plt.xticks([])\n",
    "    plt.yticks([])\n",
    "    plt.show()"
   ]
  },
  {
   "cell_type": "markdown",
   "id": "b6aa8e15",
   "metadata": {},
   "source": [
    "# 调整参数优化模型"
   ]
  },
  {
   "cell_type": "code",
   "execution_count": 24,
   "id": "3990e44b",
   "metadata": {
    "code_folding": []
   },
   "outputs": [],
   "source": [
    "# 实例化一个网络\n",
    "network = CNNModel()\n",
    "#加载模型\n",
    "model_path = \"./model03.pth\"\n",
    "network.load_state_dict(torch.load(model_path))\n",
    "\n",
    "network.to(device)\n",
    "\n",
    "\n",
    "#network.apply(weights_init)\n",
    "# 设置优化器，用stochastic gradient descent，设置学习率，设置momentum\n",
    "#optimizer = optim.SGD(network.parameters(), lr=learning_rate, momentum=momentum)\n",
    "#optimizer = optim.Adam(network.parameters(), lr=learning_rate,)\n",
    "optimizer = optim.RMSprop(network.parameters(),lr=1e-8,alpha=0.99,momentum = momentum)\n",
    "scheduler = lr_scheduler.ReduceLROnPlateau(optimizer, mode='min', factor=0.5, patience=3, verbose=True, threshold=1e-8, threshold_mode='rel', cooldown=0, min_lr=0, eps=1e-12)\n"
   ]
  },
  {
   "cell_type": "code",
   "execution_count": 25,
   "id": "c8f67ac1",
   "metadata": {},
   "outputs": [
    {
     "name": "stdout",
     "output_type": "stream",
     "text": [
      "\r",
      " Test set \u001b[1;31m1\u001b[0m : Avg. loss: 0.0085, Accuracy: 9977/10000  \u001b[1;31m(99.77%)\u001b[0m\n"
     ]
    }
   ],
   "source": [
    "test(1)"
   ]
  },
  {
   "cell_type": "code",
   "execution_count": 26,
   "id": "82c8547b",
   "metadata": {
    "code_folding": []
   },
   "outputs": [
    {
     "name": "stdout",
     "output_type": "stream",
     "text": [
      " 第 101 次 Train Epoch: [60000/60000 (100%)]\tLoss: 0.004242\tTrain Accuracy:99.43%\n",
      " Test set \u001b[1;31m101\u001b[0m : Avg. loss: 0.0088, Accuracy: 9974/10000  \u001b[1;31m(99.74%)\u001b[0m\n",
      " 第 102 次 Train Epoch: [60000/60000 (100%)]\tLoss: 0.037284\tTrain Accuracy:99.41%\n",
      " Test set \u001b[1;31m102\u001b[0m : Avg. loss: 0.0087, Accuracy: 9974/10000  \u001b[1;31m(99.74%)\u001b[0m\n",
      " 第 103 次 Train Epoch: [60000/60000 (100%)]\tLoss: 0.017901\tTrain Accuracy:99.40%\n",
      " Test set \u001b[1;31m103\u001b[0m : Avg. loss: 0.0086, Accuracy: 9974/10000  \u001b[1;31m(99.74%)\u001b[0m\n",
      " 第 104 次 Train Epoch: [60000/60000 (100%)]\tLoss: 0.002881\tTrain Accuracy:99.46%\n",
      " Test set \u001b[1;31m104\u001b[0m : Avg. loss: 0.0087, Accuracy: 9974/10000  \u001b[1;31m(99.74%)\u001b[0m\n",
      "Epoch     5: reducing learning rate of group 0 to 5.0000e-09.\n",
      " 第 105 次 Train Epoch: [60000/60000 (100%)]\tLoss: 0.134821\tTrain Accuracy:99.41%\n",
      " Test set \u001b[1;31m105\u001b[0m : Avg. loss: 0.0087, Accuracy: 9974/10000  \u001b[1;31m(99.74%)\u001b[0m\n",
      " 第 106 次 Train Epoch: [60000/60000 (100%)]\tLoss: 0.045981\tTrain Accuracy:99.42%\n",
      " Test set \u001b[1;31m106\u001b[0m : Avg. loss: 0.0089, Accuracy: 9973/10000  \u001b[1;31m(99.73%)\u001b[0m\n",
      " 第 107 次 Train Epoch: [60000/60000 (100%)]\tLoss: 0.002419\tTrain Accuracy:99.43%\n",
      " Test set \u001b[1;31m107\u001b[0m : Avg. loss: 0.0089, Accuracy: 9974/10000  \u001b[1;31m(99.74%)\u001b[0m\n",
      " 第 108 次 Train Epoch: [60000/60000 (100%)]\tLoss: 0.029352\tTrain Accuracy:99.37%\n",
      " Test set \u001b[1;31m108\u001b[0m : Avg. loss: 0.0089, Accuracy: 9973/10000  \u001b[1;31m(99.73%)\u001b[0m\n",
      "Epoch     9: reducing learning rate of group 0 to 2.5000e-09.\n",
      " 第 109 次 Train Epoch: [60000/60000 (100%)]\tLoss: 0.002272\tTrain Accuracy:99.41%\n",
      " Test set \u001b[1;31m109\u001b[0m : Avg. loss: 0.0087, Accuracy: 9974/10000  \u001b[1;31m(99.74%)\u001b[0m\n",
      " 第 110 次 Train Epoch: [60000/60000 (100%)]\tLoss: 0.001609\tTrain Accuracy:99.41%\n",
      " Test set \u001b[1;31m110\u001b[0m : Avg. loss: 0.0087, Accuracy: 9973/10000  \u001b[1;31m(99.73%)\u001b[0m\n",
      " 第 111 次 Train Epoch: [60000/60000 (100%)]\tLoss: 0.004009\tTrain Accuracy:99.35%\n",
      " Test set \u001b[1;31m111\u001b[0m : Avg. loss: 0.0088, Accuracy: 9973/10000  \u001b[1;31m(99.73%)\u001b[0m\n",
      " 第 112 次 Train Epoch: [60000/60000 (100%)]\tLoss: 0.049032\tTrain Accuracy:99.42%\n",
      " Test set \u001b[1;31m112\u001b[0m : Avg. loss: 0.0086, Accuracy: 9974/10000  \u001b[1;31m(99.74%)\u001b[0m\n",
      "Epoch    13: reducing learning rate of group 0 to 1.2500e-09.\n",
      " 第 113 次 Train Epoch: [60000/60000 (100%)]\tLoss: 0.020138\tTrain Accuracy:99.43%\n",
      " Test set \u001b[1;31m113\u001b[0m : Avg. loss: 0.0087, Accuracy: 9974/10000  \u001b[1;31m(99.74%)\u001b[0m\n",
      " 第 114 次 Train Epoch: [60000/60000 (100%)]\tLoss: 0.042551\tTrain Accuracy:99.42%\n",
      " Test set \u001b[1;31m114\u001b[0m : Avg. loss: 0.0091, Accuracy: 9972/10000  \u001b[1;31m(99.72%)\u001b[0m\n",
      " 第 115 次 Train Epoch: [60000/60000 (100%)]\tLoss: 0.000516\tTrain Accuracy:99.40%\n",
      " Test set \u001b[1;31m115\u001b[0m : Avg. loss: 0.0090, Accuracy: 9975/10000  \u001b[1;31m(99.75%)\u001b[0m\n",
      " 第 116 次 Train Epoch: [60000/60000 (100%)]\tLoss: 0.000940\tTrain Accuracy:99.40%\n",
      " Test set \u001b[1;31m116\u001b[0m : Avg. loss: 0.0087, Accuracy: 9974/10000  \u001b[1;31m(99.74%)\u001b[0m\n",
      "Epoch    17: reducing learning rate of group 0 to 6.2500e-10.\n",
      " 第 117 次 Train Epoch: [60000/60000 (100%)]\tLoss: 0.026474\tTrain Accuracy:99.39%\n",
      " Test set \u001b[1;31m117\u001b[0m : Avg. loss: 0.0088, Accuracy: 9973/10000  \u001b[1;31m(99.73%)\u001b[0m\n",
      " 第 118 次 Train Epoch: [60000/60000 (100%)]\tLoss: 0.135276\tTrain Accuracy:99.38%\n",
      " Test set \u001b[1;31m118\u001b[0m : Avg. loss: 0.0085, Accuracy: 9974/10000  \u001b[1;31m(99.74%)\u001b[0m\n",
      " 第 119 次 Train Epoch: [60000/60000 (100%)]\tLoss: 0.059700\tTrain Accuracy:99.42%\n",
      " Test set \u001b[1;31m119\u001b[0m : Avg. loss: 0.0087, Accuracy: 9974/10000  \u001b[1;31m(99.74%)\u001b[0m\n",
      " 第 120 次 Train Epoch: [60000/60000 (100%)]\tLoss: 0.001042\tTrain Accuracy:99.40%\n",
      " Test set \u001b[1;31m120\u001b[0m : Avg. loss: 0.0087, Accuracy: 9974/10000  \u001b[1;31m(99.74%)\u001b[0m\n",
      "\n",
      "\u001b[1;31mThe network Max Avg Accuracy : 99.77%\u001b[0m\n"
     ]
    }
   ],
   "source": [
    "for epoch in range(101, 121):\n",
    "    scheduler.step(test_losses[-1])\n",
    "    train(epoch)\n",
    "    test(epoch)\n",
    "print('\\n\\033[1;31mThe network Max Avg Accuracy : {:.2f}%\\033[0m'.format(100. * max(test_acces)))"
   ]
  },
  {
   "cell_type": "code",
   "execution_count": 28,
   "id": "348a67cc",
   "metadata": {
    "code_folding": []
   },
   "outputs": [],
   "source": [
    "#network.apply(weights_init)\n",
    "# 设置优化器，用stochastic gradient descent，设置学习率，设置momentum\n",
    "#optimizer = optim.SGD(network.parameters(), lr=learning_rate, momentum=momentum)\n",
    "optimizer = optim.Adam(network.parameters(), lr=6.2500e-10,betas = (0.9,0.999))\n",
    "#optimizer = optim.RMSprop(network.parameters(),lr=1e-8,alpha=0.99,momentum = momentum)\n",
    "scheduler = lr_scheduler.ReduceLROnPlateau(optimizer, mode='max', factor=0.5, patience=2, verbose=True, threshold=1e-11, threshold_mode='rel', cooldown=0, min_lr=0, eps=1e-13)\n"
   ]
  },
  {
   "cell_type": "code",
   "execution_count": 29,
   "id": "e6901760",
   "metadata": {
    "code_folding": []
   },
   "outputs": [
    {
     "name": "stdout",
     "output_type": "stream",
     "text": [
      " 第 121 次 Train Epoch: [60000/60000 (100%)]\tLoss: 0.001601\tTrain Accuracy:99.41%\n",
      " Test set \u001b[1;31m121\u001b[0m : Avg. loss: 0.0088, Accuracy: 9974/10000  \u001b[1;31m(99.74%)\u001b[0m\n",
      " 第 122 次 Train Epoch: [60000/60000 (100%)]\tLoss: 0.021223\tTrain Accuracy:99.35%\n",
      " Test set \u001b[1;31m122\u001b[0m : Avg. loss: 0.0087, Accuracy: 9973/10000  \u001b[1;31m(99.73%)\u001b[0m\n",
      " 第 123 次 Train Epoch: [60000/60000 (100%)]\tLoss: 0.044774\tTrain Accuracy:99.38%\n",
      " Test set \u001b[1;31m123\u001b[0m : Avg. loss: 0.0087, Accuracy: 9974/10000  \u001b[1;31m(99.74%)\u001b[0m\n",
      " 第 124 次 Train Epoch: [60000/60000 (100%)]\tLoss: 0.004756\tTrain Accuracy:99.38%\n",
      " Test set \u001b[1;31m124\u001b[0m : Avg. loss: 0.0087, Accuracy: 9974/10000  \u001b[1;31m(99.74%)\u001b[0m\n",
      "Epoch     5: reducing learning rate of group 0 to 3.1250e-10.\n",
      " 第 125 次 Train Epoch: [60000/60000 (100%)]\tLoss: 0.003860\tTrain Accuracy:99.42%\n",
      " Test set \u001b[1;31m125\u001b[0m : Avg. loss: 0.0088, Accuracy: 9973/10000  \u001b[1;31m(99.73%)\u001b[0m\n",
      " 第 126 次 Train Epoch: [60000/60000 (100%)]\tLoss: 0.017023\tTrain Accuracy:99.38%\n",
      " Test set \u001b[1;31m126\u001b[0m : Avg. loss: 0.0089, Accuracy: 9975/10000  \u001b[1;31m(99.75%)\u001b[0m\n",
      " 第 127 次 Train Epoch: [60000/60000 (100%)]\tLoss: 0.011459\tTrain Accuracy:99.37%\n",
      " Test set \u001b[1;31m127\u001b[0m : Avg. loss: 0.0087, Accuracy: 9974/10000  \u001b[1;31m(99.74%)\u001b[0m\n",
      " 第 128 次 Train Epoch: [60000/60000 (100%)]\tLoss: 0.020568\tTrain Accuracy:99.38%\n",
      " Test set \u001b[1;31m128\u001b[0m : Avg. loss: 0.0088, Accuracy: 9974/10000  \u001b[1;31m(99.74%)\u001b[0m\n",
      "Epoch     9: reducing learning rate of group 0 to 1.5625e-10.\n",
      " 第 129 次 Train Epoch: [60000/60000 (100%)]\tLoss: 0.008147\tTrain Accuracy:99.38%\n",
      " Test set \u001b[1;31m129\u001b[0m : Avg. loss: 0.0088, Accuracy: 9974/10000  \u001b[1;31m(99.74%)\u001b[0m\n",
      " 第 130 次 Train Epoch: [60000/60000 (100%)]\tLoss: 0.001279\tTrain Accuracy:99.43%\n",
      " Test set \u001b[1;31m130\u001b[0m : Avg. loss: 0.0089, Accuracy: 9972/10000  \u001b[1;31m(99.72%)\u001b[0m\n",
      "\n",
      "\u001b[1;31mThe network Max Avg Accuracy : 99.77%\u001b[0m\n"
     ]
    }
   ],
   "source": [
    "for epoch in range(121, 131):\n",
    "    scheduler.step(train_acces[-1])\n",
    "    train(epoch)\n",
    "    test(epoch)\n",
    "print('\\n\\033[1;31mThe network Max Avg Accuracy : {:.2f}%\\033[0m'.format(100. * max(test_acces)))"
   ]
  },
  {
   "cell_type": "code",
   "execution_count": 30,
   "id": "8d8bea9f",
   "metadata": {
    "code_folding": []
   },
   "outputs": [],
   "source": [
    "#network.apply(weights_init)\n",
    "# 设置优化器，用stochastic gradient descent，设置学习率，设置momentum\n",
    "#optimizer = optim.SGD(network.parameters(), lr=learning_rate, momentum=momentum)\n",
    "#optimizer = optim.Adam(network.parameters(), lr=6.2500e-10,betas = (0.9,0.999))\n",
    "optimizer = optim.RMSprop(network.parameters(),lr=0.00001,alpha=0.99,momentum = momentum)\n",
    "scheduler = lr_scheduler.ReduceLROnPlateau(optimizer, mode='max', factor=0.5, patience=1, verbose=True, threshold=1e-11, threshold_mode='rel', cooldown=0, min_lr=0, eps=1e-13)\n"
   ]
  },
  {
   "cell_type": "code",
   "execution_count": 31,
   "id": "1cceab86",
   "metadata": {
    "code_folding": []
   },
   "outputs": [
    {
     "name": "stdout",
     "output_type": "stream",
     "text": [
      " 第 131 次 Train Epoch: [60000/60000 (100%)]\tLoss: 0.003080\tTrain Accuracy:99.42%\n",
      " Test set \u001b[1;31m131\u001b[0m : Avg. loss: 0.0083, Accuracy: 9970/10000  \u001b[1;31m(99.70%)\u001b[0m\n",
      " 第 132 次 Train Epoch: [60000/60000 (100%)]\tLoss: 0.000917\tTrain Accuracy:99.45%\n",
      " Test set \u001b[1;31m132\u001b[0m : Avg. loss: 0.0081, Accuracy: 9972/10000  \u001b[1;31m(99.72%)\u001b[0m\n",
      " 第 133 次 Train Epoch: [60000/60000 (100%)]\tLoss: 0.001062\tTrain Accuracy:99.46%\n",
      " Test set \u001b[1;31m133\u001b[0m : Avg. loss: 0.0080, Accuracy: 9973/10000  \u001b[1;31m(99.73%)\u001b[0m\n",
      " 第 134 次 Train Epoch: [60000/60000 (100%)]\tLoss: 0.016152\tTrain Accuracy:99.47%\n",
      " Test set \u001b[1;31m134\u001b[0m : Avg. loss: 0.0081, Accuracy: 9973/10000  \u001b[1;31m(99.73%)\u001b[0m\n",
      " 第 135 次 Train Epoch: [60000/60000 (100%)]\tLoss: 0.007471\tTrain Accuracy:99.52%\n",
      " Test set \u001b[1;31m135\u001b[0m : Avg. loss: 0.0080, Accuracy: 9974/10000  \u001b[1;31m(99.74%)\u001b[0m\n",
      " 第 136 次 Train Epoch: [60000/60000 (100%)]\tLoss: 0.002802\tTrain Accuracy:99.55%\n",
      " Test set \u001b[1;31m136\u001b[0m : Avg. loss: 0.0083, Accuracy: 9975/10000  \u001b[1;31m(99.75%)\u001b[0m\n",
      " 第 137 次 Train Epoch: [60000/60000 (100%)]\tLoss: 0.007342\tTrain Accuracy:99.49%\n",
      " Test set \u001b[1;31m137\u001b[0m : Avg. loss: 0.0082, Accuracy: 9975/10000  \u001b[1;31m(99.75%)\u001b[0m\n",
      " 第 138 次 Train Epoch: [60000/60000 (100%)]\tLoss: 0.007684\tTrain Accuracy:99.48%\n",
      " Test set \u001b[1;31m138\u001b[0m : Avg. loss: 0.0083, Accuracy: 9975/10000  \u001b[1;31m(99.75%)\u001b[0m\n",
      "Epoch     9: reducing learning rate of group 0 to 5.0000e-06.\n",
      " 第 139 次 Train Epoch: [60000/60000 (100%)]\tLoss: 0.007639\tTrain Accuracy:99.47%\n",
      " Test set \u001b[1;31m139\u001b[0m : Avg. loss: 0.0084, Accuracy: 9975/10000  \u001b[1;31m(99.75%)\u001b[0m\n",
      " 第 140 次 Train Epoch: [60000/60000 (100%)]\tLoss: 0.042953\tTrain Accuracy:99.49%\n",
      " Test set \u001b[1;31m140\u001b[0m : Avg. loss: 0.0084, Accuracy: 9974/10000  \u001b[1;31m(99.74%)\u001b[0m\n",
      "\n",
      "\u001b[1;31mThe network Max Avg Accuracy : 99.77%\u001b[0m\n"
     ]
    }
   ],
   "source": [
    "for epoch in range(131, 141):\n",
    "    scheduler.step(train_acces[-1])\n",
    "    train(epoch)\n",
    "    test(epoch)\n",
    "print('\\n\\033[1;31mThe network Max Avg Accuracy : {:.2f}%\\033[0m'.format(100. * max(test_acces)))"
   ]
  },
  {
   "cell_type": "code",
   "execution_count": 33,
   "id": "d3516ebc",
   "metadata": {
    "code_folding": []
   },
   "outputs": [],
   "source": [
    "#network.apply(weights_init)\n",
    "# 设置优化器，用stochastic gradient descent，设置学习率，设置momentum\n",
    "#optimizer = optim.SGD(network.parameters(), lr=learning_rate, momentum=momentum)\n",
    "#optimizer = optim.Adam(network.parameters(), lr=6.2500e-10,betas = (0.9,0.999))\n",
    "optimizer = optim.RMSprop(network.parameters(),lr=0.00001,alpha=0.99,momentum = momentum)\n",
    "scheduler = lr_scheduler.ReduceLROnPlateau(optimizer, mode='max', factor=0.5, patience=1, verbose=True, threshold=1e-11, threshold_mode='rel', cooldown=0, min_lr=0, eps=1e-13)\n"
   ]
  },
  {
   "cell_type": "code",
   "execution_count": 34,
   "id": "92267022",
   "metadata": {
    "code_folding": []
   },
   "outputs": [
    {
     "name": "stdout",
     "output_type": "stream",
     "text": [
      " 第 141 次 Train Epoch: [60000/60000 (100%)]\tLoss: 0.003045\tTrain Accuracy:99.46%\n",
      " Test set \u001b[1;31m141\u001b[0m : Avg. loss: 0.0085, Accuracy: 9976/10000  \u001b[1;31m(99.76%)\u001b[0m\n",
      " 第 142 次 Train Epoch: [60000/60000 (100%)]\tLoss: 0.000480\tTrain Accuracy:99.41%\n",
      " Test set \u001b[1;31m142\u001b[0m : Avg. loss: 0.0084, Accuracy: 9975/10000  \u001b[1;31m(99.75%)\u001b[0m\n",
      "Epoch     3: reducing learning rate of group 0 to 5.0000e-06.\n",
      " 第 143 次 Train Epoch: [60000/60000 (100%)]\tLoss: 0.031258\tTrain Accuracy:99.43%\n",
      " Test set \u001b[1;31m143\u001b[0m : Avg. loss: 0.0083, Accuracy: 9975/10000  \u001b[1;31m(99.75%)\u001b[0m\n",
      " 第 144 次 Train Epoch: [60000/60000 (100%)]\tLoss: 0.044489\tTrain Accuracy:99.46%\n",
      " Test set \u001b[1;31m144\u001b[0m : Avg. loss: 0.0084, Accuracy: 9974/10000  \u001b[1;31m(99.74%)\u001b[0m\n",
      "Epoch     5: reducing learning rate of group 0 to 2.5000e-06.\n",
      " 第 145 次 Train Epoch: [60000/60000 (100%)]\tLoss: 0.028560\tTrain Accuracy:99.43%\n",
      " Test set \u001b[1;31m145\u001b[0m : Avg. loss: 0.0084, Accuracy: 9976/10000  \u001b[1;31m(99.76%)\u001b[0m\n",
      " 第 146 次 Train Epoch: [60000/60000 (100%)]\tLoss: 0.020809\tTrain Accuracy:99.48%\n",
      " Test set \u001b[1;31m146\u001b[0m : Avg. loss: 0.0085, Accuracy: 9976/10000  \u001b[1;31m(99.76%)\u001b[0m\n",
      "Epoch     7: reducing learning rate of group 0 to 1.2500e-06.\n",
      " 第 147 次 Train Epoch: [60000/60000 (100%)]\tLoss: 0.117782\tTrain Accuracy:99.44%\n",
      " Test set \u001b[1;31m147\u001b[0m : Avg. loss: 0.0084, Accuracy: 9976/10000  \u001b[1;31m(99.76%)\u001b[0m\n",
      " 第 148 次 Train Epoch: [60000/60000 (100%)]\tLoss: 0.000523\tTrain Accuracy:99.47%\n",
      " Test set \u001b[1;31m148\u001b[0m : Avg. loss: 0.0084, Accuracy: 9976/10000  \u001b[1;31m(99.76%)\u001b[0m\n",
      "Epoch     9: reducing learning rate of group 0 to 6.2500e-07.\n",
      " 第 149 次 Train Epoch: [60000/60000 (100%)]\tLoss: 0.025779\tTrain Accuracy:99.44%\n",
      " Test set \u001b[1;31m149\u001b[0m : Avg. loss: 0.0084, Accuracy: 9977/10000  \u001b[1;31m(99.77%)\u001b[0m\n",
      " 第 150 次 Train Epoch: [60000/60000 (100%)]\tLoss: 0.002694\tTrain Accuracy:99.48%\n",
      " Test set \u001b[1;31m150\u001b[0m : Avg. loss: 0.0084, Accuracy: 9975/10000  \u001b[1;31m(99.75%)\u001b[0m\n",
      "\n",
      "\u001b[1;31mThe network Max Avg Accuracy : 99.77%\u001b[0m\n"
     ]
    }
   ],
   "source": [
    "for epoch in range(141, 151):\n",
    "    scheduler.step(train_acces[-1])\n",
    "    train(epoch)\n",
    "    test(epoch)\n",
    "print('\\n\\033[1;31mThe network Max Avg Accuracy : {:.2f}%\\033[0m'.format(100. * max(test_acces)))"
   ]
  },
  {
   "cell_type": "code",
   "execution_count": 61,
   "id": "07458200",
   "metadata": {
    "code_folding": []
   },
   "outputs": [
    {
     "name": "stdout",
     "output_type": "stream",
     "text": [
      "\r",
      " Test set \u001b[1;31m1\u001b[0m : Avg. loss: 0.0084, Accuracy: 9977/10000  \u001b[1;31m(99.77%)\u001b[0m\n"
     ]
    }
   ],
   "source": [
    "# 实例化一个网络\n",
    "network = CNNModel()\n",
    "#加载模型\n",
    "model_path = \"./model03.pth\"\n",
    "network.load_state_dict(torch.load(model_path))\n",
    "\n",
    "network.to(device)\n",
    "test(1)"
   ]
  },
  {
   "cell_type": "code",
   "execution_count": null,
   "id": "83d446a2",
   "metadata": {},
   "outputs": [],
   "source": []
  },
  {
   "cell_type": "code",
   "execution_count": null,
   "id": "cd0086a3",
   "metadata": {},
   "outputs": [],
   "source": []
  },
  {
   "cell_type": "code",
   "execution_count": null,
   "id": "a11b0c60",
   "metadata": {},
   "outputs": [],
   "source": []
  },
  {
   "cell_type": "code",
   "execution_count": null,
   "id": "40be7285",
   "metadata": {
    "code_folding": [
     0
    ]
   },
   "outputs": [],
   "source": []
  }
 ],
 "metadata": {
  "kernelspec": {
   "display_name": "Python 3",
   "language": "python",
   "name": "python3"
  },
  "language_info": {
   "codemirror_mode": {
    "name": "ipython",
    "version": 3
   },
   "file_extension": ".py",
   "mimetype": "text/x-python",
   "name": "python",
   "nbconvert_exporter": "python",
   "pygments_lexer": "ipython3",
   "version": "3.7.6"
  },
  "varInspector": {
   "cols": {
    "lenName": 16,
    "lenType": 16,
    "lenVar": 40
   },
   "kernels_config": {
    "python": {
     "delete_cmd_postfix": "",
     "delete_cmd_prefix": "del ",
     "library": "var_list.py",
     "varRefreshCmd": "print(var_dic_list())"
    },
    "r": {
     "delete_cmd_postfix": ") ",
     "delete_cmd_prefix": "rm(",
     "library": "var_list.r",
     "varRefreshCmd": "cat(var_dic_list()) "
    }
   },
   "oldHeight": 122.4,
   "position": {
    "height": "509.4px",
    "left": "767px",
    "right": "20px",
    "top": "79px",
    "width": "737px"
   },
   "types_to_exclude": [
    "module",
    "function",
    "builtin_function_or_method",
    "instance",
    "_Feature"
   ],
   "varInspector_section_display": "block",
   "window_display": false
  }
 },
 "nbformat": 4,
 "nbformat_minor": 5
}
