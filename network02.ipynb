{
 "cells": [
  {
   "cell_type": "markdown",
   "id": "6a2793b6",
   "metadata": {
    "code_folding": [
     0
    ]
   },
   "source": [
    "# 引用库"
   ]
  },
  {
   "cell_type": "code",
   "execution_count": 1,
   "id": "8887f379",
   "metadata": {
    "code_folding": []
   },
   "outputs": [],
   "source": [
    "#引用需要用到的库\n",
    "import torch\n",
    "import torchvision\n",
    "from torch.utils.data import DataLoader\n",
    "import torch.nn as nn\n",
    "import torch.nn.functional as F\n",
    "import torch.optim as optim\n",
    "from torch.optim import lr_scheduler\n",
    "import matplotlib.pyplot as plt\n",
    "from PIL import Image\n",
    "import matplotlib.image as image\n",
    "import cv2\n",
    "import os"
   ]
  },
  {
   "cell_type": "markdown",
   "id": "fd74ff44",
   "metadata": {},
   "source": [
    "# 调用GPU"
   ]
  },
  {
   "cell_type": "code",
   "execution_count": 4,
   "id": "bccbedb4",
   "metadata": {
    "code_folding": []
   },
   "outputs": [
    {
     "name": "stdout",
     "output_type": "stream",
     "text": [
      "cuda\n"
     ]
    }
   ],
   "source": [
    "#调用GPU\n",
    "os.environ[\"KMP_DUPLICATE_LIB_OK\"] = \"TRUE\"\n",
    "torch.backends.cudnn.benchmark = True\n",
    "device = torch.device(\"cuda\" if torch.cuda.is_available() else \"cpu\")\n",
    "print(device)\n",
    "torch.cuda.empty_cache()"
   ]
  },
  {
   "cell_type": "markdown",
   "id": "0a1a11f2",
   "metadata": {},
   "source": [
    "# 初始化变量"
   ]
  },
  {
   "cell_type": "code",
   "execution_count": 3,
   "id": "79100ebc",
   "metadata": {
    "code_folding": []
   },
   "outputs": [
    {
     "data": {
      "text/plain": [
       "<torch._C.Generator at 0x23af8e6f310>"
      ]
     },
     "execution_count": 3,
     "metadata": {},
     "output_type": "execute_result"
    }
   ],
   "source": [
    "#初始化变量\n",
    "n_epochs = 100 #训练3个epoch\n",
    "batch_size_train = 240 #训练的 batch_size\n",
    "batch_size_test = 1000 #测试的 batch_size\n",
    "learning_rate = 0.001 # 学习率\n",
    "momentum = 0.5 # 在梯度下降过程中解决mini-batch SGD优化算法更新幅度摆动大的问题，使得收敛速度更快\n",
    "log_interval = 10 # 操作间隔\n",
    "random_seed = 2 # 随机种子，设置后可以得到稳定的随机数\n",
    "torch.manual_seed(random_seed)"
   ]
  },
  {
   "cell_type": "markdown",
   "id": "82d85a9c",
   "metadata": {},
   "source": [
    "# 导入训练集并增强数据"
   ]
  },
  {
   "cell_type": "code",
   "execution_count": 4,
   "id": "5ae3c120",
   "metadata": {
    "code_folding": []
   },
   "outputs": [],
   "source": [
    "#导入训练集并增强数据\n",
    "train_loader = torch.utils.data.DataLoader(\n",
    "    torchvision.datasets.MNIST('./mnist/', train=True, download=False,\n",
    "                               transform=torchvision.transforms.Compose([\n",
    "                                   torchvision.transforms.RandomAffine(degrees = 0,translate=(0.1, 0.1)),\n",
    "                                   torchvision.transforms.RandomRotation((-10,10)),#将图片随机旋转（-10,10）度\n",
    "                                   torchvision.transforms.ToTensor(),# 将PIL图片或者numpy.ndarray转成Tensor类型\n",
    "                                   torchvision.transforms.Normalize((0.1307,), (0.3081,))])\n",
    "                              ),\n",
    "    batch_size=batch_size_train, shuffle=True,num_workers=4, pin_memory=True) # shuffle如果为true,每个训练epoch后，会将数据顺序打乱"
   ]
  },
  {
   "cell_type": "markdown",
   "id": "826d117c",
   "metadata": {},
   "source": [
    "# 导入测试集"
   ]
  },
  {
   "cell_type": "code",
   "execution_count": 5,
   "id": "0eb1771f",
   "metadata": {
    "code_folding": []
   },
   "outputs": [],
   "source": [
    "#导入测试集\n",
    "test_loader = torch.utils.data.DataLoader(\n",
    "    torchvision.datasets.MNIST('./mnist/', train=False, download=False,\n",
    "                               transform=torchvision.transforms.Compose([\n",
    "                                   torchvision.transforms.ToTensor(),\n",
    "                                   torchvision.transforms.Normalize((0.1307,), (0.3081,))])\n",
    "                              ),\n",
    "    batch_size=batch_size_test, shuffle=True,num_workers=4, pin_memory=True)"
   ]
  },
  {
   "cell_type": "code",
   "execution_count": 6,
   "id": "19484bbe",
   "metadata": {
    "code_folding": []
   },
   "outputs": [
    {
     "name": "stdout",
     "output_type": "stream",
     "text": [
      "Dataset MNIST\n",
      "    Number of datapoints: 60000\n",
      "    Root location: ./mnist/\n",
      "    Split: Train\n",
      "    StandardTransform\n",
      "Transform: Compose(\n",
      "               RandomAffine(degrees=[0.0, 0.0], translate=(0.1, 0.1))\n",
      "               RandomRotation(degrees=[-10.0, 10.0], resample=False, expand=False)\n",
      "               ToTensor()\n",
      "               Normalize(mean=(0.1307,), std=(0.3081,))\n",
      "           )\n",
      "Dataset MNIST\n",
      "    Number of datapoints: 10000\n",
      "    Root location: ./mnist/\n",
      "    Split: Test\n",
      "    StandardTransform\n",
      "Transform: Compose(\n",
      "               ToTensor()\n",
      "               Normalize(mean=(0.1307,), std=(0.3081,))\n",
      "           )\n"
     ]
    }
   ],
   "source": [
    "# 训练数据 60000 张图像；测试数据 10000张图像\n",
    "print(train_loader.dataset)\n",
    "print(test_loader.dataset)"
   ]
  },
  {
   "cell_type": "code",
   "execution_count": 7,
   "id": "ae4f9fed",
   "metadata": {
    "code_folding": []
   },
   "outputs": [],
   "source": [
    "# 用 enumerate 加载测试集\n",
    "examples = enumerate(test_loader)\n",
    "# 获取一个 batch\n",
    "batch_idx, (example_data, example_targets) = next(examples)\n",
    "# 查看 batch 数据，有10000张图像的标签，tensor 大小为 [1000, 1, 28, 28]\n",
    "# 即图像为 28 * 28， 1个颜色通道（灰度图）， 1000张图像\n",
    "print(example_targets)\n",
    "print(example_data.shape)"
   ]
  },
  {
   "cell_type": "code",
   "execution_count": 8,
   "id": "ff1a0d17",
   "metadata": {
    "code_folding": []
   },
   "outputs": [
    {
     "data": {
      "image/png": "[encoded data removed]",
      "text/plain": [
       "<Figure size 432x288 with 6 Axes>"
      ]
     },
     "metadata": {},
     "output_type": "display_data"
    }
   ],
   "source": [
    "#查看部分图片\n",
    "fig = plt.figure()\n",
    "for i in range(6):\n",
    "    plt.subplot(2,3,i+1)# 创建 subplot\n",
    "    plt.tight_layout()\n",
    "    plt.imshow(example_data[i][0], cmap='gray', interpolation='none')\n",
    "    plt.title(\"Label: {}\".format(example_targets[i]))\n",
    "    plt.xticks([])\n",
    "    plt.yticks([])\n",
    "plt.show()"
   ]
  },
  {
   "cell_type": "code",
   "execution_count": 9,
   "id": "5aedc64e",
   "metadata": {
    "code_folding": []
   },
   "outputs": [],
   "source": [
    "example_data[1][0]"
   ]
  },
  {
   "cell_type": "markdown",
   "id": "0c45b3aa",
   "metadata": {},
   "source": [
    "# model结构"
   ]
  },
  {
   "cell_type": "code",
   "execution_count": 5,
   "id": "0554ce46",
   "metadata": {
    "code_folding": []
   },
   "outputs": [],
   "source": [
    "#model\n",
    "class CNNModel(nn.Module):\n",
    "    def __init__(self):\n",
    "        super(CNNModel, self).__init__()\n",
    "        \n",
    "        # Convolution layer 1\n",
    "        self.conv1 = nn.Conv2d(in_channels = 1 , out_channels = 32, kernel_size = 5, stride = 1, padding = 0 )\n",
    "        self.relu1 = nn.ReLU()\n",
    "        self.batch1 = nn.BatchNorm2d(32)\n",
    "        \n",
    "        self.conv2 = nn.Conv2d(in_channels =32 , out_channels = 32, kernel_size = 5, stride = 1, padding = 0 )\n",
    "        self.relu2 = nn.ReLU()\n",
    "        self.batch2 = nn.BatchNorm2d(32)\n",
    "        self.maxpool1 = nn.MaxPool2d(kernel_size = 2, stride = 2)\n",
    "        self.conv1_drop = nn.Dropout(0.25)\n",
    "\n",
    "        # Convolution layer 2\n",
    "        self.conv3 = nn.Conv2d(in_channels = 32, out_channels = 64, kernel_size = 3, stride = 1, padding = 0 )\n",
    "        self.relu3 = nn.ReLU()\n",
    "        self.batch3 = nn.BatchNorm2d(64)\n",
    "        \n",
    "        self.conv4 = nn.Conv2d(in_channels = 64, out_channels = 64, kernel_size = 3, stride = 1, padding = 0 )\n",
    "        self.relu4 = nn.ReLU()\n",
    "        self.batch4 = nn.BatchNorm2d(64)\n",
    "        self.maxpool2 = nn.MaxPool2d(kernel_size = 2, stride = 2)\n",
    "        self.conv2_drop = nn.Dropout(0.25)\n",
    "\n",
    "        # Fully-Connected layer 1\n",
    "        \n",
    "        self.fc1 = nn.Linear(576,256)\n",
    "        self.fc1_relu = nn.ReLU()\n",
    "        self.dp1 = nn.Dropout(0.5)\n",
    "        \n",
    "        # Fully-Connected layer 2\n",
    "        self.fc2 = nn.Linear(256,10)\n",
    "                \n",
    "    def forward(self, x):\n",
    "        # conv layer 1 的前向计算，3行代码\n",
    "        out = self.conv1(x)\n",
    "        out = self.relu1(out)\n",
    "        out = self.batch1(out)\n",
    "        \n",
    "        out = self.conv2(out)\n",
    "        out = self.relu2(out)\n",
    "        out = self.batch2(out)\n",
    "        \n",
    "        out = self.maxpool1(out)\n",
    "        out = self.conv1_drop(out)\n",
    "\n",
    "        # conv layer 2 的前向计算，4行代码\n",
    "        out = self.conv3(out)\n",
    "        out = self.relu3(out)\n",
    "        out = self.batch3(out)\n",
    "        \n",
    "        out = self.conv4(out)\n",
    "        out = self.relu4(out)\n",
    "        out = self.batch4(out)\n",
    "        \n",
    "        out = self.maxpool2(out)\n",
    "        out = self.conv2_drop(out)\n",
    "\n",
    "        #Flatten拉平操作\n",
    "        out = out.view(out.size(0),-1)\n",
    "\n",
    "        #FC layer的前向计算（2行代码）\n",
    "        out = self.fc1(out)\n",
    "        out = self.fc1_relu(out)\n",
    "        out = self.dp1(out)\n",
    "        \n",
    "        out = self.fc2(out)\n",
    "\n",
    "        return F.log_softmax(out,dim = 1)"
   ]
  },
  {
   "cell_type": "markdown",
   "id": "0b7f7fc3",
   "metadata": {},
   "source": [
    "# 权值初始化"
   ]
  },
  {
   "cell_type": "code",
   "execution_count": 11,
   "id": "15c714fd",
   "metadata": {
    "code_folding": []
   },
   "outputs": [],
   "source": [
    "#权值初始化\n",
    "def weight_init(m):\n",
    "    # 1. 根据网络层的不同定义不同的初始化方式  \n",
    "    if isinstance(m, nn.Conv2d):\n",
    "        nn.init.kaiming_normal_(m.weight, mode='fan_out', nonlinearity='relu')\n",
    "    # 也可以判断是否为conv2d，使用相应的初始化方式 \n",
    "    '''\n",
    "    elif isinstance(m, nn.Linear):\n",
    "        nn.init.xavier_normal_(m.weight)\n",
    "        nn.init.constant_(m.bias, 0)\n",
    "    # 是否为批归一化层\n",
    "    elif isinstance(m, nn.BatchNorm2d):\n",
    "        nn.init.constant_(m.weight, 1)\n",
    "        nn.init.constant_(m.bias, 0)\n",
    "    ''' "
   ]
  },
  {
   "cell_type": "markdown",
   "id": "83ee8729",
   "metadata": {},
   "source": [
    "He初始化基本思想是，当使用ReLU做为激活函数时，Xavier的效果不好，原因在于，当RelU的输入小于0时，其输出为0，相当于该神经元被关闭了，影响了输出的分布模式。\n",
    "\n",
    "\n",
    "\n",
    "因此He初始化，在Xavier的基础上，假设每层网络有一半的神经元被关闭，于是其分布的方差也会变小。经过验证发现当对初始化值缩小一半时效果最好，故He初始化可以认为是Xavier初始/2的结果。"
   ]
  },
  {
   "cell_type": "markdown",
   "id": "d3546f5b",
   "metadata": {},
   "source": [
    "# 实例化网络，设置优化器"
   ]
  },
  {
   "cell_type": "code",
   "execution_count": 12,
   "id": "be182e01",
   "metadata": {
    "code_folding": []
   },
   "outputs": [],
   "source": [
    "# 实例化一个网络\n",
    "network = CNNModel()\n",
    "network.to(device)\n",
    "network.apply(weight_init)\n",
    "# 设置优化器，用stochastic gradient descent，设置学习率，设置momentum\n",
    "#optimizer = optim.SGD(network.parameters(), lr=learning_rate, momentum=momentum)\n",
    "#optimizer = optim.Adam(network.parameters(), lr=learning_rate)\n",
    "optimizer = optim.RMSprop(network.parameters(),lr=learning_rate,alpha=0.99,momentum = momentum)\n",
    "scheduler = lr_scheduler.ReduceLROnPlateau(optimizer, mode='max', factor=0.5, patience=3, verbose=True, threshold=0.00005, threshold_mode='rel', cooldown=0, min_lr=0, eps=1e-08)"
   ]
  },
  {
   "cell_type": "markdown",
   "id": "075e74e1",
   "metadata": {},
   "source": [
    "* torch.optim.lr_scheduler.ReduceLROnPlateau:该方法提供了一些基于训练过程中的某些测量值对学习率进行动态的下降.\n",
    "* optimer指的是网络的优化器\n",
    "* mode (str) ，可选择‘min’或者‘max’，min表示当监控量停止下降的时候，学习率将减小，max表示当监控量停止上升的时候，学习率将减小。默认值为‘min’\n",
    "* factor 学习率每次降低多少，new_lr = old_lr * factor\n",
    "* patience=10，容忍网路的性能不提升的次数，高于这个次数就降低学习率\n",
    "* verbose（bool） - 如果为True，则为每次更新向stdout输出一条消息。 默认值：False\n",
    "* threshold（float） - 测量新最佳值的阈值，仅关注重大变化。 默认值：1e-4\n",
    "* cooldown： 减少lr后恢复正常操作之前要等待的时期数。 默认值：0。\n",
    "*min_lr,学习率的下限\n",
    "* eps ，适用于lr的最小衰减。 如果新旧lr之间的差异小于eps，则忽略更新。 默认值：1e-8。"
   ]
  },
  {
   "cell_type": "code",
   "execution_count": 13,
   "id": "0a529dad",
   "metadata": {
    "code_folding": []
   },
   "outputs": [
    {
     "data": {
      "image/png": "[encoded data removed]",
      "text/plain": [
       "<Figure size 432x288 with 6 Axes>"
      ]
     },
     "metadata": {},
     "output_type": "display_data"
    }
   ],
   "source": [
    "# 先看一下模型的识别能力\n",
    "# 可以看到没有经过训练的模型在测试集上的表现是很差的，所有的图像几乎都识别错了\n",
    "examples = enumerate(test_loader)\n",
    "batch_idx, (example_data, example_targets) = next(examples)\n",
    "with torch.no_grad():\n",
    "    output = network(example_data.to(device))\n",
    "fig = plt.figure()\n",
    "for i in range(6):\n",
    "    plt.subplot(2,3,i+1)\n",
    "    plt.tight_layout()\n",
    "    plt.imshow(example_data[i][0], cmap='gray', interpolation='none')\n",
    "    plt.title(\"Classification Result: {}\".format(\n",
    "        output.data.max(1, keepdim=True)[1][i].item()))\n",
    "    plt.xticks([])\n",
    "    plt.yticks([])\n",
    "plt.show()"
   ]
  },
  {
   "cell_type": "markdown",
   "id": "18c0f205",
   "metadata": {},
   "source": [
    "# 定义存储数据的列表"
   ]
  },
  {
   "cell_type": "code",
   "execution_count": 14,
   "id": "e2946422",
   "metadata": {
    "code_folding": []
   },
   "outputs": [],
   "source": [
    "#定义存储数据的列表\n",
    "train_losses = []\n",
    "train_counter = []\n",
    "train_acces = []\n",
    "test_losses = []\n",
    "test_counter = [i*len(train_loader.dataset) for i in range(n_epochs + 1)]\n",
    "test_acces = []"
   ]
  },
  {
   "cell_type": "markdown",
   "id": "313d5fd8",
   "metadata": {},
   "source": [
    "# 定义训练函数"
   ]
  },
  {
   "cell_type": "code",
   "execution_count": 15,
   "id": "87c5fe09",
   "metadata": {
    "code_folding": []
   },
   "outputs": [],
   "source": [
    "# 定义训练函数\n",
    "def train(epoch):\n",
    "    \n",
    "    network.train() # 将网络设为 training 模式\n",
    "    train_correct = 0\n",
    "    # 对一组 batch \n",
    "    for batch_idx, (data, target) in enumerate(train_loader): \n",
    "        # 通过enumerate获取batch_id, data, and label\n",
    "        # 1-将梯度归零\n",
    "        optimizer.zero_grad()\n",
    "        \n",
    "        # 2-传入一个batch的图像，并前向计算\n",
    "        output = network(data.to(device))\n",
    "        \n",
    "        # 3-计算损失\n",
    "        loss = F.nll_loss(output, target.to(device))\n",
    "        \n",
    "        # 4-反向传播\n",
    "        loss.backward()\n",
    "        \n",
    "        # 5-优化参数\n",
    "        optimizer.step()\n",
    "        #exp_lr_scheduler.step()\n",
    "        \n",
    "        \n",
    "        train_pred = output.data.max(dim=1, keepdim=True)[1] # 取 output 里最大的那个类别, \n",
    "             # dim = 1表示去每行的最大值，[1]表示取最大值的index，而不去最大值本身[0]    \n",
    "\n",
    "        train_correct += train_pred.eq(target.data.view_as(train_pred).to(device)).sum() # 比较并求正确分类的个数\n",
    "        \n",
    "        print('\\r 第 {} 次 Train Epoch: [{}/{} ({:.0f}%)]\\tLoss: {:.6f}'.format(\n",
    "                epoch, (batch_idx + 1) * len(data), len(train_loader.dataset),\n",
    "                100. * batch_idx / len(train_loader), loss.item()),end = '')\n",
    "\n",
    "        # 每第10个batch (log_interval = 10)\n",
    "        if batch_idx  % log_interval == 0:\n",
    "            #print(batch_idx)\n",
    "            #打印以下信息：第几个epoch，第几张图像， 总训练图像数, 完成百分比，目前的loss\n",
    "            '''print('\\r 第 {} 次 Train Epoch: [{}/{} ({:.0f}%)]\\tLoss: {:.6f}'.format(\n",
    "                epoch, (batch_idx + 1) * len(data), len(train_loader.dataset),\n",
    "                100. * batch_idx / len(train_loader), loss.item()),end = '')\n",
    "            '''\n",
    "            # 把目前的 loss加入到 train_losses,后期画图用\n",
    "            train_losses.append(loss.item())\n",
    "            # 计数\n",
    "            train_counter.append(\n",
    "                (batch_idx*64) + ((epoch-1)*len(train_loader.dataset)))\n",
    "            '''\n",
    "            # 每个batch训练完后保存模型 \n",
    "            torch.save(network.state_dict(), './model.pth')\n",
    "\n",
    "            # 每个batch训练完后保存优化器\n",
    "            torch.save(optimizer.state_dict(), './optimizer.pth')\n",
    "            '''\n",
    "    \n",
    "    train_acc = train_correct / len(train_loader.dataset)\n",
    "    train_acces.append(train_acc.cpu().numpy().tolist())\n",
    "    print('\\tTrain Accuracy:{:.2f}%'.format(100. * train_acc))"
   ]
  },
  {
   "cell_type": "markdown",
   "id": "42d6e4f8",
   "metadata": {},
   "source": [
    "# 定义测试函数"
   ]
  },
  {
   "cell_type": "code",
   "execution_count": 16,
   "id": "82f977d3",
   "metadata": {
    "code_folding": []
   },
   "outputs": [],
   "source": [
    "# 定义测试函数\n",
    "def test(epoch):\n",
    "    network.eval() # 将网络设为 evaluating 模式\n",
    "    test_loss = 0\n",
    "    correct = 0\n",
    "    with torch.no_grad():\n",
    "        for data, target in test_loader:\n",
    "            output = network(data.to(device)) # 传入这一组 batch，进行前向计算\n",
    "            #test_loss += F.nll_loss(output, target, size_average=False).item()\n",
    "            test_loss += F.nll_loss(output, target.to(device), reduction='sum').item()\n",
    "\n",
    "            pred = output.data.max(dim=1, keepdim=True)[1] # 取 output 里最大的那个类别, \n",
    "             # dim = 1表示去每行的最大值，[1]表示取最大值的index，而不去最大值本身[0]    \n",
    "\n",
    "            correct += pred.eq(target.data.view_as(pred).to(device)).sum() # 比较并求正确分类的个数\n",
    "    acc = correct / len(test_loader.dataset)\n",
    "    test_acces.append(acc.cpu().numpy().tolist())\n",
    "    \n",
    "    test_loss /= len(test_loader.dataset) # 平均 loss， len 为 10000\n",
    "    test_losses.append(test_loss) # 记录该 epoch 下的 test_loss\n",
    "    \n",
    "    if test_acces[-1] >= max(test_acces):\n",
    "        # 每个batch训练完后保存模型 \n",
    "        torch.save(network.state_dict(), './model02.pth')\n",
    "\n",
    "        # 每个batch训练完后保存优化器\n",
    "        torch.save(optimizer.state_dict(), './optimizer02.pth')\n",
    "    \n",
    "    # 打印相关信息 如：Test set: Avg. loss: 2.3129, Accuracy: 1205/10000 (12%)\n",
    "    '''\n",
    "    print('\\rTest set: Avg. loss: {:.4f}, Accuracy: {}/{} ({:.2f}%)\\n'.format(\n",
    "        test_loss, correct, len(test_loader.dataset),\n",
    "        100. * correct / len(test_loader.dataset)),end = '')\n",
    "    '''\n",
    "    print('\\r Test set \\033[1;31m{}\\033[0m : Avg. loss: {:.4f}, Accuracy: {}/{}  \\033[1;31m({:.2f}%)\\033[0m\\n'\\\n",
    "          .format(epoch,test_loss, correct,len(test_loader.dataset),100. * acc),end = '') "
   ]
  },
  {
   "cell_type": "markdown",
   "id": "87686644",
   "metadata": {},
   "source": [
    "# 查看模型的识别能力"
   ]
  },
  {
   "cell_type": "code",
   "execution_count": 17,
   "id": "6bdaf260",
   "metadata": {
    "code_folding": []
   },
   "outputs": [
    {
     "name": "stdout",
     "output_type": "stream",
     "text": [
      "\r",
      " Test set \u001b[1;31m1\u001b[0m : Avg. loss: 2.3031, Accuracy: 892/10000  \u001b[1;31m(8.92%)\u001b[0m\n"
     ]
    }
   ],
   "source": [
    "# 先看一下模型的识别能力，可以看到没有经过训练的模型在测试集上的表现是很差的，大概只有10%左右的正确识别率\n",
    "test(1)"
   ]
  },
  {
   "cell_type": "markdown",
   "id": "74226154",
   "metadata": {},
   "source": [
    "# 训练模型"
   ]
  },
  {
   "cell_type": "code",
   "execution_count": 18,
   "id": "789d685a",
   "metadata": {
    "code_folding": []
   },
   "outputs": [
    {
     "name": "stdout",
     "output_type": "stream",
     "text": [
      " 第 1 次 Train Epoch: [60000/60000 (100%)]\tLoss: 0.089140\tTrain Accuracy:91.03%\n",
      " Test set \u001b[1;31m1\u001b[0m : Avg. loss: 0.0303, Accuracy: 9895/10000  \u001b[1;31m(98.95%)\u001b[0m\n",
      " 第 2 次 Train Epoch: [60000/60000 (100%)]\tLoss: 0.110214\tTrain Accuracy:96.59%\n",
      " Test set \u001b[1;31m2\u001b[0m : Avg. loss: 0.0339, Accuracy: 9904/10000  \u001b[1;31m(99.04%)\u001b[0m\n",
      " 第 3 次 Train Epoch: [60000/60000 (100%)]\tLoss: 0.083356\tTrain Accuracy:97.36%\n",
      " Test set \u001b[1;31m3\u001b[0m : Avg. loss: 0.0251, Accuracy: 9919/10000  \u001b[1;31m(99.19%)\u001b[0m\n",
      " 第 4 次 Train Epoch: [60000/60000 (100%)]\tLoss: 0.096341\tTrain Accuracy:97.74%\n",
      " Test set \u001b[1;31m4\u001b[0m : Avg. loss: 0.0259, Accuracy: 9921/10000  \u001b[1;31m(99.21%)\u001b[0m\n",
      " 第 5 次 Train Epoch: [60000/60000 (100%)]\tLoss: 0.042698\tTrain Accuracy:97.95%\n",
      " Test set \u001b[1;31m5\u001b[0m : Avg. loss: 0.0229, Accuracy: 9934/10000  \u001b[1;31m(99.34%)\u001b[0m\n",
      " 第 6 次 Train Epoch: [60000/60000 (100%)]\tLoss: 0.034205\tTrain Accuracy:98.09%\n",
      " Test set \u001b[1;31m6\u001b[0m : Avg. loss: 0.0196, Accuracy: 9947/10000  \u001b[1;31m(99.47%)\u001b[0m\n",
      " 第 7 次 Train Epoch: [60000/60000 (100%)]\tLoss: 0.069153\tTrain Accuracy:98.17%\n",
      " Test set \u001b[1;31m7\u001b[0m : Avg. loss: 0.0208, Accuracy: 9947/10000  \u001b[1;31m(99.47%)\u001b[0m\n",
      " 第 8 次 Train Epoch: [60000/60000 (100%)]\tLoss: 0.055382\tTrain Accuracy:98.30%\n",
      " Test set \u001b[1;31m8\u001b[0m : Avg. loss: 0.0180, Accuracy: 9945/10000  \u001b[1;31m(99.45%)\u001b[0m\n",
      " 第 9 次 Train Epoch: [60000/60000 (100%)]\tLoss: 0.040841\tTrain Accuracy:98.36%\n",
      " Test set \u001b[1;31m9\u001b[0m : Avg. loss: 0.0177, Accuracy: 9947/10000  \u001b[1;31m(99.47%)\u001b[0m\n",
      " 第 10 次 Train Epoch: [60000/60000 (100%)]\tLoss: 0.018898\tTrain Accuracy:98.43%\n",
      " Test set \u001b[1;31m10\u001b[0m : Avg. loss: 0.0204, Accuracy: 9954/10000  \u001b[1;31m(99.54%)\u001b[0m\n",
      " 第 11 次 Train Epoch: [60000/60000 (100%)]\tLoss: 0.058558\tTrain Accuracy:98.51%\n",
      " Test set \u001b[1;31m11\u001b[0m : Avg. loss: 0.0206, Accuracy: 9933/10000  \u001b[1;31m(99.33%)\u001b[0m\n",
      " 第 12 次 Train Epoch: [60000/60000 (100%)]\tLoss: 0.093428\tTrain Accuracy:98.56%\n",
      " Test set \u001b[1;31m12\u001b[0m : Avg. loss: 0.0174, Accuracy: 9954/10000  \u001b[1;31m(99.54%)\u001b[0m\n",
      " 第 13 次 Train Epoch: [60000/60000 (100%)]\tLoss: 0.035548\tTrain Accuracy:98.57%\n",
      " Test set \u001b[1;31m13\u001b[0m : Avg. loss: 0.0179, Accuracy: 9945/10000  \u001b[1;31m(99.45%)\u001b[0m\n",
      " 第 14 次 Train Epoch: [60000/60000 (100%)]\tLoss: 0.061564\tTrain Accuracy:98.74%\n",
      " Test set \u001b[1;31m14\u001b[0m : Avg. loss: 0.0225, Accuracy: 9950/10000  \u001b[1;31m(99.50%)\u001b[0m\n",
      "Epoch    15: reducing learning rate of group 0 to 5.0000e-04.\n",
      " 第 15 次 Train Epoch: [60000/60000 (100%)]\tLoss: 0.008618\tTrain Accuracy:98.91%\n",
      " Test set \u001b[1;31m15\u001b[0m : Avg. loss: 0.0143, Accuracy: 9961/10000  \u001b[1;31m(99.61%)\u001b[0m\n",
      " 第 16 次 Train Epoch: [60000/60000 (100%)]\tLoss: 0.089361\tTrain Accuracy:98.99%\n",
      " Test set \u001b[1;31m16\u001b[0m : Avg. loss: 0.0133, Accuracy: 9962/10000  \u001b[1;31m(99.62%)\u001b[0m\n",
      " 第 17 次 Train Epoch: [60000/60000 (100%)]\tLoss: 0.045206\tTrain Accuracy:99.03%\n",
      " Test set \u001b[1;31m17\u001b[0m : Avg. loss: 0.0154, Accuracy: 9958/10000  \u001b[1;31m(99.58%)\u001b[0m\n",
      " 第 18 次 Train Epoch: [60000/60000 (100%)]\tLoss: 0.037716\tTrain Accuracy:99.05%\n",
      " Test set \u001b[1;31m18\u001b[0m : Avg. loss: 0.0131, Accuracy: 9958/10000  \u001b[1;31m(99.58%)\u001b[0m\n",
      " 第 19 次 Train Epoch: [60000/60000 (100%)]\tLoss: 0.027732\tTrain Accuracy:99.12%\n",
      " Test set \u001b[1;31m19\u001b[0m : Avg. loss: 0.0134, Accuracy: 9961/10000  \u001b[1;31m(99.61%)\u001b[0m\n",
      " 第 20 次 Train Epoch: [60000/60000 (100%)]\tLoss: 0.046089\tTrain Accuracy:99.11%\n",
      " Test set \u001b[1;31m20\u001b[0m : Avg. loss: 0.0135, Accuracy: 9963/10000  \u001b[1;31m(99.63%)\u001b[0m\n",
      " 第 21 次 Train Epoch: [60000/60000 (100%)]\tLoss: 0.059849\tTrain Accuracy:99.10%\n",
      " Test set \u001b[1;31m21\u001b[0m : Avg. loss: 0.0148, Accuracy: 9960/10000  \u001b[1;31m(99.60%)\u001b[0m\n",
      " 第 22 次 Train Epoch: [60000/60000 (100%)]\tLoss: 0.010006\tTrain Accuracy:99.18%\n",
      " Test set \u001b[1;31m22\u001b[0m : Avg. loss: 0.0148, Accuracy: 9959/10000  \u001b[1;31m(99.59%)\u001b[0m\n",
      " 第 23 次 Train Epoch: [60000/60000 (100%)]\tLoss: 0.033358\tTrain Accuracy:99.12%\n",
      " Test set \u001b[1;31m23\u001b[0m : Avg. loss: 0.0131, Accuracy: 9959/10000  \u001b[1;31m(99.59%)\u001b[0m\n",
      " 第 24 次 Train Epoch: [60000/60000 (100%)]\tLoss: 0.004012\tTrain Accuracy:99.16%\n",
      " Test set \u001b[1;31m24\u001b[0m : Avg. loss: 0.0122, Accuracy: 9965/10000  \u001b[1;31m(99.65%)\u001b[0m\n",
      " 第 25 次 Train Epoch: [60000/60000 (100%)]\tLoss: 0.075390\tTrain Accuracy:99.25%\n",
      " Test set \u001b[1;31m25\u001b[0m : Avg. loss: 0.0130, Accuracy: 9958/10000  \u001b[1;31m(99.58%)\u001b[0m\n",
      " 第 26 次 Train Epoch: [60000/60000 (100%)]\tLoss: 0.040307\tTrain Accuracy:99.22%\n",
      " Test set \u001b[1;31m26\u001b[0m : Avg. loss: 0.0123, Accuracy: 9967/10000  \u001b[1;31m(99.67%)\u001b[0m\n",
      " 第 27 次 Train Epoch: [60000/60000 (100%)]\tLoss: 0.003236\tTrain Accuracy:99.22%\n",
      " Test set \u001b[1;31m27\u001b[0m : Avg. loss: 0.0125, Accuracy: 9968/10000  \u001b[1;31m(99.68%)\u001b[0m\n",
      " 第 28 次 Train Epoch: [60000/60000 (100%)]\tLoss: 0.025099\tTrain Accuracy:99.17%\n",
      " Test set \u001b[1;31m28\u001b[0m : Avg. loss: 0.0131, Accuracy: 9959/10000  \u001b[1;31m(99.59%)\u001b[0m\n",
      " 第 29 次 Train Epoch: [60000/60000 (100%)]\tLoss: 0.027522\tTrain Accuracy:99.25%\n",
      " Test set \u001b[1;31m29\u001b[0m : Avg. loss: 0.0140, Accuracy: 9960/10000  \u001b[1;31m(99.60%)\u001b[0m\n",
      " 第 30 次 Train Epoch: [60000/60000 (100%)]\tLoss: 0.036800\tTrain Accuracy:99.22%\n",
      " Test set \u001b[1;31m30\u001b[0m : Avg. loss: 0.0135, Accuracy: 9964/10000  \u001b[1;31m(99.64%)\u001b[0m\n",
      " 第 31 次 Train Epoch: [60000/60000 (100%)]\tLoss: 0.081882\tTrain Accuracy:99.25%\n",
      " Test set \u001b[1;31m31\u001b[0m : Avg. loss: 0.0132, Accuracy: 9957/10000  \u001b[1;31m(99.57%)\u001b[0m\n",
      "Epoch    32: reducing learning rate of group 0 to 2.5000e-04.\n",
      " 第 32 次 Train Epoch: [60000/60000 (100%)]\tLoss: 0.009118\tTrain Accuracy:99.31%\n",
      " Test set \u001b[1;31m32\u001b[0m : Avg. loss: 0.0118, Accuracy: 9968/10000  \u001b[1;31m(99.68%)\u001b[0m\n",
      " 第 33 次 Train Epoch: [60000/60000 (100%)]\tLoss: 0.034246\tTrain Accuracy:99.33%\n",
      " Test set \u001b[1;31m33\u001b[0m : Avg. loss: 0.0113, Accuracy: 9962/10000  \u001b[1;31m(99.62%)\u001b[0m\n",
      " 第 34 次 Train Epoch: [60000/60000 (100%)]\tLoss: 0.004556\tTrain Accuracy:99.36%\n",
      " Test set \u001b[1;31m34\u001b[0m : Avg. loss: 0.0108, Accuracy: 9967/10000  \u001b[1;31m(99.67%)\u001b[0m\n",
      " 第 35 次 Train Epoch: [60000/60000 (100%)]\tLoss: 0.009898\tTrain Accuracy:99.42%\n",
      " Test set \u001b[1;31m35\u001b[0m : Avg. loss: 0.0117, Accuracy: 9970/10000  \u001b[1;31m(99.70%)\u001b[0m\n",
      " 第 36 次 Train Epoch: [60000/60000 (100%)]\tLoss: 0.010055\tTrain Accuracy:99.39%\n",
      " Test set \u001b[1;31m36\u001b[0m : Avg. loss: 0.0132, Accuracy: 9966/10000  \u001b[1;31m(99.66%)\u001b[0m\n",
      " 第 37 次 Train Epoch: [60000/60000 (100%)]\tLoss: 0.055306\tTrain Accuracy:99.42%\n",
      " Test set \u001b[1;31m37\u001b[0m : Avg. loss: 0.0104, Accuracy: 9966/10000  \u001b[1;31m(99.66%)\u001b[0m\n",
      " 第 38 次 Train Epoch: [60000/60000 (100%)]\tLoss: 0.027246\tTrain Accuracy:99.47%\n",
      " Test set \u001b[1;31m38\u001b[0m : Avg. loss: 0.0111, Accuracy: 9969/10000  \u001b[1;31m(99.69%)\u001b[0m\n",
      " 第 39 次 Train Epoch: [60000/60000 (100%)]\tLoss: 0.058460\tTrain Accuracy:99.43%\n",
      " Test set \u001b[1;31m39\u001b[0m : Avg. loss: 0.0103, Accuracy: 9970/10000  \u001b[1;31m(99.70%)\u001b[0m\n",
      "Epoch    40: reducing learning rate of group 0 to 1.2500e-04.\n",
      " 第 40 次 Train Epoch: [60000/60000 (100%)]\tLoss: 0.017850\tTrain Accuracy:99.46%\n",
      " Test set \u001b[1;31m40\u001b[0m : Avg. loss: 0.0103, Accuracy: 9969/10000  \u001b[1;31m(99.69%)\u001b[0m\n",
      " 第 41 次 Train Epoch: [60000/60000 (100%)]\tLoss: 0.034031\tTrain Accuracy:99.41%\n",
      " Test set \u001b[1;31m41\u001b[0m : Avg. loss: 0.0109, Accuracy: 9966/10000  \u001b[1;31m(99.66%)\u001b[0m\n",
      " 第 42 次 Train Epoch: [60000/60000 (100%)]\tLoss: 0.016545\tTrain Accuracy:99.45%\n",
      " Test set \u001b[1;31m42\u001b[0m : Avg. loss: 0.0108, Accuracy: 9968/10000  \u001b[1;31m(99.68%)\u001b[0m\n",
      " 第 43 次 Train Epoch: [60000/60000 (100%)]\tLoss: 0.006564\tTrain Accuracy:99.50%\n",
      " Test set \u001b[1;31m43\u001b[0m : Avg. loss: 0.0111, Accuracy: 9968/10000  \u001b[1;31m(99.68%)\u001b[0m\n",
      "Epoch    44: reducing learning rate of group 0 to 6.2500e-05.\n",
      " 第 44 次 Train Epoch: [60000/60000 (100%)]\tLoss: 0.036400\tTrain Accuracy:99.51%\n",
      " Test set \u001b[1;31m44\u001b[0m : Avg. loss: 0.0114, Accuracy: 9968/10000  \u001b[1;31m(99.68%)\u001b[0m\n",
      " 第 45 次 Train Epoch: [60000/60000 (100%)]\tLoss: 0.006536\tTrain Accuracy:99.52%\n",
      " Test set \u001b[1;31m45\u001b[0m : Avg. loss: 0.0110, Accuracy: 9969/10000  \u001b[1;31m(99.69%)\u001b[0m\n",
      " 第 46 次 Train Epoch: [60000/60000 (100%)]\tLoss: 0.006474\tTrain Accuracy:99.53%\n",
      " Test set \u001b[1;31m46\u001b[0m : Avg. loss: 0.0110, Accuracy: 9966/10000  \u001b[1;31m(99.66%)\u001b[0m\n",
      " 第 47 次 Train Epoch: [60000/60000 (100%)]\tLoss: 0.012324\tTrain Accuracy:99.48%\n",
      " Test set \u001b[1;31m47\u001b[0m : Avg. loss: 0.0111, Accuracy: 9968/10000  \u001b[1;31m(99.68%)\u001b[0m\n",
      "Epoch    48: reducing learning rate of group 0 to 3.1250e-05.\n",
      " 第 48 次 Train Epoch: [60000/60000 (100%)]\tLoss: 0.004663\tTrain Accuracy:99.56%\n",
      " Test set \u001b[1;31m48\u001b[0m : Avg. loss: 0.0108, Accuracy: 9970/10000  \u001b[1;31m(99.70%)\u001b[0m\n"
     ]
    },
    {
     "name": "stdout",
     "output_type": "stream",
     "text": [
      " 第 49 次 Train Epoch: [60000/60000 (100%)]\tLoss: 0.012707\tTrain Accuracy:99.50%\n",
      " Test set \u001b[1;31m49\u001b[0m : Avg. loss: 0.0108, Accuracy: 9972/10000  \u001b[1;31m(99.72%)\u001b[0m\n",
      " 第 50 次 Train Epoch: [60000/60000 (100%)]\tLoss: 0.012373\tTrain Accuracy:99.52%\n",
      " Test set \u001b[1;31m50\u001b[0m : Avg. loss: 0.0109, Accuracy: 9970/10000  \u001b[1;31m(99.70%)\u001b[0m\n",
      " 第 51 次 Train Epoch: [60000/60000 (100%)]\tLoss: 0.009760\tTrain Accuracy:99.55%\n",
      " Test set \u001b[1;31m51\u001b[0m : Avg. loss: 0.0107, Accuracy: 9972/10000  \u001b[1;31m(99.72%)\u001b[0m\n",
      " 第 52 次 Train Epoch: [60000/60000 (100%)]\tLoss: 0.025321\tTrain Accuracy:99.53%\n",
      " Test set \u001b[1;31m52\u001b[0m : Avg. loss: 0.0106, Accuracy: 9970/10000  \u001b[1;31m(99.70%)\u001b[0m\n",
      " 第 53 次 Train Epoch: [60000/60000 (100%)]\tLoss: 0.004454\tTrain Accuracy:99.50%\n",
      " Test set \u001b[1;31m53\u001b[0m : Avg. loss: 0.0111, Accuracy: 9971/10000  \u001b[1;31m(99.71%)\u001b[0m\n",
      "Epoch    54: reducing learning rate of group 0 to 1.5625e-05.\n",
      " 第 54 次 Train Epoch: [60000/60000 (100%)]\tLoss: 0.002725\tTrain Accuracy:99.50%\n",
      " Test set \u001b[1;31m54\u001b[0m : Avg. loss: 0.0108, Accuracy: 9969/10000  \u001b[1;31m(99.69%)\u001b[0m\n",
      " 第 55 次 Train Epoch: [60000/60000 (100%)]\tLoss: 0.010469\tTrain Accuracy:99.52%\n",
      " Test set \u001b[1;31m55\u001b[0m : Avg. loss: 0.0110, Accuracy: 9967/10000  \u001b[1;31m(99.67%)\u001b[0m\n",
      " 第 56 次 Train Epoch: [60000/60000 (100%)]\tLoss: 0.003189\tTrain Accuracy:99.53%\n",
      " Test set \u001b[1;31m56\u001b[0m : Avg. loss: 0.0110, Accuracy: 9967/10000  \u001b[1;31m(99.67%)\u001b[0m\n",
      " 第 57 次 Train Epoch: [60000/60000 (100%)]\tLoss: 0.006580\tTrain Accuracy:99.50%\n",
      " Test set \u001b[1;31m57\u001b[0m : Avg. loss: 0.0110, Accuracy: 9968/10000  \u001b[1;31m(99.68%)\u001b[0m\n",
      "Epoch    58: reducing learning rate of group 0 to 7.8125e-06.\n",
      " 第 58 次 Train Epoch: [60000/60000 (100%)]\tLoss: 0.021015\tTrain Accuracy:99.55%\n",
      " Test set \u001b[1;31m58\u001b[0m : Avg. loss: 0.0109, Accuracy: 9968/10000  \u001b[1;31m(99.68%)\u001b[0m\n",
      " 第 59 次 Train Epoch: [60000/60000 (100%)]\tLoss: 0.001982\tTrain Accuracy:99.54%\n",
      " Test set \u001b[1;31m59\u001b[0m : Avg. loss: 0.0109, Accuracy: 9968/10000  \u001b[1;31m(99.68%)\u001b[0m\n",
      " 第 60 次 Train Epoch: [60000/60000 (100%)]\tLoss: 0.005790\tTrain Accuracy:99.52%\n",
      " Test set \u001b[1;31m60\u001b[0m : Avg. loss: 0.0109, Accuracy: 9970/10000  \u001b[1;31m(99.70%)\u001b[0m\n",
      " 第 61 次 Train Epoch: [60000/60000 (100%)]\tLoss: 0.010849\tTrain Accuracy:99.53%\n",
      " Test set \u001b[1;31m61\u001b[0m : Avg. loss: 0.0110, Accuracy: 9969/10000  \u001b[1;31m(99.69%)\u001b[0m\n",
      "Epoch    62: reducing learning rate of group 0 to 3.9063e-06.\n",
      " 第 62 次 Train Epoch: [60000/60000 (100%)]\tLoss: 0.037625\tTrain Accuracy:99.54%\n",
      " Test set \u001b[1;31m62\u001b[0m : Avg. loss: 0.0109, Accuracy: 9969/10000  \u001b[1;31m(99.69%)\u001b[0m\n",
      " 第 63 次 Train Epoch: [60000/60000 (100%)]\tLoss: 0.009370\tTrain Accuracy:99.58%\n",
      " Test set \u001b[1;31m63\u001b[0m : Avg. loss: 0.0108, Accuracy: 9970/10000  \u001b[1;31m(99.70%)\u001b[0m\n",
      " 第 64 次 Train Epoch: [60000/60000 (100%)]\tLoss: 0.011759\tTrain Accuracy:99.52%\n",
      " Test set \u001b[1;31m64\u001b[0m : Avg. loss: 0.0109, Accuracy: 9970/10000  \u001b[1;31m(99.70%)\u001b[0m\n",
      " 第 65 次 Train Epoch: [60000/60000 (100%)]\tLoss: 0.012126\tTrain Accuracy:99.56%\n",
      " Test set \u001b[1;31m65\u001b[0m : Avg. loss: 0.0110, Accuracy: 9970/10000  \u001b[1;31m(99.70%)\u001b[0m\n",
      "Epoch    66: reducing learning rate of group 0 to 1.9531e-06.\n",
      " 第 66 次 Train Epoch: [60000/60000 (100%)]\tLoss: 0.022184\tTrain Accuracy:99.51%\n",
      " Test set \u001b[1;31m66\u001b[0m : Avg. loss: 0.0110, Accuracy: 9970/10000  \u001b[1;31m(99.70%)\u001b[0m\n",
      " 第 67 次 Train Epoch: [60000/60000 (100%)]\tLoss: 0.004824\tTrain Accuracy:99.54%\n",
      " Test set \u001b[1;31m67\u001b[0m : Avg. loss: 0.0110, Accuracy: 9969/10000  \u001b[1;31m(99.69%)\u001b[0m\n",
      " 第 68 次 Train Epoch: [60000/60000 (100%)]\tLoss: 0.001668\tTrain Accuracy:99.57%\n",
      " Test set \u001b[1;31m68\u001b[0m : Avg. loss: 0.0110, Accuracy: 9970/10000  \u001b[1;31m(99.70%)\u001b[0m\n",
      " 第 69 次 Train Epoch: [60000/60000 (100%)]\tLoss: 0.005296\tTrain Accuracy:99.54%\n",
      " Test set \u001b[1;31m69\u001b[0m : Avg. loss: 0.0110, Accuracy: 9970/10000  \u001b[1;31m(99.70%)\u001b[0m\n",
      "Epoch    70: reducing learning rate of group 0 to 9.7656e-07.\n",
      " 第 70 次 Train Epoch: [60000/60000 (100%)]\tLoss: 0.010502\tTrain Accuracy:99.52%\n",
      " Test set \u001b[1;31m70\u001b[0m : Avg. loss: 0.0111, Accuracy: 9969/10000  \u001b[1;31m(99.69%)\u001b[0m\n",
      " 第 71 次 Train Epoch: [60000/60000 (100%)]\tLoss: 0.023948\tTrain Accuracy:99.54%\n",
      " Test set \u001b[1;31m71\u001b[0m : Avg. loss: 0.0108, Accuracy: 9970/10000  \u001b[1;31m(99.70%)\u001b[0m\n",
      " 第 72 次 Train Epoch: [60000/60000 (100%)]\tLoss: 0.000942\tTrain Accuracy:99.54%\n",
      " Test set \u001b[1;31m72\u001b[0m : Avg. loss: 0.0109, Accuracy: 9970/10000  \u001b[1;31m(99.70%)\u001b[0m\n",
      " 第 73 次 Train Epoch: [60000/60000 (100%)]\tLoss: 0.011618\tTrain Accuracy:99.53%\n",
      " Test set \u001b[1;31m73\u001b[0m : Avg. loss: 0.0110, Accuracy: 9969/10000  \u001b[1;31m(99.69%)\u001b[0m\n",
      "Epoch    74: reducing learning rate of group 0 to 4.8828e-07.\n",
      " 第 74 次 Train Epoch: [60000/60000 (100%)]\tLoss: 0.005633\tTrain Accuracy:99.56%\n",
      " Test set \u001b[1;31m74\u001b[0m : Avg. loss: 0.0109, Accuracy: 9969/10000  \u001b[1;31m(99.69%)\u001b[0m\n",
      " 第 75 次 Train Epoch: [60000/60000 (100%)]\tLoss: 0.029195\tTrain Accuracy:99.60%\n",
      " Test set \u001b[1;31m75\u001b[0m : Avg. loss: 0.0108, Accuracy: 9971/10000  \u001b[1;31m(99.71%)\u001b[0m\n",
      " 第 76 次 Train Epoch: [60000/60000 (100%)]\tLoss: 0.005896\tTrain Accuracy:99.55%\n",
      " Test set \u001b[1;31m76\u001b[0m : Avg. loss: 0.0110, Accuracy: 9968/10000  \u001b[1;31m(99.68%)\u001b[0m\n",
      " 第 77 次 Train Epoch: [60000/60000 (100%)]\tLoss: 0.020443\tTrain Accuracy:99.51%\n",
      " Test set \u001b[1;31m77\u001b[0m : Avg. loss: 0.0110, Accuracy: 9969/10000  \u001b[1;31m(99.69%)\u001b[0m\n",
      "Epoch    78: reducing learning rate of group 0 to 2.4414e-07.\n",
      " 第 78 次 Train Epoch: [60000/60000 (100%)]\tLoss: 0.012545\tTrain Accuracy:99.56%\n",
      " Test set \u001b[1;31m78\u001b[0m : Avg. loss: 0.0108, Accuracy: 9968/10000  \u001b[1;31m(99.68%)\u001b[0m\n",
      " 第 79 次 Train Epoch: [60000/60000 (100%)]\tLoss: 0.004855\tTrain Accuracy:99.55%\n",
      " Test set \u001b[1;31m79\u001b[0m : Avg. loss: 0.0109, Accuracy: 9971/10000  \u001b[1;31m(99.71%)\u001b[0m\n",
      " 第 80 次 Train Epoch: [60000/60000 (100%)]\tLoss: 0.021542\tTrain Accuracy:99.54%\n",
      " Test set \u001b[1;31m80\u001b[0m : Avg. loss: 0.0110, Accuracy: 9968/10000  \u001b[1;31m(99.68%)\u001b[0m\n",
      " 第 81 次 Train Epoch: [60000/60000 (100%)]\tLoss: 0.010350\tTrain Accuracy:99.54%\n",
      " Test set \u001b[1;31m81\u001b[0m : Avg. loss: 0.0109, Accuracy: 9969/10000  \u001b[1;31m(99.69%)\u001b[0m\n",
      "Epoch    82: reducing learning rate of group 0 to 1.2207e-07.\n",
      " 第 82 次 Train Epoch: [60000/60000 (100%)]\tLoss: 0.020241\tTrain Accuracy:99.56%\n",
      " Test set \u001b[1;31m82\u001b[0m : Avg. loss: 0.0108, Accuracy: 9969/10000  \u001b[1;31m(99.69%)\u001b[0m\n",
      " 第 83 次 Train Epoch: [60000/60000 (100%)]\tLoss: 0.031406\tTrain Accuracy:99.52%\n",
      " Test set \u001b[1;31m83\u001b[0m : Avg. loss: 0.0108, Accuracy: 9970/10000  \u001b[1;31m(99.70%)\u001b[0m\n",
      " 第 84 次 Train Epoch: [60000/60000 (100%)]\tLoss: 0.003095\tTrain Accuracy:99.58%\n",
      " Test set \u001b[1;31m84\u001b[0m : Avg. loss: 0.0111, Accuracy: 9970/10000  \u001b[1;31m(99.70%)\u001b[0m\n",
      " 第 85 次 Train Epoch: [60000/60000 (100%)]\tLoss: 0.006885\tTrain Accuracy:99.54%\n",
      " Test set \u001b[1;31m85\u001b[0m : Avg. loss: 0.0110, Accuracy: 9969/10000  \u001b[1;31m(99.69%)\u001b[0m\n",
      "Epoch    86: reducing learning rate of group 0 to 6.1035e-08.\n",
      " 第 86 次 Train Epoch: [60000/60000 (100%)]\tLoss: 0.034214\tTrain Accuracy:99.53%\n",
      " Test set \u001b[1;31m86\u001b[0m : Avg. loss: 0.0109, Accuracy: 9969/10000  \u001b[1;31m(99.69%)\u001b[0m\n",
      " 第 87 次 Train Epoch: [60000/60000 (100%)]\tLoss: 0.009120\tTrain Accuracy:99.59%\n",
      " Test set \u001b[1;31m87\u001b[0m : Avg. loss: 0.0109, Accuracy: 9969/10000  \u001b[1;31m(99.69%)\u001b[0m\n",
      " 第 88 次 Train Epoch: [60000/60000 (100%)]\tLoss: 0.006404\tTrain Accuracy:99.53%\n",
      " Test set \u001b[1;31m88\u001b[0m : Avg. loss: 0.0108, Accuracy: 9970/10000  \u001b[1;31m(99.70%)\u001b[0m\n",
      " 第 89 次 Train Epoch: [60000/60000 (100%)]\tLoss: 0.001557\tTrain Accuracy:99.53%\n",
      " Test set \u001b[1;31m89\u001b[0m : Avg. loss: 0.0109, Accuracy: 9969/10000  \u001b[1;31m(99.69%)\u001b[0m\n",
      "Epoch    90: reducing learning rate of group 0 to 3.0518e-08.\n",
      " 第 90 次 Train Epoch: [60000/60000 (100%)]\tLoss: 0.007585\tTrain Accuracy:99.54%\n",
      " Test set \u001b[1;31m90\u001b[0m : Avg. loss: 0.0109, Accuracy: 9970/10000  \u001b[1;31m(99.70%)\u001b[0m\n",
      " 第 91 次 Train Epoch: [60000/60000 (100%)]\tLoss: 0.023166\tTrain Accuracy:99.50%\n",
      " Test set \u001b[1;31m91\u001b[0m : Avg. loss: 0.0108, Accuracy: 9969/10000  \u001b[1;31m(99.69%)\u001b[0m\n",
      " 第 92 次 Train Epoch: [60000/60000 (100%)]\tLoss: 0.037536\tTrain Accuracy:99.55%\n",
      " Test set \u001b[1;31m92\u001b[0m : Avg. loss: 0.0108, Accuracy: 9969/10000  \u001b[1;31m(99.69%)\u001b[0m\n",
      " 第 93 次 Train Epoch: [60000/60000 (100%)]\tLoss: 0.011264\tTrain Accuracy:99.53%\n",
      " Test set \u001b[1;31m93\u001b[0m : Avg. loss: 0.0109, Accuracy: 9970/10000  \u001b[1;31m(99.70%)\u001b[0m\n",
      "Epoch    94: reducing learning rate of group 0 to 1.5259e-08.\n",
      " 第 94 次 Train Epoch: [60000/60000 (100%)]\tLoss: 0.022690\tTrain Accuracy:99.59%\n",
      " Test set \u001b[1;31m94\u001b[0m : Avg. loss: 0.0109, Accuracy: 9969/10000  \u001b[1;31m(99.69%)\u001b[0m\n",
      " 第 95 次 Train Epoch: [60000/60000 (100%)]\tLoss: 0.008964\tTrain Accuracy:99.55%\n",
      " Test set \u001b[1;31m95\u001b[0m : Avg. loss: 0.0109, Accuracy: 9969/10000  \u001b[1;31m(99.69%)\u001b[0m\n",
      " 第 96 次 Train Epoch: [60000/60000 (100%)]\tLoss: 0.001181\tTrain Accuracy:99.54%\n",
      " Test set \u001b[1;31m96\u001b[0m : Avg. loss: 0.0108, Accuracy: 9969/10000  \u001b[1;31m(99.69%)\u001b[0m\n",
      " 第 97 次 Train Epoch: [60000/60000 (100%)]\tLoss: 0.012972\tTrain Accuracy:99.53%\n",
      " Test set \u001b[1;31m97\u001b[0m : Avg. loss: 0.0109, Accuracy: 9969/10000  \u001b[1;31m(99.69%)\u001b[0m\n",
      " 第 98 次 Train Epoch: [60000/60000 (100%)]\tLoss: 0.017134\tTrain Accuracy:99.57%\n",
      " Test set \u001b[1;31m98\u001b[0m : Avg. loss: 0.0109, Accuracy: 9969/10000  \u001b[1;31m(99.69%)\u001b[0m\n",
      " 第 99 次 Train Epoch: [60000/60000 (100%)]\tLoss: 0.009538\tTrain Accuracy:99.53%\n",
      " Test set \u001b[1;31m99\u001b[0m : Avg. loss: 0.0109, Accuracy: 9969/10000  \u001b[1;31m(99.69%)\u001b[0m\n",
      " 第 100 次 Train Epoch: [60000/60000 (100%)]\tLoss: 0.003520\tTrain Accuracy:99.53%\n",
      " Test set \u001b[1;31m100\u001b[0m : Avg. loss: 0.0109, Accuracy: 9969/10000  \u001b[1;31m(99.69%)\u001b[0m\n",
      "\n",
      "\u001b[1;31mThe network Max Avg Accuracy : 99.72%\u001b[0m\n"
     ]
    }
   ],
   "source": [
    "### 训练！！！ 并在每个epoch之后测试 ###\n",
    "###################################################\n",
    "# 根据epoch数正式训练并在每个epoch训练结束后测试\n",
    "for epoch in range(1, n_epochs + 1):\n",
    "    scheduler.step(test_acces[-1])\n",
    "    train(epoch)\n",
    "    test(epoch)\n",
    "print('\\n\\033[1;31mThe network Max Avg Accuracy : {:.2f}%\\033[0m'.format(100. * max(test_acces)))"
   ]
  },
  {
   "cell_type": "markdown",
   "id": "680a95f2",
   "metadata": {},
   "source": [
    "# 可视化训练结果"
   ]
  },
  {
   "cell_type": "code",
   "execution_count": 22,
   "id": "f7f001ba",
   "metadata": {
    "code_folding": []
   },
   "outputs": [
    {
     "data": {
      "image/png": "[encoded data removed]",
      "text/plain": [
       "<Figure size 1080x360 with 2 Axes>"
      ]
     },
     "metadata": {
      "needs_background": "light"
     },
     "output_type": "display_data"
    }
   ],
   "source": [
    "#可视化\n",
    "fig = plt.figure(figsize=(15,5))\n",
    "ax1 = fig.add_subplot(121)\n",
    "ax1.plot(train_counter, train_losses, color='blue')\n",
    "plt.scatter(test_counter, test_losses, color='red')\n",
    "plt.legend(['Train Loss', 'Test Loss'], loc='upper right')\n",
    "plt.title('Train & Test Loss')\n",
    "plt.xlabel('number of training examples seen')\n",
    "plt.ylabel('negative log likelihood loss')\n",
    "\n",
    "plt.subplot(122)\n",
    "\n",
    "max_test_acces_epoch = test_acces.index(max(test_acces))\n",
    "max_test_acces = round(max(test_acces),4)\n",
    "\n",
    "\n",
    "plt.plot([epoch+1 for epoch in range(n_epochs) ], train_acces, color='blue')\n",
    "plt.plot([epoch+1 for epoch in range(n_epochs) ], test_acces[1:], color='red')\n",
    "\n",
    "plt.plot(max_test_acces_epoch,max_test_acces,'ko') #最大值点\n",
    "\n",
    "show_max='  ['+str(max_test_acces_epoch )+' , '+str(max_test_acces)+']'\n",
    "plt.annotate(show_max,xy=(max_test_acces_epoch,max_test_acces), \n",
    "             xytext=(max_test_acces_epoch,max_test_acces))\n",
    "\n",
    "plt.legend(['Train acc', 'Test acc'], loc='lower right')\n",
    "plt.title('Train & Test Accuracy')\n",
    "#plt.ylim(0.8, 1)\n",
    "plt.xlabel('number of training epoch')\n",
    "plt.ylabel('negative log likelihood acc')\n",
    "plt.show()"
   ]
  },
  {
   "cell_type": "markdown",
   "id": "9a2397ee",
   "metadata": {},
   "source": [
    "# 预测"
   ]
  },
  {
   "cell_type": "code",
   "execution_count": 20,
   "id": "5cf06697",
   "metadata": {
    "code_folding": [],
    "scrolled": true
   },
   "outputs": [
    {
     "data": {
      "image/png": "[encoded data removed]",
      "text/plain": [
       "<Figure size 432x288 with 6 Axes>"
      ]
     },
     "metadata": {},
     "output_type": "display_data"
    }
   ],
   "source": [
    "#预测\n",
    "examples = enumerate(test_loader)\n",
    "batch_idx, (example_data, example_targets) = next(examples)\n",
    "with torch.no_grad():\n",
    "    output = network(example_data.to(device))\n",
    "    fig = plt.figure()\n",
    "    for i in range(6):\n",
    "        plt.subplot(2,3,i+1)\n",
    "        plt.tight_layout()\n",
    "        plt.imshow(example_data[i][0], cmap='gray', interpolation='none')\n",
    "        plt.title(\"Prediction: {}\".format(\n",
    "        output.data.max(1, keepdim=True)[1][i].item()))\n",
    "        plt.xticks([])\n",
    "        plt.yticks([])\n",
    "    plt.show()"
   ]
  },
  {
   "cell_type": "markdown",
   "id": "270f59a3",
   "metadata": {},
   "source": [
    "# 图片处理"
   ]
  },
  {
   "cell_type": "code",
   "execution_count": 8,
   "id": "048f2079",
   "metadata": {
    "code_folding": []
   },
   "outputs": [],
   "source": [
    "#图片处理\n",
    "def imageProcess(img):\n",
    "    #处理图片\n",
    "    data_transform = torchvision.transforms.Compose(\n",
    "        [torchvision.transforms.Resize(32),\n",
    "         torchvision.transforms.CenterCrop(28),\n",
    "         torchvision.transforms.ToTensor(),\n",
    "         torchvision.transforms.Normalize((0.1307,), (0.3081,))])\n",
    "    \n",
    "    gray = cv2.cvtColor(img, cv2.COLOR_BGR2GRAY)# 灰度处理\n",
    "    retval, dst = cv2.threshold(gray, 0, 255,cv2.THRESH_BINARY | cv2.THRESH_OTSU)# 二值化\n",
    "    fanse = cv2.bitwise_not(dst)#黑白反转\n",
    "\n",
    "    #将BGR图像转变成RGB图像：即将cv2.imread转换成Image.open\n",
    "    imgs = Image.fromarray(cv2.cvtColor(fanse, cv2.COLOR_BGR2RGB))\n",
    "    imgs = imgs.convert('L') #将三通道图像转换成单通道灰度图像\n",
    "    imgs = data_transform(imgs)#处理图像\n",
    "    \n",
    "    return imgs"
   ]
  },
  {
   "cell_type": "markdown",
   "id": "213480c3",
   "metadata": {},
   "source": [
    "# 加载模型"
   ]
  },
  {
   "cell_type": "code",
   "execution_count": 6,
   "id": "61db1676",
   "metadata": {
    "code_folding": []
   },
   "outputs": [
    {
     "data": {
      "text/plain": [
       "CNNModel(\n",
       "  (conv1): Conv2d(1, 32, kernel_size=(5, 5), stride=(1, 1))\n",
       "  (relu1): ReLU()\n",
       "  (batch1): BatchNorm2d(32, eps=1e-05, momentum=0.1, affine=True, track_running_stats=True)\n",
       "  (conv2): Conv2d(32, 32, kernel_size=(5, 5), stride=(1, 1))\n",
       "  (relu2): ReLU()\n",
       "  (batch2): BatchNorm2d(32, eps=1e-05, momentum=0.1, affine=True, track_running_stats=True)\n",
       "  (maxpool1): MaxPool2d(kernel_size=2, stride=2, padding=0, dilation=1, ceil_mode=False)\n",
       "  (conv1_drop): Dropout(p=0.25, inplace=False)\n",
       "  (conv3): Conv2d(32, 64, kernel_size=(3, 3), stride=(1, 1))\n",
       "  (relu3): ReLU()\n",
       "  (batch3): BatchNorm2d(64, eps=1e-05, momentum=0.1, affine=True, track_running_stats=True)\n",
       "  (conv4): Conv2d(64, 64, kernel_size=(3, 3), stride=(1, 1))\n",
       "  (relu4): ReLU()\n",
       "  (batch4): BatchNorm2d(64, eps=1e-05, momentum=0.1, affine=True, track_running_stats=True)\n",
       "  (maxpool2): MaxPool2d(kernel_size=2, stride=2, padding=0, dilation=1, ceil_mode=False)\n",
       "  (conv2_drop): Dropout(p=0.25, inplace=False)\n",
       "  (fc1): Linear(in_features=576, out_features=256, bias=True)\n",
       "  (fc1_relu): ReLU()\n",
       "  (dp1): Dropout(p=0.5, inplace=False)\n",
       "  (fc2): Linear(in_features=256, out_features=10, bias=True)\n",
       ")"
      ]
     },
     "execution_count": 6,
     "metadata": {},
     "output_type": "execute_result"
    }
   ],
   "source": [
    "#加载模型\n",
    "'''\n",
    "network = CNNModel()\n",
    "\n",
    "\n",
    "model_path = \"./model02.pth\"\n",
    "network.load_state_dict(torch.load(model_path))\n",
    "network.eval()\n",
    "'''\n"
   ]
  },
  {
   "cell_type": "markdown",
   "id": "2880a150",
   "metadata": {},
   "source": [
    "# 预测手写数字"
   ]
  },
  {
   "cell_type": "code",
   "execution_count": 11,
   "id": "7641808a",
   "metadata": {
    "code_folding": [],
    "scrolled": true
   },
   "outputs": [
    {
     "data": {
      "image/png": "[encoded data removed]",
      "text/plain": [
       "<Figure size 432x288 with 2 Axes>"
      ]
     },
     "metadata": {},
     "output_type": "display_data"
    }
   ],
   "source": [
    "#预测手写数字\n",
    "path = 'E:/jupyter_notebook/test/' #图片保存路径\n",
    "with torch.no_grad():   \n",
    "    img = cv2.imread(path + '9.jpg')#预测图片\n",
    "    imgs = imageProcess(img)\n",
    "    if imgs.shape == torch.Size([1,28,28]):\n",
    "        imgs = torch.unsqueeze(imgs, dim=0) #在最前面增加一个维度\n",
    "    output = network(imgs.to(device))\n",
    "    plt.tight_layout()\n",
    "    plt.subplot(121)\n",
    "    img = Image.fromarray(cv2.cvtColor(img, cv2.COLOR_BGR2RGB))\n",
    "    plt.imshow(img)\n",
    "    plt.title(\"Original Image\")\n",
    "    plt.xticks([])\n",
    "    plt.yticks([])\n",
    "\n",
    "    \n",
    "    plt.subplot(122)\n",
    "    plt.imshow(imgs[0][0], cmap='gray', interpolation='none')\n",
    "    plt.title(\"Prediction: {}\".format(output.data.max(dim = 1, keepdim=True)[1].item()))\n",
    "    plt.xlabel(\"Processed Image\")\n",
    "    plt.xticks([])\n",
    "    plt.yticks([])\n",
    "    plt.show()"
   ]
  },
  {
   "cell_type": "markdown",
   "id": "a67b85a9",
   "metadata": {},
   "source": [
    "# 调整参数，优化模型"
   ]
  },
  {
   "cell_type": "code",
   "execution_count": 28,
   "id": "53f809d3",
   "metadata": {
    "code_folding": []
   },
   "outputs": [],
   "source": [
    "# 实例化一个网络\n",
    "network = CNNModel()\n",
    "#加载模型\n",
    "model_path = \"./model02.pth\"\n",
    "network.load_state_dict(torch.load(model_path))\n",
    "\n",
    "network.to(device)\n",
    "\n",
    "\n",
    "#network.apply(weights_init)\n",
    "# 设置优化器，用stochastic gradient descent，设置学习率，设置momentum\n",
    "#optimizer = optim.SGD(network.parameters(), lr=learning_rate, momentum=momentum)\n",
    "#optimizer = optim.Adam(network.parameters(), lr=learning_rate)\n",
    "#optimizer = optim.RMSprop(network.parameters(),lr=learning_rate,alpha=0.90,momentum = momentum)\n",
    "scheduler = lr_scheduler.ReduceLROnPlateau(optimizer, mode='min', factor=0.5, patience=3, verbose=True, threshold=0.00005, threshold_mode='rel', cooldown=0, min_lr=0, eps=1e-08)\n"
   ]
  },
  {
   "cell_type": "code",
   "execution_count": 29,
   "id": "88bb8362",
   "metadata": {},
   "outputs": [
    {
     "name": "stdout",
     "output_type": "stream",
     "text": [
      "\r",
      " Test set \u001b[1;31m1\u001b[0m : Avg. loss: 0.0107, Accuracy: 9972/10000  \u001b[1;31m(99.72%)\u001b[0m\n"
     ]
    }
   ],
   "source": [
    "test(1)"
   ]
  },
  {
   "cell_type": "code",
   "execution_count": 30,
   "id": "7f56b648",
   "metadata": {
    "code_folding": []
   },
   "outputs": [
    {
     "name": "stdout",
     "output_type": "stream",
     "text": [
      " 第 101 次 Train Epoch: [60000/60000 (100%)]\tLoss: 0.022774\tTrain Accuracy:99.54%\n",
      " Test set \u001b[1;31m101\u001b[0m : Avg. loss: 0.0107, Accuracy: 9972/10000  \u001b[1;31m(99.72%)\u001b[0m\n",
      " 第 102 次 Train Epoch: [60000/60000 (100%)]\tLoss: 0.015190\tTrain Accuracy:99.54%\n",
      " Test set \u001b[1;31m102\u001b[0m : Avg. loss: 0.0108, Accuracy: 9970/10000  \u001b[1;31m(99.70%)\u001b[0m\n",
      " 第 103 次 Train Epoch: [60000/60000 (100%)]\tLoss: 0.001341\tTrain Accuracy:99.50%\n",
      " Test set \u001b[1;31m103\u001b[0m : Avg. loss: 0.0108, Accuracy: 9971/10000  \u001b[1;31m(99.71%)\u001b[0m\n",
      " 第 104 次 Train Epoch: [60000/60000 (100%)]\tLoss: 0.003677\tTrain Accuracy:99.52%\n",
      " Test set \u001b[1;31m104\u001b[0m : Avg. loss: 0.0109, Accuracy: 9971/10000  \u001b[1;31m(99.71%)\u001b[0m\n",
      " 第 105 次 Train Epoch: [60000/60000 (100%)]\tLoss: 0.018330\tTrain Accuracy:99.51%\n",
      " Test set \u001b[1;31m105\u001b[0m : Avg. loss: 0.0107, Accuracy: 9969/10000  \u001b[1;31m(99.69%)\u001b[0m\n",
      " 第 106 次 Train Epoch: [60000/60000 (100%)]\tLoss: 0.091545\tTrain Accuracy:99.51%\n",
      " Test set \u001b[1;31m106\u001b[0m : Avg. loss: 0.0108, Accuracy: 9972/10000  \u001b[1;31m(99.72%)\u001b[0m\n",
      " 第 107 次 Train Epoch: [60000/60000 (100%)]\tLoss: 0.025268\tTrain Accuracy:99.54%\n",
      " Test set \u001b[1;31m107\u001b[0m : Avg. loss: 0.0107, Accuracy: 9970/10000  \u001b[1;31m(99.70%)\u001b[0m\n",
      " 第 108 次 Train Epoch: [60000/60000 (100%)]\tLoss: 0.002477\tTrain Accuracy:99.56%\n",
      " Test set \u001b[1;31m108\u001b[0m : Avg. loss: 0.0107, Accuracy: 9971/10000  \u001b[1;31m(99.71%)\u001b[0m\n",
      " 第 109 次 Train Epoch: [60000/60000 (100%)]\tLoss: 0.003164\tTrain Accuracy:99.55%\n",
      " Test set \u001b[1;31m109\u001b[0m : Avg. loss: 0.0107, Accuracy: 9970/10000  \u001b[1;31m(99.70%)\u001b[0m\n",
      " 第 110 次 Train Epoch: [60000/60000 (100%)]\tLoss: 0.032140\tTrain Accuracy:99.52%\n",
      " Test set \u001b[1;31m110\u001b[0m : Avg. loss: 0.0107, Accuracy: 9971/10000  \u001b[1;31m(99.71%)\u001b[0m\n",
      " 第 111 次 Train Epoch: [60000/60000 (100%)]\tLoss: 0.005572\tTrain Accuracy:99.55%\n",
      " Test set \u001b[1;31m111\u001b[0m : Avg. loss: 0.0107, Accuracy: 9971/10000  \u001b[1;31m(99.71%)\u001b[0m\n",
      " 第 112 次 Train Epoch: [60000/60000 (100%)]\tLoss: 0.002988\tTrain Accuracy:99.62%\n",
      " Test set \u001b[1;31m112\u001b[0m : Avg. loss: 0.0108, Accuracy: 9970/10000  \u001b[1;31m(99.70%)\u001b[0m\n",
      " 第 113 次 Train Epoch: [60000/60000 (100%)]\tLoss: 0.024280\tTrain Accuracy:99.54%\n",
      " Test set \u001b[1;31m113\u001b[0m : Avg. loss: 0.0107, Accuracy: 9970/10000  \u001b[1;31m(99.70%)\u001b[0m\n",
      " 第 114 次 Train Epoch: [60000/60000 (100%)]\tLoss: 0.023091\tTrain Accuracy:99.54%\n",
      " Test set \u001b[1;31m114\u001b[0m : Avg. loss: 0.0108, Accuracy: 9970/10000  \u001b[1;31m(99.70%)\u001b[0m\n",
      " 第 115 次 Train Epoch: [60000/60000 (100%)]\tLoss: 0.019432\tTrain Accuracy:99.53%\n",
      " Test set \u001b[1;31m115\u001b[0m : Avg. loss: 0.0107, Accuracy: 9969/10000  \u001b[1;31m(99.69%)\u001b[0m\n",
      " 第 116 次 Train Epoch: [60000/60000 (100%)]\tLoss: 0.041721\tTrain Accuracy:99.53%\n",
      " Test set \u001b[1;31m116\u001b[0m : Avg. loss: 0.0109, Accuracy: 9972/10000  \u001b[1;31m(99.72%)\u001b[0m\n",
      " 第 117 次 Train Epoch: [60000/60000 (100%)]\tLoss: 0.005906\tTrain Accuracy:99.52%\n",
      " Test set \u001b[1;31m117\u001b[0m : Avg. loss: 0.0107, Accuracy: 9970/10000  \u001b[1;31m(99.70%)\u001b[0m\n",
      " 第 118 次 Train Epoch: [60000/60000 (100%)]\tLoss: 0.015041\tTrain Accuracy:99.53%\n",
      " Test set \u001b[1;31m118\u001b[0m : Avg. loss: 0.0106, Accuracy: 9970/10000  \u001b[1;31m(99.70%)\u001b[0m\n",
      " 第 119 次 Train Epoch: [60000/60000 (100%)]\tLoss: 0.015035\tTrain Accuracy:99.51%\n",
      " Test set \u001b[1;31m119\u001b[0m : Avg. loss: 0.0107, Accuracy: 9969/10000  \u001b[1;31m(99.69%)\u001b[0m\n",
      " 第 120 次 Train Epoch: [60000/60000 (100%)]\tLoss: 0.048590\tTrain Accuracy:99.48%\n",
      " Test set \u001b[1;31m120\u001b[0m : Avg. loss: 0.0109, Accuracy: 9969/10000  \u001b[1;31m(99.69%)\u001b[0m\n",
      "\n",
      "\u001b[1;31mThe network Max Avg Accuracy : 99.72%\u001b[0m\n"
     ]
    }
   ],
   "source": [
    "for epoch in range(101, 121):\n",
    "    scheduler.step(test_losses[-1])\n",
    "    train(epoch)\n",
    "    test(epoch)\n",
    "print('\\n\\033[1;31mThe network Max Avg Accuracy : {:.2f}%\\033[0m'.format(100. * max(test_acces)))"
   ]
  },
  {
   "cell_type": "code",
   "execution_count": 31,
   "id": "f5789ad6",
   "metadata": {
    "code_folding": []
   },
   "outputs": [],
   "source": [
    "# 实例化一个网络\n",
    "network = CNNModel()\n",
    "#加载模型\n",
    "model_path = \"./model02.pth\"\n",
    "network.load_state_dict(torch.load(model_path))\n",
    "\n",
    "network.to(device)\n",
    "\n",
    "\n",
    "#network.apply(weights_init)\n",
    "# 设置优化器，用stochastic gradient descent，设置学习率，设置momentum\n",
    "#optimizer = optim.SGD(network.parameters(), lr=learning_rate, momentum=momentum)\n",
    "#optimizer = optim.Adam(network.parameters(), lr=learning_rate)\n",
    "optimizer = optim.RMSprop(network.parameters(),lr=0.0001,alpha=0.99,momentum = momentum)\n",
    "scheduler = lr_scheduler.ReduceLROnPlateau(optimizer, mode='max', factor=0.5, patience=3, verbose=True, threshold=0.00001, threshold_mode='rel', cooldown=0, min_lr=0, eps=1e-09)\n"
   ]
  },
  {
   "cell_type": "code",
   "execution_count": 32,
   "id": "df6c6d9e",
   "metadata": {},
   "outputs": [
    {
     "name": "stdout",
     "output_type": "stream",
     "text": [
      "\r",
      " Test set \u001b[1;31m1\u001b[0m : Avg. loss: 0.0109, Accuracy: 9972/10000  \u001b[1;31m(99.72%)\u001b[0m\n"
     ]
    }
   ],
   "source": [
    "test(1)"
   ]
  },
  {
   "cell_type": "code",
   "execution_count": 33,
   "id": "2430f411",
   "metadata": {
    "code_folding": []
   },
   "outputs": [
    {
     "name": "stdout",
     "output_type": "stream",
     "text": [
      " 第 121 次 Train Epoch: [60000/60000 (100%)]\tLoss: 0.005819\tTrain Accuracy:99.49%\n",
      " Test set \u001b[1;31m121\u001b[0m : Avg. loss: 0.0111, Accuracy: 9968/10000  \u001b[1;31m(99.68%)\u001b[0m\n",
      " 第 122 次 Train Epoch: [60000/60000 (100%)]\tLoss: 0.003215\tTrain Accuracy:99.50%\n",
      " Test set \u001b[1;31m122\u001b[0m : Avg. loss: 0.0109, Accuracy: 9969/10000  \u001b[1;31m(99.69%)\u001b[0m\n",
      " 第 123 次 Train Epoch: [60000/60000 (100%)]\tLoss: 0.010746\tTrain Accuracy:99.53%\n",
      " Test set \u001b[1;31m123\u001b[0m : Avg. loss: 0.0114, Accuracy: 9970/10000  \u001b[1;31m(99.70%)\u001b[0m\n",
      " 第 124 次 Train Epoch: [60000/60000 (100%)]\tLoss: 0.019579\tTrain Accuracy:99.51%\n",
      " Test set \u001b[1;31m124\u001b[0m : Avg. loss: 0.0114, Accuracy: 9971/10000  \u001b[1;31m(99.71%)\u001b[0m\n",
      " 第 125 次 Train Epoch: [60000/60000 (100%)]\tLoss: 0.010792\tTrain Accuracy:99.54%\n",
      " Test set \u001b[1;31m125\u001b[0m : Avg. loss: 0.0112, Accuracy: 9969/10000  \u001b[1;31m(99.69%)\u001b[0m\n",
      "\n",
      "\u001b[1;31mThe network Max Avg Accuracy : 99.72%\u001b[0m\n"
     ]
    }
   ],
   "source": [
    "for epoch in range(121, 126):\n",
    "    scheduler.step(train_acces[-1])\n",
    "    train(epoch)\n",
    "    test(epoch)\n",
    "print('\\n\\033[1;31mThe network Max Avg Accuracy : {:.2f}%\\033[0m'.format(100. * max(test_acces)))"
   ]
  },
  {
   "cell_type": "code",
   "execution_count": 34,
   "id": "a5c77ced",
   "metadata": {
    "code_folding": []
   },
   "outputs": [
    {
     "name": "stdout",
     "output_type": "stream",
     "text": [
      " 第 126 次 Train Epoch: [60000/60000 (100%)]\tLoss: 0.121945\tTrain Accuracy:99.57%\n",
      " Test set \u001b[1;31m126\u001b[0m : Avg. loss: 0.0115, Accuracy: 9967/10000  \u001b[1;31m(99.67%)\u001b[0m\n",
      " 第 127 次 Train Epoch: [60000/60000 (100%)]\tLoss: 0.005328\tTrain Accuracy:99.53%\n",
      " Test set \u001b[1;31m127\u001b[0m : Avg. loss: 0.0117, Accuracy: 9966/10000  \u001b[1;31m(99.66%)\u001b[0m\n",
      " 第 128 次 Train Epoch: [60000/60000 (100%)]\tLoss: 0.014597\tTrain Accuracy:99.50%\n",
      " Test set \u001b[1;31m128\u001b[0m : Avg. loss: 0.0108, Accuracy: 9969/10000  \u001b[1;31m(99.69%)\u001b[0m\n",
      " 第 129 次 Train Epoch: [60000/60000 (100%)]\tLoss: 0.036602\tTrain Accuracy:99.51%\n",
      " Test set \u001b[1;31m129\u001b[0m : Avg. loss: 0.0116, Accuracy: 9965/10000  \u001b[1;31m(99.65%)\u001b[0m\n",
      " 第 130 次 Train Epoch: [60000/60000 (100%)]\tLoss: 0.000685\tTrain Accuracy:99.51%\n",
      " Test set \u001b[1;31m130\u001b[0m : Avg. loss: 0.0115, Accuracy: 9968/10000  \u001b[1;31m(99.68%)\u001b[0m\n",
      "Epoch    11: reducing learning rate of group 0 to 5.0000e-05.\n",
      " 第 131 次 Train Epoch: [60000/60000 (100%)]\tLoss: 0.013627\tTrain Accuracy:99.51%\n",
      " Test set \u001b[1;31m131\u001b[0m : Avg. loss: 0.0112, Accuracy: 9967/10000  \u001b[1;31m(99.67%)\u001b[0m\n",
      " 第 132 次 Train Epoch: [60000/60000 (100%)]\tLoss: 0.013211\tTrain Accuracy:99.56%\n",
      " Test set \u001b[1;31m132\u001b[0m : Avg. loss: 0.0116, Accuracy: 9967/10000  \u001b[1;31m(99.67%)\u001b[0m\n",
      " 第 133 次 Train Epoch: [60000/60000 (100%)]\tLoss: 0.017514\tTrain Accuracy:99.56%\n",
      " Test set \u001b[1;31m133\u001b[0m : Avg. loss: 0.0111, Accuracy: 9970/10000  \u001b[1;31m(99.70%)\u001b[0m\n",
      " 第 134 次 Train Epoch: [60000/60000 (100%)]\tLoss: 0.010175\tTrain Accuracy:99.55%\n",
      " Test set \u001b[1;31m134\u001b[0m : Avg. loss: 0.0113, Accuracy: 9966/10000  \u001b[1;31m(99.66%)\u001b[0m\n",
      "Epoch    15: reducing learning rate of group 0 to 2.5000e-05.\n",
      " 第 135 次 Train Epoch: [60000/60000 (100%)]\tLoss: 0.028772\tTrain Accuracy:99.54%\n",
      " Test set \u001b[1;31m135\u001b[0m : Avg. loss: 0.0115, Accuracy: 9970/10000  \u001b[1;31m(99.70%)\u001b[0m\n",
      " 第 136 次 Train Epoch: [60000/60000 (100%)]\tLoss: 0.002605\tTrain Accuracy:99.60%\n",
      " Test set \u001b[1;31m136\u001b[0m : Avg. loss: 0.0115, Accuracy: 9967/10000  \u001b[1;31m(99.67%)\u001b[0m\n",
      " 第 137 次 Train Epoch: [60000/60000 (100%)]\tLoss: 0.063751\tTrain Accuracy:99.58%\n",
      " Test set \u001b[1;31m137\u001b[0m : Avg. loss: 0.0114, Accuracy: 9971/10000  \u001b[1;31m(99.71%)\u001b[0m\n",
      " 第 138 次 Train Epoch: [60000/60000 (100%)]\tLoss: 0.016345\tTrain Accuracy:99.57%\n",
      " Test set \u001b[1;31m138\u001b[0m : Avg. loss: 0.0114, Accuracy: 9971/10000  \u001b[1;31m(99.71%)\u001b[0m\n",
      " 第 139 次 Train Epoch: [60000/60000 (100%)]\tLoss: 0.016870\tTrain Accuracy:99.56%\n",
      " Test set \u001b[1;31m139\u001b[0m : Avg. loss: 0.0114, Accuracy: 9968/10000  \u001b[1;31m(99.68%)\u001b[0m\n",
      " 第 140 次 Train Epoch: [60000/60000 (100%)]\tLoss: 0.025610\tTrain Accuracy:99.58%\n",
      " Test set \u001b[1;31m140\u001b[0m : Avg. loss: 0.0112, Accuracy: 9969/10000  \u001b[1;31m(99.69%)\u001b[0m\n",
      "Epoch    21: reducing learning rate of group 0 to 1.2500e-05.\n",
      " 第 141 次 Train Epoch: [60000/60000 (100%)]\tLoss: 0.019748\tTrain Accuracy:99.58%\n",
      " Test set \u001b[1;31m141\u001b[0m : Avg. loss: 0.0111, Accuracy: 9971/10000  \u001b[1;31m(99.71%)\u001b[0m\n",
      " 第 142 次 Train Epoch: [60000/60000 (100%)]\tLoss: 0.009607\tTrain Accuracy:99.61%\n",
      " Test set \u001b[1;31m142\u001b[0m : Avg. loss: 0.0114, Accuracy: 9970/10000  \u001b[1;31m(99.70%)\u001b[0m\n",
      " 第 143 次 Train Epoch: [60000/60000 (100%)]\tLoss: 0.007391\tTrain Accuracy:99.55%\n",
      " Test set \u001b[1;31m143\u001b[0m : Avg. loss: 0.0111, Accuracy: 9970/10000  \u001b[1;31m(99.70%)\u001b[0m\n",
      " 第 144 次 Train Epoch: [60000/60000 (100%)]\tLoss: 0.002224\tTrain Accuracy:99.57%\n",
      " Test set \u001b[1;31m144\u001b[0m : Avg. loss: 0.0110, Accuracy: 9970/10000  \u001b[1;31m(99.70%)\u001b[0m\n",
      " 第 145 次 Train Epoch: [60000/60000 (100%)]\tLoss: 0.018696\tTrain Accuracy:99.56%\n",
      " Test set \u001b[1;31m145\u001b[0m : Avg. loss: 0.0111, Accuracy: 9970/10000  \u001b[1;31m(99.70%)\u001b[0m\n",
      "\n",
      "\u001b[1;31mThe network Max Avg Accuracy : 99.72%\u001b[0m\n"
     ]
    }
   ],
   "source": [
    "for epoch in range(126, 146):\n",
    "    scheduler.step(train_acces[-1])\n",
    "    train(epoch)\n",
    "    test(epoch)\n",
    "print('\\n\\033[1;31mThe network Max Avg Accuracy : {:.2f}%\\033[0m'.format(100. * max(test_acces)))"
   ]
  },
  {
   "cell_type": "code",
   "execution_count": 35,
   "id": "51acda61",
   "metadata": {
    "code_folding": []
   },
   "outputs": [],
   "source": [
    "# 实例化一个网络\n",
    "network = CNNModel()\n",
    "#加载模型\n",
    "model_path = \"./model02.pth\"\n",
    "network.load_state_dict(torch.load(model_path))\n",
    "\n",
    "network.to(device)\n",
    "\n",
    "\n",
    "#network.apply(weights_init)\n",
    "# 设置优化器，用stochastic gradient descent，设置学习率，设置momentum\n",
    "#optimizer = optim.SGD(network.parameters(), lr=learning_rate, momentum=momentum)\n",
    "#optimizer = optim.Adam(network.parameters(), lr=learning_rate)\n",
    "optimizer = optim.RMSprop(network.parameters(),lr=learning_rate,alpha=0.99,momentum = momentum)\n",
    "scheduler = lr_scheduler.ReduceLROnPlateau(optimizer, mode='max', factor=0.5, patience=1, verbose=True, threshold=1e-06, threshold_mode='rel', cooldown=0, min_lr=0, eps=1e-09)\n"
   ]
  },
  {
   "cell_type": "code",
   "execution_count": 36,
   "id": "fcd5c57c",
   "metadata": {
    "code_folding": []
   },
   "outputs": [
    {
     "name": "stdout",
     "output_type": "stream",
     "text": [
      " 第 146 次 Train Epoch: [60000/60000 (100%)]\tLoss: 0.062502\tTrain Accuracy:98.60%\n",
      " Test set \u001b[1;31m146\u001b[0m : Avg. loss: 0.0143, Accuracy: 9962/10000  \u001b[1;31m(99.62%)\u001b[0m\n",
      " 第 147 次 Train Epoch: [60000/60000 (100%)]\tLoss: 0.062637\tTrain Accuracy:98.96%\n",
      " Test set \u001b[1;31m147\u001b[0m : Avg. loss: 0.0179, Accuracy: 9944/10000  \u001b[1;31m(99.44%)\u001b[0m\n",
      "Epoch     3: reducing learning rate of group 0 to 5.0000e-04.\n",
      " 第 148 次 Train Epoch: [60000/60000 (100%)]\tLoss: 0.039677\tTrain Accuracy:99.14%\n",
      " Test set \u001b[1;31m148\u001b[0m : Avg. loss: 0.0120, Accuracy: 9966/10000  \u001b[1;31m(99.66%)\u001b[0m\n",
      " 第 149 次 Train Epoch: [60000/60000 (100%)]\tLoss: 0.032650\tTrain Accuracy:99.24%\n",
      " Test set \u001b[1;31m149\u001b[0m : Avg. loss: 0.0138, Accuracy: 9963/10000  \u001b[1;31m(99.63%)\u001b[0m\n",
      "Epoch     5: reducing learning rate of group 0 to 2.5000e-04.\n",
      " 第 150 次 Train Epoch: [60000/60000 (100%)]\tLoss: 0.014351\tTrain Accuracy:99.36%\n",
      " Test set \u001b[1;31m150\u001b[0m : Avg. loss: 0.0124, Accuracy: 9969/10000  \u001b[1;31m(99.69%)\u001b[0m\n",
      " 第 151 次 Train Epoch: [60000/60000 (100%)]\tLoss: 0.006440\tTrain Accuracy:99.27%\n",
      " Test set \u001b[1;31m151\u001b[0m : Avg. loss: 0.0134, Accuracy: 9965/10000  \u001b[1;31m(99.65%)\u001b[0m\n",
      "Epoch     7: reducing learning rate of group 0 to 1.2500e-04.\n",
      " 第 152 次 Train Epoch: [60000/60000 (100%)]\tLoss: 0.004346\tTrain Accuracy:99.37%\n",
      " Test set \u001b[1;31m152\u001b[0m : Avg. loss: 0.0120, Accuracy: 9966/10000  \u001b[1;31m(99.66%)\u001b[0m\n",
      " 第 153 次 Train Epoch: [60000/60000 (100%)]\tLoss: 0.040928\tTrain Accuracy:99.48%\n",
      " Test set \u001b[1;31m153\u001b[0m : Avg. loss: 0.0111, Accuracy: 9975/10000  \u001b[1;31m(99.75%)\u001b[0m\n",
      "Epoch     9: reducing learning rate of group 0 to 6.2500e-05.\n",
      " 第 154 次 Train Epoch: [60000/60000 (100%)]\tLoss: 0.001023\tTrain Accuracy:99.45%\n",
      " Test set \u001b[1;31m154\u001b[0m : Avg. loss: 0.0110, Accuracy: 9972/10000  \u001b[1;31m(99.72%)\u001b[0m\n",
      " 第 155 次 Train Epoch: [60000/60000 (100%)]\tLoss: 0.015589\tTrain Accuracy:99.42%\n",
      " Test set \u001b[1;31m155\u001b[0m : Avg. loss: 0.0111, Accuracy: 9972/10000  \u001b[1;31m(99.72%)\u001b[0m\n",
      "Epoch    11: reducing learning rate of group 0 to 3.1250e-05.\n",
      " 第 156 次 Train Epoch: [60000/60000 (100%)]\tLoss: 0.013679\tTrain Accuracy:99.45%\n",
      " Test set \u001b[1;31m156\u001b[0m : Avg. loss: 0.0111, Accuracy: 9972/10000  \u001b[1;31m(99.72%)\u001b[0m\n",
      " 第 157 次 Train Epoch: [60000/60000 (100%)]\tLoss: 0.005415\tTrain Accuracy:99.49%\n",
      " Test set \u001b[1;31m157\u001b[0m : Avg. loss: 0.0110, Accuracy: 9973/10000  \u001b[1;31m(99.73%)\u001b[0m\n",
      "Epoch    13: reducing learning rate of group 0 to 1.5625e-05.\n",
      " 第 158 次 Train Epoch: [60000/60000 (100%)]\tLoss: 0.020522\tTrain Accuracy:99.48%\n",
      " Test set \u001b[1;31m158\u001b[0m : Avg. loss: 0.0111, Accuracy: 9972/10000  \u001b[1;31m(99.72%)\u001b[0m\n",
      " 第 159 次 Train Epoch: [60000/60000 (100%)]\tLoss: 0.005758\tTrain Accuracy:99.50%\n",
      " Test set \u001b[1;31m159\u001b[0m : Avg. loss: 0.0110, Accuracy: 9971/10000  \u001b[1;31m(99.71%)\u001b[0m\n",
      "Epoch    15: reducing learning rate of group 0 to 7.8125e-06.\n",
      " 第 160 次 Train Epoch: [60000/60000 (100%)]\tLoss: 0.018121\tTrain Accuracy:99.48%\n",
      " Test set \u001b[1;31m160\u001b[0m : Avg. loss: 0.0111, Accuracy: 9972/10000  \u001b[1;31m(99.72%)\u001b[0m\n",
      " 第 161 次 Train Epoch: [60000/60000 (100%)]\tLoss: 0.005526\tTrain Accuracy:99.51%\n",
      " Test set \u001b[1;31m161\u001b[0m : Avg. loss: 0.0111, Accuracy: 9973/10000  \u001b[1;31m(99.73%)\u001b[0m\n",
      "Epoch    17: reducing learning rate of group 0 to 3.9063e-06.\n",
      " 第 162 次 Train Epoch: [60000/60000 (100%)]\tLoss: 0.010235\tTrain Accuracy:99.46%\n",
      " Test set \u001b[1;31m162\u001b[0m : Avg. loss: 0.0109, Accuracy: 9973/10000  \u001b[1;31m(99.73%)\u001b[0m\n",
      " 第 163 次 Train Epoch: [60000/60000 (100%)]\tLoss: 0.034858\tTrain Accuracy:99.48%\n",
      " Test set \u001b[1;31m163\u001b[0m : Avg. loss: 0.0111, Accuracy: 9971/10000  \u001b[1;31m(99.71%)\u001b[0m\n",
      "Epoch    19: reducing learning rate of group 0 to 1.9531e-06.\n",
      " 第 164 次 Train Epoch: [60000/60000 (100%)]\tLoss: 0.001892\tTrain Accuracy:99.44%\n",
      " Test set \u001b[1;31m164\u001b[0m : Avg. loss: 0.0110, Accuracy: 9972/10000  \u001b[1;31m(99.72%)\u001b[0m\n",
      " 第 165 次 Train Epoch: [60000/60000 (100%)]\tLoss: 0.011245\tTrain Accuracy:99.48%\n",
      " Test set \u001b[1;31m165\u001b[0m : Avg. loss: 0.0109, Accuracy: 9972/10000  \u001b[1;31m(99.72%)\u001b[0m\n",
      "Epoch    21: reducing learning rate of group 0 to 9.7656e-07.\n",
      " 第 166 次 Train Epoch: [60000/60000 (100%)]\tLoss: 0.000680\tTrain Accuracy:99.53%\n",
      " Test set \u001b[1;31m166\u001b[0m : Avg. loss: 0.0110, Accuracy: 9972/10000  \u001b[1;31m(99.72%)\u001b[0m\n",
      " 第 167 次 Train Epoch: [60000/60000 (100%)]\tLoss: 0.031750\tTrain Accuracy:99.52%\n",
      " Test set \u001b[1;31m167\u001b[0m : Avg. loss: 0.0112, Accuracy: 9970/10000  \u001b[1;31m(99.70%)\u001b[0m\n",
      "Epoch    23: reducing learning rate of group 0 to 4.8828e-07.\n",
      " 第 168 次 Train Epoch: [60000/60000 (100%)]\tLoss: 0.022961\tTrain Accuracy:99.44%\n",
      " Test set \u001b[1;31m168\u001b[0m : Avg. loss: 0.0111, Accuracy: 9972/10000  \u001b[1;31m(99.72%)\u001b[0m\n",
      " 第 169 次 Train Epoch: [60000/60000 (100%)]\tLoss: 0.044050\tTrain Accuracy:99.47%\n",
      " Test set \u001b[1;31m169\u001b[0m : Avg. loss: 0.0112, Accuracy: 9970/10000  \u001b[1;31m(99.70%)\u001b[0m\n",
      "Epoch    25: reducing learning rate of group 0 to 2.4414e-07.\n",
      " 第 170 次 Train Epoch: [60000/60000 (100%)]\tLoss: 0.006454\tTrain Accuracy:99.52%\n",
      " Test set \u001b[1;31m170\u001b[0m : Avg. loss: 0.0110, Accuracy: 9971/10000  \u001b[1;31m(99.71%)\u001b[0m\n",
      "\n",
      "\u001b[1;31mThe network Max Avg Accuracy : 99.75%\u001b[0m\n"
     ]
    }
   ],
   "source": [
    "for epoch in range(146, 171):\n",
    "    scheduler.step(train_acces[-1])\n",
    "    train(epoch)\n",
    "    test(epoch)\n",
    "print('\\n\\033[1;31mThe network Max Avg Accuracy : {:.2f}%\\033[0m'.format(100. * max(test_acces)))"
   ]
  },
  {
   "cell_type": "code",
   "execution_count": 41,
   "id": "a9ec56de",
   "metadata": {
    "code_folding": []
   },
   "outputs": [],
   "source": [
    "# 实例化一个网络\n",
    "network = CNNModel()\n",
    "#加载模型\n",
    "model_path = \"./model02.pth\"\n",
    "network.load_state_dict(torch.load(model_path))\n",
    "\n",
    "network.to(device)\n",
    "\n",
    "\n",
    "#network.apply(weights_init)\n",
    "# 设置优化器，用stochastic gradient descent，设置学习率，设置momentum\n",
    "#optimizer = optim.SGD(network.parameters(), lr=learning_rate, momentum=momentum)\n",
    "#optimizer = optim.Adam(network.parameters(), lr=learning_rate)\n",
    "optimizer = optim.RMSprop(network.parameters(),lr=2.4414e-07,alpha=0.99,momentum = momentum)\n",
    "scheduler = lr_scheduler.ReduceLROnPlateau(optimizer, mode='min', factor=0.5, patience=1, verbose=True, threshold=1e-10, threshold_mode='rel', cooldown=0, min_lr=0, eps=1e-12)\n"
   ]
  },
  {
   "cell_type": "code",
   "execution_count": 42,
   "id": "8109b194",
   "metadata": {
    "code_folding": []
   },
   "outputs": [
    {
     "name": "stdout",
     "output_type": "stream",
     "text": [
      " 第 171 次 Train Epoch: [60000/60000 (100%)]\tLoss: 0.006418\tTrain Accuracy:99.43%\n",
      " Test set \u001b[1;31m171\u001b[0m : Avg. loss: 0.0111, Accuracy: 9974/10000  \u001b[1;31m(99.74%)\u001b[0m\n",
      " 第 172 次 Train Epoch: [60000/60000 (100%)]\tLoss: 0.003037\tTrain Accuracy:99.44%\n",
      " Test set \u001b[1;31m172\u001b[0m : Avg. loss: 0.0111, Accuracy: 9975/10000  \u001b[1;31m(99.75%)\u001b[0m\n",
      " 第 173 次 Train Epoch: [60000/60000 (100%)]\tLoss: 0.032966\tTrain Accuracy:99.46%\n",
      " Test set \u001b[1;31m173\u001b[0m : Avg. loss: 0.0111, Accuracy: 9974/10000  \u001b[1;31m(99.74%)\u001b[0m\n",
      " 第 174 次 Train Epoch: [60000/60000 (100%)]\tLoss: 0.013580\tTrain Accuracy:99.44%\n",
      " Test set \u001b[1;31m174\u001b[0m : Avg. loss: 0.0110, Accuracy: 9975/10000  \u001b[1;31m(99.75%)\u001b[0m\n",
      " 第 175 次 Train Epoch: [60000/60000 (100%)]\tLoss: 0.022338\tTrain Accuracy:99.43%\n",
      " Test set \u001b[1;31m175\u001b[0m : Avg. loss: 0.0110, Accuracy: 9974/10000  \u001b[1;31m(99.74%)\u001b[0m\n",
      " 第 176 次 Train Epoch: [60000/60000 (100%)]\tLoss: 0.006796\tTrain Accuracy:99.44%\n",
      " Test set \u001b[1;31m176\u001b[0m : Avg. loss: 0.0112, Accuracy: 9974/10000  \u001b[1;31m(99.74%)\u001b[0m\n",
      " 第 177 次 Train Epoch: [60000/60000 (100%)]\tLoss: 0.001646\tTrain Accuracy:99.49%\n",
      " Test set \u001b[1;31m177\u001b[0m : Avg. loss: 0.0110, Accuracy: 9973/10000  \u001b[1;31m(99.73%)\u001b[0m\n",
      "Epoch     8: reducing learning rate of group 0 to 1.2207e-07.\n",
      " 第 178 次 Train Epoch: [60000/60000 (100%)]\tLoss: 0.019728\tTrain Accuracy:99.46%\n",
      " Test set \u001b[1;31m178\u001b[0m : Avg. loss: 0.0113, Accuracy: 9975/10000  \u001b[1;31m(99.75%)\u001b[0m\n",
      " 第 179 次 Train Epoch: [60000/60000 (100%)]\tLoss: 0.005826\tTrain Accuracy:99.47%\n",
      " Test set \u001b[1;31m179\u001b[0m : Avg. loss: 0.0111, Accuracy: 9974/10000  \u001b[1;31m(99.74%)\u001b[0m\n",
      "Epoch    10: reducing learning rate of group 0 to 6.1035e-08.\n",
      " 第 180 次 Train Epoch: [60000/60000 (100%)]\tLoss: 0.020790\tTrain Accuracy:99.41%\n",
      " Test set \u001b[1;31m180\u001b[0m : Avg. loss: 0.0112, Accuracy: 9975/10000  \u001b[1;31m(99.75%)\u001b[0m\n",
      " 第 181 次 Train Epoch: [60000/60000 (100%)]\tLoss: 0.028073\tTrain Accuracy:99.44%\n",
      " Test set \u001b[1;31m181\u001b[0m : Avg. loss: 0.0110, Accuracy: 9974/10000  \u001b[1;31m(99.74%)\u001b[0m\n",
      "Epoch    12: reducing learning rate of group 0 to 3.0518e-08.\n",
      " 第 182 次 Train Epoch: [60000/60000 (100%)]\tLoss: 0.007735\tTrain Accuracy:99.43%\n",
      " Test set \u001b[1;31m182\u001b[0m : Avg. loss: 0.0111, Accuracy: 9975/10000  \u001b[1;31m(99.75%)\u001b[0m\n",
      " 第 183 次 Train Epoch: [60000/60000 (100%)]\tLoss: 0.006193\tTrain Accuracy:99.47%\n",
      " Test set \u001b[1;31m183\u001b[0m : Avg. loss: 0.0111, Accuracy: 9975/10000  \u001b[1;31m(99.75%)\u001b[0m\n",
      "Epoch    14: reducing learning rate of group 0 to 1.5259e-08.\n",
      " 第 184 次 Train Epoch: [60000/60000 (100%)]\tLoss: 0.003877\tTrain Accuracy:99.40%\n",
      " Test set \u001b[1;31m184\u001b[0m : Avg. loss: 0.0111, Accuracy: 9974/10000  \u001b[1;31m(99.74%)\u001b[0m\n",
      " 第 185 次 Train Epoch: [60000/60000 (100%)]\tLoss: 0.051248\tTrain Accuracy:99.45%\n",
      " Test set \u001b[1;31m185\u001b[0m : Avg. loss: 0.0111, Accuracy: 9974/10000  \u001b[1;31m(99.74%)\u001b[0m\n",
      "Epoch    16: reducing learning rate of group 0 to 7.6294e-09.\n",
      " 第 186 次 Train Epoch: [60000/60000 (100%)]\tLoss: 0.033292\tTrain Accuracy:99.45%\n",
      " Test set \u001b[1;31m186\u001b[0m : Avg. loss: 0.0112, Accuracy: 9974/10000  \u001b[1;31m(99.74%)\u001b[0m\n",
      " 第 187 次 Train Epoch: [60000/60000 (100%)]\tLoss: 0.003494\tTrain Accuracy:99.42%\n",
      " Test set \u001b[1;31m187\u001b[0m : Avg. loss: 0.0111, Accuracy: 9974/10000  \u001b[1;31m(99.74%)\u001b[0m\n",
      "Epoch    18: reducing learning rate of group 0 to 3.8147e-09.\n",
      " 第 188 次 Train Epoch: [60000/60000 (100%)]\tLoss: 0.016939\tTrain Accuracy:99.40%\n",
      " Test set \u001b[1;31m188\u001b[0m : Avg. loss: 0.0111, Accuracy: 9975/10000  \u001b[1;31m(99.75%)\u001b[0m\n",
      " 第 189 次 Train Epoch: [60000/60000 (100%)]\tLoss: 0.025975\tTrain Accuracy:99.44%\n",
      " Test set \u001b[1;31m189\u001b[0m : Avg. loss: 0.0111, Accuracy: 9975/10000  \u001b[1;31m(99.75%)\u001b[0m\n",
      "Epoch    20: reducing learning rate of group 0 to 1.9073e-09.\n",
      " 第 190 次 Train Epoch: [60000/60000 (100%)]\tLoss: 0.066607\tTrain Accuracy:99.54%\n",
      " Test set \u001b[1;31m190\u001b[0m : Avg. loss: 0.0111, Accuracy: 9973/10000  \u001b[1;31m(99.73%)\u001b[0m\n",
      " 第 191 次 Train Epoch: [60000/60000 (100%)]\tLoss: 0.019164\tTrain Accuracy:99.43%\n",
      " Test set \u001b[1;31m191\u001b[0m : Avg. loss: 0.0112, Accuracy: 9974/10000  \u001b[1;31m(99.74%)\u001b[0m\n",
      "Epoch    22: reducing learning rate of group 0 to 9.5367e-10.\n",
      " 第 192 次 Train Epoch: [60000/60000 (100%)]\tLoss: 0.043340\tTrain Accuracy:99.45%\n",
      " Test set \u001b[1;31m192\u001b[0m : Avg. loss: 0.0111, Accuracy: 9973/10000  \u001b[1;31m(99.73%)\u001b[0m\n",
      " 第 193 次 Train Epoch: [60000/60000 (100%)]\tLoss: 0.001727\tTrain Accuracy:99.44%\n",
      " Test set \u001b[1;31m193\u001b[0m : Avg. loss: 0.0111, Accuracy: 9975/10000  \u001b[1;31m(99.75%)\u001b[0m\n",
      "Epoch    24: reducing learning rate of group 0 to 4.7684e-10.\n",
      " 第 194 次 Train Epoch: [60000/60000 (100%)]\tLoss: 0.005653\tTrain Accuracy:99.48%\n",
      " Test set \u001b[1;31m194\u001b[0m : Avg. loss: 0.0110, Accuracy: 9975/10000  \u001b[1;31m(99.75%)\u001b[0m\n",
      " 第 195 次 Train Epoch: [60000/60000 (100%)]\tLoss: 0.006054\tTrain Accuracy:99.45%\n",
      " Test set \u001b[1;31m195\u001b[0m : Avg. loss: 0.0109, Accuracy: 9975/10000  \u001b[1;31m(99.75%)\u001b[0m\n",
      " 第 196 次 Train Epoch: [60000/60000 (100%)]\tLoss: 0.019040\tTrain Accuracy:99.45%\n",
      " Test set \u001b[1;31m196\u001b[0m : Avg. loss: 0.0111, Accuracy: 9974/10000  \u001b[1;31m(99.74%)\u001b[0m\n",
      " 第 197 次 Train Epoch: [60000/60000 (100%)]\tLoss: 0.037719\tTrain Accuracy:99.43%\n",
      " Test set \u001b[1;31m197\u001b[0m : Avg. loss: 0.0110, Accuracy: 9974/10000  \u001b[1;31m(99.74%)\u001b[0m\n",
      "Epoch    28: reducing learning rate of group 0 to 2.3842e-10.\n",
      " 第 198 次 Train Epoch: [60000/60000 (100%)]\tLoss: 0.034736\tTrain Accuracy:99.46%\n",
      " Test set \u001b[1;31m198\u001b[0m : Avg. loss: 0.0111, Accuracy: 9975/10000  \u001b[1;31m(99.75%)\u001b[0m\n",
      " 第 199 次 Train Epoch: [60000/60000 (100%)]\tLoss: 0.009263\tTrain Accuracy:99.44%\n",
      " Test set \u001b[1;31m199\u001b[0m : Avg. loss: 0.0111, Accuracy: 9975/10000  \u001b[1;31m(99.75%)\u001b[0m\n",
      "Epoch    30: reducing learning rate of group 0 to 1.1921e-10.\n",
      " 第 200 次 Train Epoch: [60000/60000 (100%)]\tLoss: 0.003263\tTrain Accuracy:99.42%\n",
      " Test set \u001b[1;31m200\u001b[0m : Avg. loss: 0.0112, Accuracy: 9973/10000  \u001b[1;31m(99.73%)\u001b[0m\n",
      "\n",
      "\u001b[1;31mThe network Max Avg Accuracy : 99.75%\u001b[0m\n"
     ]
    }
   ],
   "source": [
    "for epoch in range(171, 201):\n",
    "    scheduler.step(test_losses[-1])\n",
    "    train(epoch)\n",
    "    test(epoch)\n",
    "print('\\n\\033[1;31mThe network Max Avg Accuracy : {:.2f}%\\033[0m'.format(100. * max(test_acces)))"
   ]
  },
  {
   "cell_type": "code",
   "execution_count": null,
   "id": "3a269c87",
   "metadata": {
    "code_folding": []
   },
   "outputs": [],
   "source": []
  },
  {
   "cell_type": "code",
   "execution_count": null,
   "id": "a498a379",
   "metadata": {},
   "outputs": [],
   "source": []
  }
 ],
 "metadata": {
  "kernelspec": {
   "display_name": "Python 3 (ipykernel)",
   "language": "python",
   "name": "python3"
  },
  "language_info": {
   "codemirror_mode": {
    "name": "ipython",
    "version": 3
   },
   "file_extension": ".py",
   "mimetype": "text/x-python",
   "name": "python",
   "nbconvert_exporter": "python",
   "pygments_lexer": "ipython3",
   "version": "3.8.12"
  },
  "varInspector": {
   "cols": {
    "lenName": 16,
    "lenType": 16,
    "lenVar": 40
   },
   "kernels_config": {
    "python": {
     "delete_cmd_postfix": "",
     "delete_cmd_prefix": "del ",
     "library": "var_list.py",
     "varRefreshCmd": "print(var_dic_list())"
    },
    "r": {
     "delete_cmd_postfix": ") ",
     "delete_cmd_prefix": "rm(",
     "library": "var_list.r",
     "varRefreshCmd": "cat(var_dic_list()) "
    }
   },
   "oldHeight": 122.4,
   "position": {
    "height": "509.4px",
    "left": "767px",
    "right": "20px",
    "top": "79px",
    "width": "737px"
   },
   "types_to_exclude": [
    "module",
    "function",
    "builtin_function_or_method",
    "instance",
    "_Feature"
   ],
   "varInspector_section_display": "block",
   "window_display": false
  }
 },
 "nbformat": 4,
 "nbformat_minor": 5
}
